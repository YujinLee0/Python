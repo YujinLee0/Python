{
 "cells": [
  {
   "cell_type": "markdown",
   "id": "d0fcd071",
   "metadata": {},
   "source": [
    "# Tuple\n",
    "- 리스트와 유사하지만 값을 **수정할 수 없으며**, 읽기만 가능\n",
    "- 튜플은 괄호( )로 생성"
   ]
  },
  {
   "cell_type": "code",
   "execution_count": 1,
   "id": "2d91e518",
   "metadata": {},
   "outputs": [],
   "source": [
    "t1  = 0\n",
    "t2 = (1,) # 항목이 하나인 경우 주의할 것\n",
    "t3 = (1,2,3)\n",
    "t4 = 1,2,3 # 괄호 생략 가능"
   ]
  },
  {
   "cell_type": "markdown",
   "id": "b663599e",
   "metadata": {},
   "source": [
    "## 튜플 인덱싱, 슬라이싱"
   ]
  },
  {
   "cell_type": "code",
   "execution_count": 2,
   "id": "30953047",
   "metadata": {},
   "outputs": [
    {
     "data": {
      "text/plain": [
       "1"
      ]
     },
     "execution_count": 2,
     "metadata": {},
     "output_type": "execute_result"
    }
   ],
   "source": [
    "t = (1,2,3,4,5,6)\n",
    "t[0]"
   ]
  },
  {
   "cell_type": "code",
   "execution_count": 3,
   "id": "7ac36557",
   "metadata": {},
   "outputs": [
    {
     "data": {
      "text/plain": [
       "(1, 2, 3)"
      ]
     },
     "execution_count": 3,
     "metadata": {},
     "output_type": "execute_result"
    }
   ],
   "source": [
    "t[:3]"
   ]
  },
  {
   "cell_type": "code",
   "execution_count": 5,
   "id": "d4b71c75",
   "metadata": {},
   "outputs": [
    {
     "data": {
      "text/plain": [
       "(5, 6)"
      ]
     },
     "execution_count": 5,
     "metadata": {},
     "output_type": "execute_result"
    }
   ],
   "source": [
    "t[4:6]"
   ]
  },
  {
   "cell_type": "code",
   "execution_count": 6,
   "id": "fb54e17d",
   "metadata": {},
   "outputs": [
    {
     "ename": "TypeError",
     "evalue": "'tuple' object does not support item assignment",
     "output_type": "error",
     "traceback": [
      "\u001b[0;31m---------------------------------------------------------------------------\u001b[0m",
      "\u001b[0;31mTypeError\u001b[0m                                 Traceback (most recent call last)",
      "Input \u001b[0;32mIn [6]\u001b[0m, in \u001b[0;36m<cell line: 1>\u001b[0;34m()\u001b[0m\n\u001b[0;32m----> 1\u001b[0m t[\u001b[38;5;241m0\u001b[39m] \u001b[38;5;241m=\u001b[39m \u001b[38;5;241m7\u001b[39m\n",
      "\u001b[0;31mTypeError\u001b[0m: 'tuple' object does not support item assignment"
     ]
    }
   ],
   "source": [
    "t[0] = 7 # tuple은 원소 변경 불가능"
   ]
  },
  {
   "cell_type": "markdown",
   "id": "889da9ee",
   "metadata": {},
   "source": [
    "## 튜플 더하기, 곱하기"
   ]
  },
  {
   "cell_type": "code",
   "execution_count": 7,
   "id": "be3057ac",
   "metadata": {},
   "outputs": [
    {
     "data": {
      "text/plain": [
       "(1, 2, 'a', 'b')"
      ]
     },
     "execution_count": 7,
     "metadata": {},
     "output_type": "execute_result"
    }
   ],
   "source": [
    "t1 = (1,2)\n",
    "t2 = ('a', 'b')\n",
    "\n",
    "t3 = t1 + t2\n",
    "t3"
   ]
  },
  {
   "cell_type": "code",
   "execution_count": 8,
   "id": "948ee934",
   "metadata": {},
   "outputs": [
    {
     "data": {
      "text/plain": [
       "(1, 2, 1, 2, 1, 2)"
      ]
     },
     "execution_count": 8,
     "metadata": {},
     "output_type": "execute_result"
    }
   ],
   "source": [
    "t1 * 3"
   ]
  },
  {
   "cell_type": "markdown",
   "id": "91d84c79",
   "metadata": {},
   "source": [
    "## 튜플 패킹, 언패킹"
   ]
  },
  {
   "cell_type": "markdown",
   "id": "75d61921",
   "metadata": {},
   "source": [
    "### 튜플 패킹 (Tuple packing)\n",
    "- 여러 데이터를 튜플로 묶는 것"
   ]
  },
  {
   "cell_type": "code",
   "execution_count": 9,
   "id": "4fe2a845",
   "metadata": {},
   "outputs": [
    {
     "data": {
      "text/plain": [
       "(1, 2, 3)"
      ]
     },
     "execution_count": 9,
     "metadata": {},
     "output_type": "execute_result"
    }
   ],
   "source": [
    "a = 1,2,3\n",
    "a"
   ]
  },
  {
   "cell_type": "markdown",
   "id": "4bcfe423",
   "metadata": {},
   "source": [
    "### 튜플 언패킹 (Tuple Unpacking)\n",
    "- 튜플의 각 항목을 여러개의 변수에 할당하는 것"
   ]
  },
  {
   "cell_type": "code",
   "execution_count": 10,
   "id": "1e6ff521",
   "metadata": {},
   "outputs": [
    {
     "name": "stdout",
     "output_type": "stream",
     "text": [
      "1 2 3\n"
     ]
    }
   ],
   "source": [
    "one, two, three = a\n",
    "print(one, two, three)"
   ]
  },
  {
   "cell_type": "markdown",
   "id": "07b11420",
   "metadata": {},
   "source": [
    "### 튜플 관련 함수\n",
    "- count, index"
   ]
  },
  {
   "cell_type": "code",
   "execution_count": 11,
   "id": "604975b0",
   "metadata": {},
   "outputs": [
    {
     "data": {
      "text/plain": [
       "0"
      ]
     },
     "execution_count": 11,
     "metadata": {},
     "output_type": "execute_result"
    }
   ],
   "source": [
    "# 값 1의 위치\n",
    "a.index(1)"
   ]
  },
  {
   "cell_type": "code",
   "execution_count": 12,
   "id": "c327c2d6",
   "metadata": {},
   "outputs": [
    {
     "data": {
      "text/plain": [
       "1"
      ]
     },
     "execution_count": 12,
     "metadata": {},
     "output_type": "execute_result"
    }
   ],
   "source": [
    "# 값 1과 일치하는 요소의 개수\n",
    "a.count(1)"
   ]
  },
  {
   "cell_type": "markdown",
   "id": "3936846f",
   "metadata": {},
   "source": [
    "# Set\n",
    "- 순서 없이 항목을 저장, 항목이 중복 될 수 없음"
   ]
  },
  {
   "cell_type": "code",
   "execution_count": 13,
   "id": "537bfd82",
   "metadata": {},
   "outputs": [],
   "source": [
    "s1 = set([1,2,3]) # 리스트 기반\n",
    "s2 = {3,4,5}"
   ]
  },
  {
   "cell_type": "code",
   "execution_count": 14,
   "id": "5ca188e3",
   "metadata": {},
   "outputs": [
    {
     "data": {
      "text/plain": [
       "'HelloHello'"
      ]
     },
     "execution_count": 14,
     "metadata": {},
     "output_type": "execute_result"
    }
   ],
   "source": [
    "word = 'Hello' * 2\n",
    "word"
   ]
  },
  {
   "cell_type": "code",
   "execution_count": 15,
   "id": "fd015c49",
   "metadata": {},
   "outputs": [
    {
     "data": {
      "text/plain": [
       "['H', 'e', 'l', 'l', 'o', 'H', 'e', 'l', 'l', 'o']"
      ]
     },
     "execution_count": 15,
     "metadata": {},
     "output_type": "execute_result"
    }
   ],
   "source": [
    "word_list = list(word)\n",
    "word_list"
   ]
  },
  {
   "cell_type": "code",
   "execution_count": 17,
   "id": "189e5ed1",
   "metadata": {},
   "outputs": [
    {
     "data": {
      "text/plain": [
       "{'H', 'e', 'l', 'o'}"
      ]
     },
     "execution_count": 17,
     "metadata": {},
     "output_type": "execute_result"
    }
   ],
   "source": [
    "s3 = set(word_list)\n",
    "s3"
   ]
  },
  {
   "cell_type": "code",
   "execution_count": 18,
   "id": "cd495b02",
   "metadata": {},
   "outputs": [],
   "source": [
    "s4 = set('Hello') # 문자열 기반"
   ]
  },
  {
   "cell_type": "code",
   "execution_count": 19,
   "id": "8d0967c1",
   "metadata": {},
   "outputs": [
    {
     "data": {
      "text/plain": [
       "('H', 'o', 'e', 'l')"
      ]
     },
     "execution_count": 19,
     "metadata": {},
     "output_type": "execute_result"
    }
   ],
   "source": [
    "# 자료형의 중복을 제거하기 위한 필터로 종종 사용\n",
    "t = tuple(s4)\n",
    "t "
   ]
  },
  {
   "cell_type": "markdown",
   "id": "cd330b27",
   "metadata": {},
   "source": [
    "## 집합 관련 함수"
   ]
  },
  {
   "cell_type": "code",
   "execution_count": 24,
   "id": "3b9f64b2",
   "metadata": {},
   "outputs": [
    {
     "data": {
      "text/plain": [
       "{1, 2, 3, 4, 5}"
      ]
     },
     "execution_count": 24,
     "metadata": {},
     "output_type": "execute_result"
    }
   ],
   "source": [
    "s = {1,2,3,4,5,3,4}\n",
    "s"
   ]
  },
  {
   "cell_type": "code",
   "execution_count": 25,
   "id": "8705ccac",
   "metadata": {},
   "outputs": [
    {
     "data": {
      "text/plain": [
       "{1, 2, 3, 4, 5, 10}"
      ]
     },
     "execution_count": 25,
     "metadata": {},
     "output_type": "execute_result"
    }
   ],
   "source": [
    "s.add(10)\n",
    "s"
   ]
  },
  {
   "cell_type": "code",
   "execution_count": 26,
   "id": "064728d7",
   "metadata": {},
   "outputs": [
    {
     "data": {
      "text/plain": [
       "{1, 3, 4, 5, 10}"
      ]
     },
     "execution_count": 26,
     "metadata": {},
     "output_type": "execute_result"
    }
   ],
   "source": [
    "s.remove(2)\n",
    "s"
   ]
  },
  {
   "cell_type": "code",
   "execution_count": 28,
   "id": "ab1c986a",
   "metadata": {},
   "outputs": [
    {
     "data": {
      "text/plain": [
       "{1, 3, 4, 5, 7, 9, 10}"
      ]
     },
     "execution_count": 28,
     "metadata": {},
     "output_type": "execute_result"
    }
   ],
   "source": [
    "s.update([1,3,5,7,9])\n",
    "s"
   ]
  },
  {
   "cell_type": "code",
   "execution_count": 29,
   "id": "0e202fd0",
   "metadata": {},
   "outputs": [
    {
     "data": {
      "text/plain": [
       "{1, 3, 4, 5, 9, 10}"
      ]
     },
     "execution_count": 29,
     "metadata": {},
     "output_type": "execute_result"
    }
   ],
   "source": [
    "s.discard(7)\n",
    "s"
   ]
  },
  {
   "cell_type": "code",
   "execution_count": 30,
   "id": "975a6e71",
   "metadata": {},
   "outputs": [
    {
     "data": {
      "text/plain": [
       "set()"
      ]
     },
     "execution_count": 30,
     "metadata": {},
     "output_type": "execute_result"
    }
   ],
   "source": [
    "s.clear()\n",
    "s"
   ]
  },
  {
   "cell_type": "markdown",
   "id": "9ab7f037",
   "metadata": {},
   "source": [
    "## 합집합, 교집합, 차집합"
   ]
  },
  {
   "cell_type": "code",
   "execution_count": 31,
   "id": "edd9885d",
   "metadata": {},
   "outputs": [
    {
     "data": {
      "text/plain": [
       "{1, 2, 3, 4, 5}"
      ]
     },
     "execution_count": 31,
     "metadata": {},
     "output_type": "execute_result"
    }
   ],
   "source": [
    "s1 = {1,2,3}\n",
    "s2 = {3,4,5}\n",
    "\n",
    "# 합집합\n",
    "s1.union(s2)"
   ]
  },
  {
   "cell_type": "code",
   "execution_count": 32,
   "id": "20b6e6ae",
   "metadata": {},
   "outputs": [
    {
     "data": {
      "text/plain": [
       "{3}"
      ]
     },
     "execution_count": 32,
     "metadata": {},
     "output_type": "execute_result"
    }
   ],
   "source": [
    "# 교집합\n",
    "s1.intersection(s2)"
   ]
  },
  {
   "cell_type": "code",
   "execution_count": 33,
   "id": "f22d7466",
   "metadata": {},
   "outputs": [
    {
     "data": {
      "text/plain": [
       "{1, 2}"
      ]
     },
     "execution_count": 33,
     "metadata": {},
     "output_type": "execute_result"
    }
   ],
   "source": [
    "# 차집합\n",
    "s1 - s2"
   ]
  },
  {
   "cell_type": "code",
   "execution_count": 34,
   "id": "35076bbd",
   "metadata": {},
   "outputs": [
    {
     "data": {
      "text/plain": [
       "{1, 2}"
      ]
     },
     "execution_count": 34,
     "metadata": {},
     "output_type": "execute_result"
    }
   ],
   "source": [
    "# 차집합\n",
    "s1.difference(s2)"
   ]
  },
  {
   "cell_type": "code",
   "execution_count": 35,
   "id": "0bb0059a",
   "metadata": {},
   "outputs": [
    {
     "data": {
      "text/plain": [
       "{1, 2, 3, 4, 5}"
      ]
     },
     "execution_count": 35,
     "metadata": {},
     "output_type": "execute_result"
    }
   ],
   "source": [
    "# 합집합\n",
    "s1 | s2"
   ]
  },
  {
   "cell_type": "code",
   "execution_count": 36,
   "id": "16a3e2e4",
   "metadata": {},
   "outputs": [
    {
     "data": {
      "text/plain": [
       "{3}"
      ]
     },
     "execution_count": 36,
     "metadata": {},
     "output_type": "execute_result"
    }
   ],
   "source": [
    "# 교집합\n",
    "s1 & s2"
   ]
  },
  {
   "cell_type": "markdown",
   "id": "dbefbad0",
   "metadata": {},
   "source": [
    "## 실습1\n",
    "- 1부터 100까지 숫자 중 3과 5의 공배수를 집합 형태로 만들어 아래와 같이 출력하시오\n",
    "- {15, 30, 45, 60, 75, 90}\n",
    "- 3와 5의 공배수: 6개"
   ]
  },
  {
   "cell_type": "code",
   "execution_count": 56,
   "id": "ef8b70da",
   "metadata": {},
   "outputs": [
    {
     "name": "stdout",
     "output_type": "stream",
     "text": [
      "{75, 45, 15, 90, 60, 30}\n",
      "3과 5의 공배수:  6 개\n"
     ]
    }
   ],
   "source": [
    "num = [x for x in range(1,101)]\n",
    "\n",
    "# 3의 배수 리스트 생성\n",
    "s3 = []\n",
    "for n in num:\n",
    "    if n % 3 == 0:\n",
    "        s3.append(n)\n",
    "    continue\n",
    "\n",
    "# 5의 배수 리스트 생성\n",
    "s5 = []\n",
    "for n in num:\n",
    "    if n % 5 == 0:\n",
    "        s5.append(n)\n",
    "    continue\n",
    "\n",
    "s3, s5 = set(s3), set(s5)\n",
    "\n",
    "# 공집합 생성\n",
    "s = s3 & s5\n",
    "\n",
    "print(s)\n",
    "print(\"3과 5의 공배수: \",len(s),\"개\")"
   ]
  },
  {
   "cell_type": "code",
   "execution_count": 74,
   "id": "f5cff61c",
   "metadata": {},
   "outputs": [
    {
     "name": "stdout",
     "output_type": "stream",
     "text": [
      "{75, 45, 15, 90, 60, 30}\n"
     ]
    }
   ],
   "source": [
    "# Answer\n",
    "s3 = set()\n",
    "s5 = set()\n",
    "\n",
    "for i in range(1,101):\n",
    "    if i % 3 == 0:\n",
    "        s3.add(i)\n",
    "    if i % 5 == 0:\n",
    "        s5.add(i)\n",
    "\n",
    "s = s3 & s5\n",
    "print(s)"
   ]
  },
  {
   "cell_type": "markdown",
   "id": "accc6ea2",
   "metadata": {},
   "source": [
    "# Dictionary\n",
    "- 중괄호 {}로 묶여있으며 key와 value의 쌍으로 이루어짐\n",
    "- d {key1: value1, key2:value2}\n",
    "- key로 value 관리\n",
    "- key는 중복 될 수 없음\n",
    "- 항목들 사이에 순서 없음"
   ]
  },
  {
   "cell_type": "code",
   "execution_count": 78,
   "id": "0dd7cccf",
   "metadata": {},
   "outputs": [
    {
     "data": {
      "text/plain": [
       "{'kim': 1, 'park': 2}"
      ]
     },
     "execution_count": 78,
     "metadata": {},
     "output_type": "execute_result"
    }
   ],
   "source": [
    "d = {}\n",
    "d['kim'] = 1 # 새 항목을 추가\n",
    "d['park'] = 2\n",
    "d"
   ]
  },
  {
   "cell_type": "code",
   "execution_count": 58,
   "id": "2eb7aa59",
   "metadata": {},
   "outputs": [
    {
     "data": {
      "text/plain": [
       "2"
      ]
     },
     "execution_count": 58,
     "metadata": {},
     "output_type": "execute_result"
    }
   ],
   "source": [
    "d['park'] # key를 사용하여 값에 접근 "
   ]
  },
  {
   "cell_type": "code",
   "execution_count": 60,
   "id": "7debd4e4",
   "metadata": {},
   "outputs": [
    {
     "data": {
      "text/plain": [
       "{'kim': 3, 'park': 2}"
      ]
     },
     "execution_count": 60,
     "metadata": {},
     "output_type": "execute_result"
    }
   ],
   "source": [
    "# 이미 있는 키의 경우 기존의 값 변경\n",
    "d['kim'] = 3\n",
    "d"
   ]
  },
  {
   "cell_type": "code",
   "execution_count": 61,
   "id": "5e8cecf0",
   "metadata": {},
   "outputs": [
    {
     "data": {
      "text/plain": [
       "{'kim': 3, 'park': 2, 'youn': 1}"
      ]
     },
     "execution_count": 61,
     "metadata": {},
     "output_type": "execute_result"
    }
   ],
   "source": [
    "d['youn'] = 1 # 새 항목 추가\n",
    "d"
   ]
  },
  {
   "cell_type": "code",
   "execution_count": 62,
   "id": "71dfbbf1",
   "metadata": {},
   "outputs": [
    {
     "data": {
      "text/plain": [
       "dict_keys(['kim', 'park', 'youn'])"
      ]
     },
     "execution_count": 62,
     "metadata": {},
     "output_type": "execute_result"
    }
   ],
   "source": [
    "d.keys() # 키만 추출"
   ]
  },
  {
   "cell_type": "code",
   "execution_count": 63,
   "id": "479d66b4",
   "metadata": {},
   "outputs": [
    {
     "data": {
      "text/plain": [
       "dict_values([3, 2, 1])"
      ]
     },
     "execution_count": 63,
     "metadata": {},
     "output_type": "execute_result"
    }
   ],
   "source": [
    "d.values() # 값만 추출"
   ]
  },
  {
   "cell_type": "code",
   "execution_count": 64,
   "id": "d20d1f42",
   "metadata": {},
   "outputs": [
    {
     "data": {
      "text/plain": [
       "dict_items([('kim', 3), ('park', 2), ('youn', 1)])"
      ]
     },
     "execution_count": 64,
     "metadata": {},
     "output_type": "execute_result"
    }
   ],
   "source": [
    "# 키와 값의 항목을 튜플 형태로 \n",
    "d.items()"
   ]
  },
  {
   "cell_type": "code",
   "execution_count": 65,
   "id": "43431f6e",
   "metadata": {},
   "outputs": [
    {
     "data": {
      "text/plain": [
       "True"
      ]
     },
     "execution_count": 65,
     "metadata": {},
     "output_type": "execute_result"
    }
   ],
   "source": [
    "# 딕셔너리에 키가 있는 경우\n",
    "'kim' in d"
   ]
  },
  {
   "cell_type": "code",
   "execution_count": 66,
   "id": "7ed75cb9",
   "metadata": {},
   "outputs": [
    {
     "data": {
      "text/plain": [
       "False"
      ]
     },
     "execution_count": 66,
     "metadata": {},
     "output_type": "execute_result"
    }
   ],
   "source": [
    "# 딕셔너리에 키가 없는 경우\n",
    "'lee' in d"
   ]
  },
  {
   "cell_type": "code",
   "execution_count": 67,
   "id": "daa93ded",
   "metadata": {},
   "outputs": [
    {
     "data": {
      "text/plain": [
       "{'park': 2, 'youn': 1}"
      ]
     },
     "execution_count": 67,
     "metadata": {},
     "output_type": "execute_result"
    }
   ],
   "source": [
    "# 항목 1개 삭제\n",
    "del d['kim']\n",
    "d"
   ]
  },
  {
   "cell_type": "code",
   "execution_count": 70,
   "id": "bbf0187d",
   "metadata": {},
   "outputs": [
    {
     "data": {
      "text/plain": [
       "{}"
      ]
     },
     "execution_count": 70,
     "metadata": {},
     "output_type": "execute_result"
    }
   ],
   "source": [
    "# 전체 삭제\n",
    "d.clear()\n",
    "d"
   ]
  },
  {
   "cell_type": "markdown",
   "id": "3b118f29",
   "metadata": {},
   "source": [
    "## 실습\n",
    "- 어떤 문장을 입력받으면 해당 문장에서 각 문자가 몇개씩 나오는지 저장하는 딕셔너리를 만든 후 아래와 같이 출력하시오\n",
    "- {'P': 1, 'y': 1, 't': 1, 'h': 1, 'o': 1, 'n': 2, ' ': 2, 'i': 1, 's': 1, 'f': 1, 'u': 1, '!': 1}"
   ]
  },
  {
   "cell_type": "code",
   "execution_count": 83,
   "id": "6e11b070",
   "metadata": {},
   "outputs": [
    {
     "name": "stdout",
     "output_type": "stream",
     "text": [
      "Enter a sentence: Python is fun!\n"
     ]
    },
    {
     "data": {
      "text/plain": [
       "{'P': 1,\n",
       " 'y': 1,\n",
       " 't': 1,\n",
       " 'h': 1,\n",
       " 'o': 1,\n",
       " 'n': 2,\n",
       " ' ': 2,\n",
       " 'i': 1,\n",
       " 's': 1,\n",
       " 'f': 1,\n",
       " 'u': 1,\n",
       " '!': 1}"
      ]
     },
     "execution_count": 83,
     "metadata": {},
     "output_type": "execute_result"
    }
   ],
   "source": [
    "# 방법1\n",
    "\n",
    "inputS = input(\"Enter a sentence: \")\n",
    "dict1 = {}\n",
    "\n",
    "for w in inputS:\n",
    "    if w in dict1:\n",
    "        dict1[w] += 1\n",
    "    elif w not in dict1:\n",
    "        dict1[w] = 1\n",
    "\n",
    "dict1"
   ]
  },
  {
   "cell_type": "code",
   "execution_count": 77,
   "id": "64c5151c",
   "metadata": {},
   "outputs": [
    {
     "name": "stdout",
     "output_type": "stream",
     "text": [
      "Enter a sentence: Python is fun!\n"
     ]
    },
    {
     "data": {
      "text/plain": [
       "defaultdict(int,\n",
       "            {'P': 1,\n",
       "             'y': 1,\n",
       "             't': 1,\n",
       "             'h': 1,\n",
       "             'o': 1,\n",
       "             'n': 2,\n",
       "             ' ': 2,\n",
       "             'i': 1,\n",
       "             's': 1,\n",
       "             'f': 1,\n",
       "             'u': 1,\n",
       "             '!': 1})"
      ]
     },
     "execution_count": 77,
     "metadata": {},
     "output_type": "execute_result"
    }
   ],
   "source": [
    "# 방법2\n",
    "\n",
    "inputS = input(\"Enter a sentence: \")\n",
    "\n",
    "\n",
    "from collections import defaultdict\n",
    "dict1 = defaultdict(int)\n",
    "\n",
    "for w in inputS:\n",
    "    dict1[w] += 1\n",
    "    \n",
    "dict1"
   ]
  },
  {
   "cell_type": "markdown",
   "id": "0684a5dc",
   "metadata": {},
   "source": [
    "# Def\n",
    "- 좋은 함수는 매개변수를 가지고 함수이름의 작업을 해서 반환값을 주는 함수로 설명이 가능함"
   ]
  },
  {
   "cell_type": "code",
   "execution_count": 89,
   "id": "73059bc3",
   "metadata": {},
   "outputs": [
    {
     "name": "stdout",
     "output_type": "stream",
     "text": [
      "300\n"
     ]
    }
   ],
   "source": [
    "# 함수 정의\n",
    "def add(a, b):\n",
    "    result = a + b\n",
    "    return result\n",
    "\n",
    "# 함수 호출\n",
    "add_result = add(100,200)\n",
    "print(add_result)"
   ]
  },
  {
   "cell_type": "code",
   "execution_count": 91,
   "id": "5edadd69",
   "metadata": {},
   "outputs": [
    {
     "name": "stdout",
     "output_type": "stream",
     "text": [
      "7\n",
      "12\n"
     ]
    }
   ],
   "source": [
    "# 튜플이나 리스트를 이용해 여러 개의 값을 반환할 수 있음\n",
    "\n",
    "def add_and_mul(a,b):\n",
    "    return (a+b, a*b)\n",
    "\n",
    "add_res, mul_res = add_and_mul(3,4)\n",
    "print(add_res)\n",
    "print(mul_res)"
   ]
  },
  {
   "cell_type": "markdown",
   "id": "60026e8f",
   "metadata": {},
   "source": [
    "## 실습 1\n",
    "- len() 구현"
   ]
  },
  {
   "cell_type": "code",
   "execution_count": 93,
   "id": "2a58a854",
   "metadata": {},
   "outputs": [
    {
     "name": "stdout",
     "output_type": "stream",
     "text": [
      "6 13\n",
      "6 13\n"
     ]
    }
   ],
   "source": [
    "def my_len(x):\n",
    "    num = 0\n",
    "    for i in x:\n",
    "        num += 1\n",
    "    return num\n",
    "\n",
    "a = [5,5,6,7,8,3]\n",
    "b = 'Life is short'\n",
    "\n",
    "print(len(a), len(b))\n",
    "print(my_len(a), my_len(b))"
   ]
  },
  {
   "cell_type": "markdown",
   "id": "ed504d97",
   "metadata": {},
   "source": [
    "## 실습 2\n",
    "- 양의 정수 a와 b를 전달받아 a부터 b까지 곱해서 반환하는 mult 함수를 작성하시오"
   ]
  },
  {
   "cell_type": "code",
   "execution_count": 94,
   "id": "ea1b01da",
   "metadata": {},
   "outputs": [
    {
     "name": "stdout",
     "output_type": "stream",
     "text": [
      "6\n",
      "120\n"
     ]
    }
   ],
   "source": [
    "def mult(a, b):\n",
    "    n = 1\n",
    "    for i in range(a,b+1):\n",
    "        n *= i\n",
    "    return n\n",
    "\n",
    "print(mult(1,3))\n",
    "print(mult(2,5))"
   ]
  },
  {
   "cell_type": "code",
   "execution_count": null,
   "id": "3d0307ef",
   "metadata": {},
   "outputs": [],
   "source": [
    "# Answer 재귀적 방식\n",
    "def mult(a,b):\n",
    "    if a == b:\n",
    "        return a\n",
    "    return mult(a, b-1) * b"
   ]
  },
  {
   "cell_type": "markdown",
   "id": "26a4fcf2",
   "metadata": {},
   "source": [
    "## 실습3\n",
    "- 숫자로 구성된 리스트를 전달받아, 리스트에서 양수 값을 더한 결 과와 음수 값을 더한 결과를 반환하는 함수를 작성하시오."
   ]
  },
  {
   "cell_type": "code",
   "execution_count": 95,
   "id": "08b6c751",
   "metadata": {},
   "outputs": [
    {
     "name": "stdout",
     "output_type": "stream",
     "text": [
      "7 -9\n",
      "1 -1\n"
     ]
    }
   ],
   "source": [
    "def sum_pos_neg(l):\n",
    "    pos = 0\n",
    "    neg = 0\n",
    "    for i in l:\n",
    "        if i >= 0:\n",
    "            pos += i\n",
    "        elif i < 0:\n",
    "            neg += i\n",
    "    return pos,neg\n",
    "\n",
    "possum,negsum = sum_pos_neg([3,4,-6,-3]) \n",
    "print(possum,negsum) \n",
    "\n",
    "mylist = [0,0,0,0,0,0,0,0,0,1,-1]\n",
    "possum,negsum = sum_pos_neg(mylist) \n",
    "print(possum,negsum) "
   ]
  },
  {
   "cell_type": "code",
   "execution_count": 111,
   "id": "8fac508f",
   "metadata": {},
   "outputs": [],
   "source": [
    "# Answer - 재귀적 방식 \n",
    "def sum_pos_neg(l):\n",
    "    if not l: # list가 비어있을 때 \n",
    "        return 0,0\n",
    "    x = l.pop()\n",
    "    pos, neg = sum_pos_neg(l)\n",
    "    if x > 0:\n",
    "        post += x\n",
    "    elif x < 0:\n",
    "        neg += x\n",
    "    return pos, neg"
   ]
  },
  {
   "cell_type": "markdown",
   "id": "7a6dbb2c",
   "metadata": {},
   "source": [
    "## 가변 매개변수\n",
    "- 매개변수가 몇 개인지 모를 경우\n"
   ]
  },
  {
   "cell_type": "code",
   "execution_count": null,
   "id": "f46ed1de",
   "metadata": {},
   "outputs": [],
   "source": [
    "def f1(a , b*):  # 정상\n",
    "\n",
    "def f2(a, b*, c):  # 에러\n",
    "    \n",
    "def f3(*a, *b): # 에러\n",
    "    \n",
    "def f4(a,b,*c): "
   ]
  },
  {
   "cell_type": "code",
   "execution_count": 96,
   "id": "4d7c2a71",
   "metadata": {},
   "outputs": [
    {
     "data": {
      "text/plain": [
       "2"
      ]
     },
     "execution_count": 96,
     "metadata": {},
     "output_type": "execute_result"
    }
   ],
   "source": [
    "# 짝수 개수 구하기\n",
    "def count_even(*n):\n",
    "    cnt = 0\n",
    "    for v in n:\n",
    "        if v % 2 == 0:\n",
    "            cnt += 1\n",
    "    return cnt\n",
    "\n",
    "count_even(1,2,3,4,5)"
   ]
  },
  {
   "cell_type": "markdown",
   "id": "fcc4a5c3",
   "metadata": {},
   "source": [
    "## 실습 4\n",
    "- 1개 이상의 2차원 벡터들을 전달받아 벡터들의 합을 구하여 반환 하는 함수를 작성하시오."
   ]
  },
  {
   "cell_type": "code",
   "execution_count": 124,
   "id": "694e48b4",
   "metadata": {},
   "outputs": [
    {
     "name": "stdout",
     "output_type": "stream",
     "text": [
      "[1.5, 1.5]\n",
      "[7.5, 5.5]\n",
      "[4.140000000000001, 2.72]\n",
      "[1.5, 1.5] [7.5, 5.5] [4.140000000000001, 2.72]\n"
     ]
    }
   ],
   "source": [
    "# Answer\n",
    "def vector_sum(vector, *vectors):\n",
    "    result = vector.copy()  # vector 리스트가 함수 이후 값이 바뀌는걸 방지하기 위해 =가 아닌 copy 사용\n",
    "    for x,y in vectors:\n",
    "        result[0] += x\n",
    "        result[1] += y\n",
    "    print(result)\n",
    "    return result\n",
    "\n",
    "v1=[0, 1]\n",
    "v2=[0.5, 0.5]\n",
    "v3=[1, 0]\n",
    "v4=[6, 4]\n",
    "v5=[3.14, 2.72]\n",
    "m1 = vector_sum(v1, v2, v3)\n",
    "m2 = vector_sum(v1, v2, v3, v4) \n",
    "m3 = vector_sum(v3, v5) \n",
    "print(m1,m2,m3)"
   ]
  },
  {
   "cell_type": "markdown",
   "id": "8720f185",
   "metadata": {},
   "source": [
    "## 디폴트 매개변수\n",
    "- 매개변수의 기본값을 지정해줄 수 있다.\n",
    "    - 함수 호출 시, 해당 매개변수에 대응되는 값을 주지 않으면 정의할 때 지정한 기본 값을 가짐"
   ]
  },
  {
   "cell_type": "code",
   "execution_count": 110,
   "id": "bd4e9f7a",
   "metadata": {},
   "outputs": [
    {
     "name": "stdout",
     "output_type": "stream",
     "text": [
      "My name is Gildong Hong.\n",
      "My name is Gildong Kim.\n"
     ]
    }
   ],
   "source": [
    "def print_name(first, second = \"Kim\"):\n",
    "    print('My name is', first, second + '.')\n",
    "\n",
    "# 함수 호출\n",
    "print_name('Gildong', 'Hong')\n",
    "print_name('Gildong')"
   ]
  },
  {
   "cell_type": "code",
   "execution_count": null,
   "id": "4b8d6b9d",
   "metadata": {},
   "outputs": [],
   "source": [
    "# 앞 매개변수가 디폴트 값을 가지면, 뒤에 오늘 매개변수는 반드시 디폴트 값을 가져야 함\n",
    "def print_name(first, second=\"Kim\"): # 정상\n",
    "\n",
    "def print_name(first='Kim', second): # 에러발생"
   ]
  },
  {
   "cell_type": "markdown",
   "id": "3973d4c8",
   "metadata": {},
   "source": [
    "## 키워드 매개변수\n",
    "- 함수 호출 시, 해당 매개변수 이름을 명시적으로 지정해서 전달"
   ]
  },
  {
   "cell_type": "code",
   "execution_count": 113,
   "id": "7de60c4d",
   "metadata": {},
   "outputs": [
    {
     "name": "stdout",
     "output_type": "stream",
     "text": [
      "60\n"
     ]
    },
    {
     "data": {
      "text/plain": [
       "60"
      ]
     },
     "execution_count": 113,
     "metadata": {},
     "output_type": "execute_result"
    }
   ],
   "source": [
    "def calc(x, y=0, z=0):\n",
    "    return x + y + z\n",
    "\n",
    "result = calc(y = 20, x = 10, z = 30) # 매개변수 순서 상관 없음\n",
    "print(result)\n",
    "\n",
    "calc(y = 20, x = 10)\n",
    "calc(10, y = 30, z = 20)\n",
    "calc(10, 30, y =20) # 에러발생, 이렇게 되면 y를 두번 대입하는 것과 같기에 "
   ]
  },
  {
   "cell_type": "markdown",
   "id": "913a4abb",
   "metadata": {},
   "source": [
    "## 실습 5\n",
    "- 숫자로 구성된 리스트 2개를 받아서 이 두 리스트를 합친 후에 정 렬한 새로운 리스트를 반환하는 함수를 작성하시오.\n",
    "- 단, 매개변수의 값이 주어지지 않으면, [0]이 기본적으로 주어진다"
   ]
  },
  {
   "cell_type": "code",
   "execution_count": 116,
   "id": "cf5ec298",
   "metadata": {},
   "outputs": [
    {
     "name": "stdout",
     "output_type": "stream",
     "text": [
      "[1, 1, 2, 2, 3, 5, 9]\n",
      "[0, 4, 6, 9]\n",
      "[0, 0]\n"
     ]
    }
   ],
   "source": [
    "def merge_list(list1 = [0], list2 = [0]):\n",
    "    return sorted(list1 + list2)\n",
    "\n",
    "l = [3, 5, 9, 1, 2]\n",
    "ml1 = merge_list(l,[2,1])\n",
    "ml2 = merge_list([6,9,4])\n",
    "ml3 = merge_list()\n",
    "print(ml1) # [1, 1, 2, 2, 3, 5, 9] \n",
    "print(ml2) # [0, 4, 6, 9] \n",
    "print(ml3) # [0, 0]"
   ]
  },
  {
   "cell_type": "markdown",
   "id": "3e0ad7cd",
   "metadata": {},
   "source": [
    "## 지역변수, 전역변수\n",
    "- 지역변수(Local Variable): 함수 안에서 만들어져 함수 안에서만 사용하는 변수\n",
    "- 전역변수(Global Variable): 함수 밖에서 만들어져 아무데서나 사용할 수 있는 변수\n",
    "    - 단, 함수 안에서 전역변수 수정 불가"
   ]
  },
  {
   "cell_type": "code",
   "execution_count": 119,
   "id": "5a0dd8e2",
   "metadata": {},
   "outputs": [],
   "source": [
    "# 지역변수\n",
    "def add_value(a,b):\n",
    "    add_res = a + b\n",
    "    return add_res\n",
    "x = 10\n",
    "y = 20\n",
    "res = add_value(x, y)\n",
    "# print(add_res) 에러발생"
   ]
  },
  {
   "cell_type": "code",
   "execution_count": 120,
   "id": "babc4469",
   "metadata": {},
   "outputs": [
    {
     "name": "stdout",
     "output_type": "stream",
     "text": [
      "30\n"
     ]
    }
   ],
   "source": [
    "# 전역변수\n",
    "def addX(_x):\n",
    "    return x + _x\n",
    "\n",
    "x = 10\n",
    "y = 20\n",
    "\n",
    "res = addX(y)\n",
    "print(res)"
   ]
  },
  {
   "cell_type": "code",
   "execution_count": null,
   "id": "37a87a3f",
   "metadata": {},
   "outputs": [],
   "source": [
    "# 함수 안에서는 전역변수 수정이 불가능하다. 수정하려면 global 키워드를 사용해야한다.\n",
    "def addX(_x):\n",
    "    x = x + _x # 에러발생"
   ]
  },
  {
   "cell_type": "code",
   "execution_count": 121,
   "id": "d4b3c5ee",
   "metadata": {},
   "outputs": [
    {
     "name": "stdout",
     "output_type": "stream",
     "text": [
      "30\n"
     ]
    }
   ],
   "source": [
    "def addX(_x):\n",
    "    global x # 전역변수임을 명시해주고 사용해야한다.\n",
    "    x = x + _x\n",
    "\n",
    "x = 10\n",
    "y = 20\n",
    "\n",
    "addX(y)\n",
    "print(x)"
   ]
  },
  {
   "cell_type": "markdown",
   "id": "4c5db07e",
   "metadata": {},
   "source": [
    "# Module\n",
    "- 많이 사용하는 함수를 만들어 놓고, 프로그램에서 해당 함수 사용시, import하여 사용하면 편리함"
   ]
  },
  {
   "cell_type": "markdown",
   "id": "93f88601",
   "metadata": {},
   "source": [
    "## 모듈의 작성과 사용\n",
    "- 모듈로 사용할 파일과 호출하는 파일은 모두 같은 폴더에 저장\n",
    "- 모듈이름 생략하고 함수이름만으로 사용하고 싶다면 from 모듈명 import *\n"
   ]
  },
  {
   "cell_type": "markdown",
   "id": "b0a3e4d0",
   "metadata": {},
   "source": [
    "## 난수(Random Number) 생성"
   ]
  },
  {
   "cell_type": "code",
   "execution_count": 126,
   "id": "df80982f",
   "metadata": {},
   "outputs": [
    {
     "data": {
      "text/plain": [
       "7"
      ]
     },
     "execution_count": 126,
     "metadata": {},
     "output_type": "execute_result"
    }
   ],
   "source": [
    "import random\n",
    "\n",
    "# 리스트에서 랜덤하게 선택\n",
    "random.choice('abcdefg')\n",
    "\n",
    "# a 이상 b이하인 임의의 정수 뽑기 (a, b: int타입)\n",
    "random.randint(0,1) # a~b 정수값 중 하나\n",
    "random.randrange(0, 7+1) # randint(a,b)와 동일한 기능"
   ]
  },
  {
   "cell_type": "code",
   "execution_count": 127,
   "id": "e972aed1",
   "metadata": {},
   "outputs": [
    {
     "name": "stdout",
     "output_type": "stream",
     "text": [
      "[2, 3, 1, 4, 5]\n"
     ]
    }
   ],
   "source": [
    "# 리스트 내용 랜덤으로 섞기\n",
    "Ls = [1,2,3,4,5]\n",
    "random.shuffle(Ls)\n",
    "print(Ls)"
   ]
  },
  {
   "cell_type": "code",
   "execution_count": 128,
   "id": "97ae123b",
   "metadata": {},
   "outputs": [
    {
     "data": {
      "text/plain": [
       "[1, 4, 2]"
      ]
     },
     "execution_count": 128,
     "metadata": {},
     "output_type": "execute_result"
    }
   ],
   "source": [
    "# 리스트 중 랜덤으로 여러 개 뽑기\n",
    "random.sample([1,2,3,4,5,6],3) #첫번쨰 리스트에서 3개의 랜덤한 값 뽑기"
   ]
  },
  {
   "cell_type": "markdown",
   "id": "c667bfa9",
   "metadata": {},
   "source": [
    "## 실습6\n",
    "\n",
    "- 로또 번호 자동 기입 프로그램\n",
    "- 5개의 로또 번호 조합을 출력해주는 프로그램을 작성\n",
    "- 매번 1~45 숫자 중 6개를 임의로 선택 후 정렬하여 출력  각 줄은 중복된 번호를 가질 수 없음"
   ]
  },
  {
   "cell_type": "code",
   "execution_count": 133,
   "id": "b934c966",
   "metadata": {},
   "outputs": [
    {
     "name": "stdout",
     "output_type": "stream",
     "text": [
      "** 로또 번호 자동 기입을 시작합니다. **\n",
      "1번째 자동 기입 ==>  [2, 5, 12, 25, 33, 38]\n",
      "2번째 자동 기입 ==>  [15, 18, 29, 31, 32, 38]\n",
      "3번째 자동 기입 ==>  [20, 26, 31, 32, 34, 45]\n",
      "4번째 자동 기입 ==>  [15, 18, 20, 21, 33, 35]\n",
      "5번째 자동 기입 ==>  [14, 16, 18, 19, 23, 30]\n",
      "6번째 자동 기입 ==>  [15, 22, 24, 32, 38, 42]\n"
     ]
    }
   ],
   "source": [
    "numList = [x for x in range(1,46)]\n",
    "\n",
    "print(\"** 로또 번호 자동 기입을 시작합니다. **\")\n",
    "for i in range(1,7):\n",
    "    choice = random.sample(numList, 6)\n",
    "    print(f\"{i}번째 자동 기입 ==> \", sorted(choice))\n"
   ]
  },
  {
   "cell_type": "markdown",
   "id": "875a0473",
   "metadata": {},
   "source": [
    "## 실습 7\n",
    "- 숫자로 구성된 리스트를 전달받아 최댓값, 최솟값을 반환하고, 두 수를 리스트에서 제거하는 함수를 작성하시오.\n",
    "- 단, 리스트에 원소는 2개 이상 존재한다고 가정"
   ]
  },
  {
   "cell_type": "code",
   "execution_count": 140,
   "id": "9df9e67f",
   "metadata": {},
   "outputs": [
    {
     "name": "stdout",
     "output_type": "stream",
     "text": [
      "1\n",
      "9\n",
      "[3, 5, 2]\n"
     ]
    }
   ],
   "source": [
    "def get_min_max(l):\n",
    "    maxx = max(l)\n",
    "    minn = min(l)\n",
    "    \n",
    "    l.remove(maxx)\n",
    "    l.remove(minn)\n",
    "    return minn, maxx\n",
    "    \n",
    "l = [3,5,9,1,2]\n",
    "min_val, max_val = get_min_max(l)\n",
    "\n",
    "print(min_val)\n",
    "print(max_val)\n",
    "print(l)"
   ]
  },
  {
   "cell_type": "markdown",
   "id": "2836a9f0",
   "metadata": {},
   "source": [
    "## 실습 8\n",
    "\n",
    "- 두 딕셔너리를 전달받아 각 딕셔너리에 등장한 값을 모두 더한 새로운 딕셔너리를 반환하는 함수 comb_dict()를 작성하시오"
   ]
  },
  {
   "cell_type": "code",
   "execution_count": 212,
   "id": "b15fd70d",
   "metadata": {},
   "outputs": [
    {
     "name": "stdout",
     "output_type": "stream",
     "text": [
      "{'a': 3, 'b': 3, 'd': 7, 'e': 9, 'c': 4}\n"
     ]
    }
   ],
   "source": [
    "def comb_dict(d1, d2):\n",
    "    d3 = d1.copy()\n",
    "    \n",
    "    for i in d2:\n",
    "            if i in d3:\n",
    "                d3[i] += d2[i]\n",
    "            else:\n",
    "                d3[i] = d2[i]\n",
    "    return d3\n",
    "\n",
    "d1 = {'a': 1, 'b': 3, 'd': 7, 'e': 8} \n",
    "d2 = {'a': 2, 'c': 4, 'e': 1}\n",
    "d3 = comb_dict(d1, d2)\n",
    "print(d3)"
   ]
  },
  {
   "cell_type": "markdown",
   "id": "e6d2504f",
   "metadata": {},
   "source": [
    "## 실습 9\n",
    "- 숫자를 2개 이상 입력 받아, 최댓값과 최솟값의 차를 반환하는 함수를 작성하시오."
   ]
  },
  {
   "cell_type": "code",
   "execution_count": 150,
   "id": "ba16c7dd",
   "metadata": {},
   "outputs": [
    {
     "name": "stdout",
     "output_type": "stream",
     "text": [
      "4\n",
      "300\n"
     ]
    }
   ],
   "source": [
    "def diff(a, b, *c): # 두개 이상의 값을 받아야하므로 매개변수 두개 + *c\n",
    "    list_ = [] \n",
    "    list_.append(a) \n",
    "    list_.append(b)\n",
    "    for i in c:\n",
    "        list_.append(i)\n",
    "    maxx = max(list_)\n",
    "    minn = min(list_)\n",
    "    return maxx - minn\n",
    "\n",
    "print(diff(1,2,3,4,5))\n",
    "print(diff(-100, 200))"
   ]
  },
  {
   "cell_type": "code",
   "execution_count": 151,
   "id": "e058d523",
   "metadata": {},
   "outputs": [
    {
     "ename": "TypeError",
     "evalue": "diff() missing 1 required positional argument: 'b'",
     "output_type": "error",
     "traceback": [
      "\u001b[0;31m---------------------------------------------------------------------------\u001b[0m",
      "\u001b[0;31mTypeError\u001b[0m                                 Traceback (most recent call last)",
      "Input \u001b[0;32mIn [151]\u001b[0m, in \u001b[0;36m<cell line: 1>\u001b[0;34m()\u001b[0m\n\u001b[0;32m----> 1\u001b[0m \u001b[43mdiff\u001b[49m\u001b[43m(\u001b[49m\u001b[38;5;241;43m1\u001b[39;49m\u001b[43m)\u001b[49m\n",
      "\u001b[0;31mTypeError\u001b[0m: diff() missing 1 required positional argument: 'b'"
     ]
    }
   ],
   "source": [
    "diff(1) # 매개변수를 하나만 지정해주었기에 에러발생"
   ]
  },
  {
   "cell_type": "markdown",
   "id": "690cf070",
   "metadata": {},
   "source": [
    "# File"
   ]
  },
  {
   "cell_type": "markdown",
   "id": "ec7e895f",
   "metadata": {},
   "source": [
    "## 파일쓰기\n",
    "- f = open(.txt, \"r\")"
   ]
  },
  {
   "cell_type": "code",
   "execution_count": 176,
   "id": "e5ee6cf3",
   "metadata": {},
   "outputs": [],
   "source": [
    "fw = open(\"new.txt\", 'w')"
   ]
  },
  {
   "cell_type": "code",
   "execution_count": 177,
   "id": "cf0fa5a5",
   "metadata": {},
   "outputs": [],
   "source": [
    "for i in range(1,6):\n",
    "    data = \"%d line\\n\" % i\n",
    "    fw.write(data)\n",
    "    "
   ]
  },
  {
   "cell_type": "code",
   "execution_count": 178,
   "id": "1d771609",
   "metadata": {},
   "outputs": [],
   "source": [
    "fw.close() # 파일을 닫았을 때 위의 코드가 실행 됨"
   ]
  },
  {
   "cell_type": "markdown",
   "id": "c4f893dc",
   "metadata": {},
   "source": [
    "readline() - 파일에서 한 줄 읽어옴"
   ]
  },
  {
   "cell_type": "code",
   "execution_count": 182,
   "id": "8a208d6e",
   "metadata": {},
   "outputs": [
    {
     "name": "stdout",
     "output_type": "stream",
     "text": [
      "1 line\n",
      "2 line\n"
     ]
    }
   ],
   "source": [
    "f = open(\"new.txt\", \"r\")\n",
    "\n",
    "line = f.readline()\n",
    "print (line, end='')\n",
    "\n",
    "line = f.readline()\n",
    "print (line, end='')\n",
    "\n",
    "f.close()"
   ]
  },
  {
   "cell_type": "markdown",
   "id": "23295328",
   "metadata": {},
   "source": [
    "readlines() - 모든 라인을 한꺼번에 읽어서 각 각의 줄을 요소로 갖는 리스트를 반환"
   ]
  },
  {
   "cell_type": "code",
   "execution_count": 184,
   "id": "c0391740",
   "metadata": {},
   "outputs": [
    {
     "name": "stdout",
     "output_type": "stream",
     "text": [
      "['1 line\\n', '2 line\\n', '3 line\\n', '4 line\\n', '5 line\\n']\n"
     ]
    }
   ],
   "source": [
    "f = open(\"new.txt\", \"r\")\n",
    "lines = f.readlines() \n",
    "print (lines)\n",
    "f.close()"
   ]
  },
  {
   "cell_type": "code",
   "execution_count": 187,
   "id": "7c0777a7",
   "metadata": {},
   "outputs": [
    {
     "data": {
      "text/plain": [
       "0"
      ]
     },
     "execution_count": 187,
     "metadata": {},
     "output_type": "execute_result"
    }
   ],
   "source": [
    "f = open(\"new.txt\", \"r\")\n",
    "f.tell() # 현재 포인터의 위치"
   ]
  },
  {
   "cell_type": "code",
   "execution_count": 194,
   "id": "19e42be3",
   "metadata": {},
   "outputs": [
    {
     "name": "stdout",
     "output_type": "stream",
     "text": [
      "1 line\n",
      "2 line\n",
      "3 line\n",
      "4 line\n",
      "5 line\n"
     ]
    }
   ],
   "source": [
    "f = open(\"new.txt\", \"r\")\n",
    "\n",
    "while True:\n",
    "    line = f.readline()\n",
    "    if line == \"\":\n",
    "        break\n",
    "    print(line, end=\"\")\n",
    "    \n",
    "f.close()"
   ]
  },
  {
   "cell_type": "code",
   "execution_count": 197,
   "id": "1d765bec",
   "metadata": {},
   "outputs": [
    {
     "name": "stdout",
     "output_type": "stream",
     "text": [
      "['1 line\\n', '2 line\\n', '3 line\\n', '4 line\\n', '5 line\\n']\n"
     ]
    },
    {
     "data": {
      "text/plain": [
       "<function TextIOWrapper.close()>"
      ]
     },
     "execution_count": 197,
     "metadata": {},
     "output_type": "execute_result"
    }
   ],
   "source": [
    "f = open(\"new.txt\", \"r\")\n",
    "\n",
    "lines = f.readlines() # 각 줄을 하나하나의 원소로 갖는 리스트로를 반환\n",
    "print(lines)\n",
    "\n",
    "f.close"
   ]
  },
  {
   "cell_type": "markdown",
   "id": "b6c233e7",
   "metadata": {},
   "source": [
    "- read: 파일을 전부 읽은 문자열을 반환"
   ]
  },
  {
   "cell_type": "code",
   "execution_count": 198,
   "id": "c71b728d",
   "metadata": {},
   "outputs": [
    {
     "name": "stdout",
     "output_type": "stream",
     "text": [
      "1 line\n",
      "2 line\n",
      "3 line\n",
      "4 line\n",
      "5 line\n"
     ]
    },
    {
     "data": {
      "text/plain": [
       "<function TextIOWrapper.close()>"
      ]
     },
     "execution_count": 198,
     "metadata": {},
     "output_type": "execute_result"
    }
   ],
   "source": [
    "f = open(\"new.txt\", \"r\")\n",
    "\n",
    "data = f.read()\n",
    "print(data, end=\"\") # 전체를 하나의 문자열로 반환\n",
    "f.close"
   ]
  },
  {
   "cell_type": "markdown",
   "id": "a6321c93",
   "metadata": {},
   "source": [
    "- for문 사용"
   ]
  },
  {
   "cell_type": "code",
   "execution_count": 1,
   "id": "1fc23ce1",
   "metadata": {},
   "outputs": [
    {
     "name": "stdout",
     "output_type": "stream",
     "text": [
      "line1\n",
      "line2\n",
      "line3\n",
      "line4\n",
      "line5"
     ]
    }
   ],
   "source": [
    "f = open(\"new.txt\", 'r')\n",
    "\n",
    "for line in f:\n",
    "    print(line,end='')\n",
    "    \n",
    "f.close()"
   ]
  },
  {
   "cell_type": "markdown",
   "id": "83be2bdc",
   "metadata": {},
   "source": [
    "## 실습1\n",
    "- 파일에 있는 각각의 단어의 수 구하기"
   ]
  },
  {
   "cell_type": "code",
   "execution_count": 43,
   "id": "71d5a96d",
   "metadata": {},
   "outputs": [
    {
     "name": "stdout",
     "output_type": "stream",
     "text": [
      "{'first': 1, 'line': 3, 'second': 1, 'third': 1}\n"
     ]
    }
   ],
   "source": [
    "f = open('test.txt', 'r')\n",
    "\n",
    "lists = []\n",
    "dicts = {}\n",
    "word = []\n",
    "\n",
    "strs = f.read().split(\"\\n\")\n",
    "\n",
    "for line in strs:\n",
    "    lists.append(line)\n",
    "for l in lists:\n",
    "    _a = l.split(\" \")\n",
    "    for i in range(2):\n",
    "        if _a[i] not in dicts:\n",
    "            dicts[_a[i]] = 1\n",
    "        elif _a[i] in dicts:\n",
    "            dicts[_a[i]] += 1\n",
    "\n",
    "print(dicts)"
   ]
  },
  {
   "cell_type": "markdown",
   "id": "14e020d7",
   "metadata": {},
   "source": [
    "## 실습2\n",
    "- 파일명을입력받아,해당파일을한줄씩읽어 파일의내용을모두대문 자로 출력하는 프로그램을 작성하시오."
   ]
  },
  {
   "cell_type": "code",
   "execution_count": 1,
   "id": "df3465ce",
   "metadata": {},
   "outputs": [],
   "source": [
    "import os"
   ]
  },
  {
   "cell_type": "code",
   "execution_count": 2,
   "id": "883635bf",
   "metadata": {},
   "outputs": [
    {
     "data": {
      "text/plain": [
       "True"
      ]
     },
     "execution_count": 2,
     "metadata": {},
     "output_type": "execute_result"
    }
   ],
   "source": [
    "os.path.exists('test.txt')"
   ]
  },
  {
   "cell_type": "code",
   "execution_count": 11,
   "id": "d341f457",
   "metadata": {},
   "outputs": [
    {
     "name": "stdout",
     "output_type": "stream",
     "text": [
      "Enter a file name: test.txt\n",
      "FIRST LINE\n",
      "\n",
      "SECOND LINE\n",
      "\n",
      "THIRD LINE\n"
     ]
    }
   ],
   "source": [
    "file = input(\"Enter a file name: \")\n",
    "if os.path.exists(file) == True:\n",
    "    f = open(file, 'r')\n",
    "    \n",
    "    for line in f:\n",
    "        print(line.upper())\n",
    "    f.close()\n",
    "else:\n",
    "    print(\"파일이 존재하지 않습니다. 이름을 다시한번 확인해주세요\")"
   ]
  },
  {
   "cell_type": "markdown",
   "id": "564a8e5a",
   "metadata": {},
   "source": [
    "## 파일을 열고 자동으로 닫기 (with ~ as)"
   ]
  },
  {
   "cell_type": "code",
   "execution_count": null,
   "id": "d04d3733",
   "metadata": {},
   "outputs": [],
   "source": [
    "with open(\"output.txt\", 'w') as f:\n",
    "    f.write(\"Python is fun!\")\n",
    "# with 블록을 벗어나는 순간 파일을 자동으로 닫아준다. "
   ]
  },
  {
   "cell_type": "code",
   "execution_count": null,
   "id": "2d9867fc",
   "metadata": {},
   "outputs": [],
   "source": []
  },
  {
   "cell_type": "code",
   "execution_count": null,
   "id": "0090ef5f",
   "metadata": {},
   "outputs": [],
   "source": []
  }
 ],
 "metadata": {
  "kernelspec": {
   "display_name": "Python 3 (ipykernel)",
   "language": "python",
   "name": "python3"
  },
  "language_info": {
   "codemirror_mode": {
    "name": "ipython",
    "version": 3
   },
   "file_extension": ".py",
   "mimetype": "text/x-python",
   "name": "python",
   "nbconvert_exporter": "python",
   "pygments_lexer": "ipython3",
   "version": "3.9.12"
  },
  "toc": {
   "base_numbering": 1,
   "nav_menu": {},
   "number_sections": true,
   "sideBar": true,
   "skip_h1_title": false,
   "title_cell": "Table of Contents",
   "title_sidebar": "Contents",
   "toc_cell": false,
   "toc_position": {},
   "toc_section_display": true,
   "toc_window_display": true
  },
  "varInspector": {
   "cols": {
    "lenName": 16,
    "lenType": 16,
    "lenVar": 40
   },
   "kernels_config": {
    "python": {
     "delete_cmd_postfix": "",
     "delete_cmd_prefix": "del ",
     "library": "var_list.py",
     "varRefreshCmd": "print(var_dic_list())"
    },
    "r": {
     "delete_cmd_postfix": ") ",
     "delete_cmd_prefix": "rm(",
     "library": "var_list.r",
     "varRefreshCmd": "cat(var_dic_list()) "
    }
   },
   "types_to_exclude": [
    "module",
    "function",
    "builtin_function_or_method",
    "instance",
    "_Feature"
   ],
   "window_display": false
  }
 },
 "nbformat": 4,
 "nbformat_minor": 5
}
