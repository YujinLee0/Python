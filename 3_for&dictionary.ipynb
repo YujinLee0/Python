{
 "cells": [
  {
   "cell_type": "markdown",
   "id": "96dc3f70",
   "metadata": {},
   "source": [
    "# Dictionary"
   ]
  },
  {
   "cell_type": "markdown",
   "id": "fd00bdaf",
   "metadata": {},
   "source": [
    "## 문제 1\n",
    "- for문을 사용하여 딕셔너리 타입 d의 모든 value를 출력해보세요"
   ]
  },
  {
   "cell_type": "code",
   "execution_count": 1,
   "id": "8d1e8102",
   "metadata": {},
   "outputs": [
    {
     "name": "stdout",
     "output_type": "stream",
     "text": [
      "1 2 10 "
     ]
    }
   ],
   "source": [
    "dict1 = {'youn': 1, 'park':2, 'kim':10}\n",
    "\n",
    "for d in dict1:\n",
    "    print(dict1[d], end=\" \")"
   ]
  },
  {
   "cell_type": "markdown",
   "id": "947456f7",
   "metadata": {},
   "source": [
    "## 문제 2\n",
    "- 아래와 같은 딕셔너리가 있다.\n",
    "- {'one':1, 'two':2, 'three':3, 'four':4, 'five':5}\n",
    "- key의 알파벳을 기준으로 순서대로 아래와 같이 (key, value)로 출력하시오."
   ]
  },
  {
   "cell_type": "code",
   "execution_count": 9,
   "id": "63e53664",
   "metadata": {},
   "outputs": [
    {
     "name": "stdout",
     "output_type": "stream",
     "text": [
      "five 5\n",
      "four 4\n",
      "one 1\n",
      "three 3\n",
      "two 2\n"
     ]
    }
   ],
   "source": [
    "alph_dict = {'one':1, 'two':2, 'three':3, 'four':4, 'five':5}\n",
    "keys = alph_dict.keys()\n",
    "keys = sorted(keys)\n",
    "\n",
    "for k in keys:\n",
    "    for a in alph_dict:\n",
    "        if k == a:\n",
    "            print(k, alph_dict[k])"
   ]
  },
  {
   "cell_type": "markdown",
   "id": "61b825f0",
   "metadata": {},
   "source": [
    "## 문제 3\n",
    "- 어떤 문장을 입력 받으면 해당 문장에서 각 문자가 몇 개씩 나오는지 저장하는 딕셔너리를 만든 후, 아래와 같 이 출력하시오."
   ]
  },
  {
   "cell_type": "code",
   "execution_count": 10,
   "id": "4e680ed4",
   "metadata": {},
   "outputs": [
    {
     "name": "stdout",
     "output_type": "stream",
     "text": [
      "Enter a sentence: Python is fun!\n"
     ]
    },
    {
     "data": {
      "text/plain": [
       "{'P': 1,\n",
       " 'y': 1,\n",
       " 't': 1,\n",
       " 'h': 1,\n",
       " 'o': 1,\n",
       " 'n': 2,\n",
       " ' ': 2,\n",
       " 'i': 1,\n",
       " 's': 1,\n",
       " 'f': 1,\n",
       " 'u': 1,\n",
       " '!': 1}"
      ]
     },
     "execution_count": 10,
     "metadata": {},
     "output_type": "execute_result"
    }
   ],
   "source": [
    "# 방법1\n",
    "\n",
    "inputS = input(\"Enter a sentence: \")\n",
    "dict1 = {}\n",
    "\n",
    "for w in inputS:\n",
    "    if w in dict1:\n",
    "        dict1[w] += 1\n",
    "    elif w not in dict1:\n",
    "        dict1[w] = 1\n",
    "\n",
    "dict1"
   ]
  },
  {
   "cell_type": "code",
   "execution_count": 11,
   "id": "8e43e401",
   "metadata": {},
   "outputs": [
    {
     "name": "stdout",
     "output_type": "stream",
     "text": [
      "Enter a sentence: Python is fun!\n"
     ]
    },
    {
     "data": {
      "text/plain": [
       "defaultdict(int,\n",
       "            {'P': 1,\n",
       "             'y': 1,\n",
       "             't': 1,\n",
       "             'h': 1,\n",
       "             'o': 1,\n",
       "             'n': 2,\n",
       "             ' ': 2,\n",
       "             'i': 1,\n",
       "             's': 1,\n",
       "             'f': 1,\n",
       "             'u': 1,\n",
       "             '!': 1})"
      ]
     },
     "execution_count": 11,
     "metadata": {},
     "output_type": "execute_result"
    }
   ],
   "source": [
    "# 방법2\n",
    "\n",
    "inputS = input(\"Enter a sentence: \")\n",
    "\n",
    "\n",
    "from collections import defaultdict\n",
    "dict1 = defaultdict(int)\n",
    "\n",
    "for w in inputS:\n",
    "    dict1[w] += 1\n",
    "    \n",
    "dict1"
   ]
  },
  {
   "cell_type": "markdown",
   "id": "c39895bc",
   "metadata": {},
   "source": [
    "## 문제 4\n",
    "- 학생의 이름과 점수를 가지고 있는 딕셔너리가 있을 때, 최고점과 최저점, 평균을 출력하는 프로그램을 작성하시오."
   ]
  },
  {
   "cell_type": "code",
   "execution_count": 21,
   "id": "59829cd9",
   "metadata": {},
   "outputs": [
    {
     "name": "stdout",
     "output_type": "stream",
     "text": [
      "Highest:  150\n",
      "Lowest:  20\n",
      "Average:  81.0\n"
     ]
    }
   ],
   "source": [
    "info = {'iu':100, 'heize': 70, 'zico':65, 'ailee':150, 'rain': 20}\n",
    "\n",
    "scores = [ ]\n",
    "\n",
    "for s in score.items():\n",
    "    scores.append(s[1])\n",
    "\n",
    "print(\"Highest: \", max(scores))\n",
    "print(\"Lowest: \", min(scores))\n",
    "print(\"Average: \", sum(scores)/len(scores))\n"
   ]
  },
  {
   "cell_type": "markdown",
   "id": "9dd87bea",
   "metadata": {},
   "source": [
    "## 문제 5\n",
    "- 자판기 재고량을 아래와 같이 딕셔너리로 관리할 때, 자판기에 채울 음료를 입력 받아서 재고량을 증가시키는 자판기 관리 프로그램을 완성하시오. \n"
   ]
  },
  {
   "cell_type": "code",
   "execution_count": 32,
   "id": "4be1fd69",
   "metadata": {},
   "outputs": [
    {
     "name": "stdout",
     "output_type": "stream",
     "text": [
      "채울 음료 이름 입력: 생수\n",
      "추가할 개수 입력: 3\n",
      "2\n",
      "{'커피': 5, '콜라': 3, '생수': 5, '비타민워터': 1}\n"
     ]
    }
   ],
   "source": [
    "items = { \"커피\": 5, \"콜라\": 3, \"생수\": 2, \"비타민워터\": 1 }\n",
    "\n",
    "item = input(\"채울 음료 이름 입력: \")\n",
    "\n",
    "if item in items:\n",
    "    num = int(input('추가할 개수 입력: '))\n",
    "    prev = items[item]\n",
    "    print(prev)\n",
    "    items[item] = prev + num\n",
    "    print(items)\n",
    "    \n",
    "elif item not in items:\n",
    "    print(\"자판기 목록에 없는 음료입니다.\")\n"
   ]
  },
  {
   "cell_type": "markdown",
   "id": "48fb7c6b",
   "metadata": {},
   "source": [
    "## 문제 6\n",
    "- 프로그래밍 수업을 듣는 수강생 이름으로 이루어진 리스트 Names가 아래와 같이 있을 때, 수강생 이름을 입력 받아 프로그래밍 수강생인지 알아보는 프로그램을 완성하시오."
   ]
  },
  {
   "cell_type": "code",
   "execution_count": 45,
   "id": "65e72de2",
   "metadata": {},
   "outputs": [
    {
     "name": "stdout",
     "output_type": "stream",
     "text": [
      "수강생 이름 입력: 호랑이\n",
      "프로그래밍 수강생이 아닙니다.\n"
     ]
    }
   ],
   "source": [
    "Names = [\"포닉스\", \"넙죽이\", \"클로바\", \"독수리\"]\n",
    "\n",
    "ipt = input(\"수강생 이름 입력: \")\n",
    "\n",
    "if ipt in Names:\n",
    "    print(\"프로그래밍 수강생입니다. \")\n",
    "if ipt not in Names:\n",
    "    print(\"프로그래밍 수강생이 아닙니다.\")"
   ]
  }
 ],
 "metadata": {
  "kernelspec": {
   "display_name": "Python 3 (ipykernel)",
   "language": "python",
   "name": "python3"
  },
  "language_info": {
   "codemirror_mode": {
    "name": "ipython",
    "version": 3
   },
   "file_extension": ".py",
   "mimetype": "text/x-python",
   "name": "python",
   "nbconvert_exporter": "python",
   "pygments_lexer": "ipython3",
   "version": "3.8.13"
  },
  "toc": {
   "base_numbering": 1,
   "nav_menu": {},
   "number_sections": true,
   "sideBar": true,
   "skip_h1_title": false,
   "title_cell": "Table of Contents",
   "title_sidebar": "Contents",
   "toc_cell": false,
   "toc_position": {},
   "toc_section_display": true,
   "toc_window_display": true
  },
  "varInspector": {
   "cols": {
    "lenName": 16,
    "lenType": 16,
    "lenVar": 40
   },
   "kernels_config": {
    "python": {
     "delete_cmd_postfix": "",
     "delete_cmd_prefix": "del ",
     "library": "var_list.py",
     "varRefreshCmd": "print(var_dic_list())"
    },
    "r": {
     "delete_cmd_postfix": ") ",
     "delete_cmd_prefix": "rm(",
     "library": "var_list.r",
     "varRefreshCmd": "cat(var_dic_list()) "
    }
   },
   "types_to_exclude": [
    "module",
    "function",
    "builtin_function_or_method",
    "instance",
    "_Feature"
   ],
   "window_display": false
  }
 },
 "nbformat": 4,
 "nbformat_minor": 5
}
