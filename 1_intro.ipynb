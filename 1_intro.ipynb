{
 "cells": [
  {
   "cell_type": "markdown",
   "id": "6bd269b8",
   "metadata": {},
   "source": [
    "# Head Title 1\n",
    "\n",
    "- print 함수 연습하기  \n",
    "    - 맨 뒤에 띄어쓰기 두번 이상 해야 줄 바꿈이 가능하다.  \n",
    "14 15 16  \n",
    "17 18 19  "
   ]
  },
  {
   "cell_type": "code",
   "execution_count": 3,
   "id": "bc6e71c7",
   "metadata": {},
   "outputs": [
    {
     "name": "stdout",
     "output_type": "stream",
     "text": [
      "Hello World! :)\n"
     ]
    }
   ],
   "source": [
    "print(\"Hello World! :)\")"
   ]
  },
  {
   "cell_type": "code",
   "execution_count": 2,
   "id": "bb410dbc",
   "metadata": {},
   "outputs": [
    {
     "name": "stdout",
     "output_type": "stream",
     "text": [
      "HELLOOOO\n"
     ]
    }
   ],
   "source": [
    "print(\"HELLOOOO\")"
   ]
  },
  {
   "cell_type": "markdown",
   "id": "cf8a4ffb",
   "metadata": {},
   "source": [
    "- Shift + Enter: 해당 cell을 실행하고 다음 cell 활성화"
   ]
  },
  {
   "cell_type": "markdown",
   "id": "531f9b95",
   "metadata": {},
   "source": [
    "- Alt + Enter: 현재 cell 실행되고 아래에 cell 삽입"
   ]
  },
  {
   "cell_type": "markdown",
   "id": "c235b9dd",
   "metadata": {},
   "source": [
    "- Drag + Tab : 여러 줄에 대해 들여쓰기를 한번에 하고 싶은 경우"
   ]
  },
  {
   "cell_type": "code",
   "execution_count": 5,
   "id": "006fb542",
   "metadata": {},
   "outputs": [],
   "source": [
    "# 이것은 주석입니다.\n",
    "\n",
    "# ctrl + / : 주석 여러줄 한번에 처리 \n"
   ]
  },
  {
   "cell_type": "markdown",
   "id": "a162cd69",
   "metadata": {},
   "source": [
    "# 산술 연산자\n",
    "+, -, * , / : 더하기, 뺴기, 곱하기, 나누기\n",
    "    - 나누기는 float형으로 처리된다.\n",
    "% : 나머지 (modulo)\n",
    "// : 몫\n",
    "** : 제곱"
   ]
  },
  {
   "cell_type": "code",
   "execution_count": 6,
   "id": "25e75b0a",
   "metadata": {},
   "outputs": [
    {
     "data": {
      "text/plain": [
       "5"
      ]
     },
     "execution_count": 6,
     "metadata": {},
     "output_type": "execute_result"
    }
   ],
   "source": [
    "2 + 3"
   ]
  },
  {
   "cell_type": "code",
   "execution_count": 7,
   "id": "3f427140",
   "metadata": {},
   "outputs": [
    {
     "data": {
      "text/plain": [
       "119"
      ]
     },
     "execution_count": 7,
     "metadata": {},
     "output_type": "execute_result"
    }
   ],
   "source": [
    "210 - 91"
   ]
  },
  {
   "cell_type": "code",
   "execution_count": 8,
   "id": "86c9b8ed",
   "metadata": {},
   "outputs": [
    {
     "data": {
      "text/plain": [
       "36"
      ]
     },
     "execution_count": 8,
     "metadata": {},
     "output_type": "execute_result"
    }
   ],
   "source": [
    "3 * 12"
   ]
  },
  {
   "cell_type": "code",
   "execution_count": 9,
   "id": "459299e4",
   "metadata": {},
   "outputs": [
    {
     "data": {
      "text/plain": [
       "3.0"
      ]
     },
     "execution_count": 9,
     "metadata": {},
     "output_type": "execute_result"
    }
   ],
   "source": [
    "6 / 2"
   ]
  },
  {
   "cell_type": "code",
   "execution_count": 10,
   "id": "51d86045",
   "metadata": {},
   "outputs": [
    {
     "data": {
      "text/plain": [
       "1"
      ]
     },
     "execution_count": 10,
     "metadata": {},
     "output_type": "execute_result"
    }
   ],
   "source": [
    "7 % 3"
   ]
  },
  {
   "cell_type": "code",
   "execution_count": 11,
   "id": "28a1e7de",
   "metadata": {},
   "outputs": [
    {
     "data": {
      "text/plain": [
       "2"
      ]
     },
     "execution_count": 11,
     "metadata": {},
     "output_type": "execute_result"
    }
   ],
   "source": [
    "7 // 3"
   ]
  },
  {
   "cell_type": "code",
   "execution_count": 12,
   "id": "85bdff02",
   "metadata": {},
   "outputs": [
    {
     "data": {
      "text/plain": [
       "8"
      ]
     },
     "execution_count": 12,
     "metadata": {},
     "output_type": "execute_result"
    }
   ],
   "source": [
    "2 ** 3"
   ]
  },
  {
   "cell_type": "code",
   "execution_count": 13,
   "id": "671849a7",
   "metadata": {},
   "outputs": [
    {
     "data": {
      "text/plain": [
       "21"
      ]
     },
     "execution_count": 13,
     "metadata": {},
     "output_type": "execute_result"
    }
   ],
   "source": [
    "2 ** 4 + 5"
   ]
  },
  {
   "cell_type": "code",
   "execution_count": 14,
   "id": "656f58e7",
   "metadata": {},
   "outputs": [
    {
     "data": {
      "text/plain": [
       "75"
      ]
     },
     "execution_count": 14,
     "metadata": {},
     "output_type": "execute_result"
    }
   ],
   "source": [
    "3 * 5 ** 2 # 거듭제곱의 우선순위가 더 높음 "
   ]
  },
  {
   "cell_type": "code",
   "execution_count": null,
   "id": "2cc464f3",
   "metadata": {},
   "outputs": [],
   "source": [
    "(3 * 5) ** 2 # 괄호가 거듭제곱 보다 우선순위 높음"
   ]
  },
  {
   "cell_type": "markdown",
   "id": "cd6e4afc",
   "metadata": {},
   "source": [
    "# 변수\n",
    "- 어떤 값을 저장하기 위한 메모리 공간\n",
    "- 변수 이름 규칙\n",
    "    - 변수 이름은 알파벳, 숫자, _ 로 구성\n",
    "    - 첫 글자는 반드시 알파벳 또는 _로 시작한다.\n",
    "    - 띄어쓰기는 불가하다\n",
    "    - 대소문자 구분함\n",
    "    - 예약어(EX. if, for, return,,)는 사용할 수 없다.\n",
    "    - 내장 함수 이름이나 모듈 이름은 피할 것"
   ]
  },
  {
   "cell_type": "markdown",
   "id": "bb011dc2",
   "metadata": {},
   "source": [
    "- 변수 생성 - 파이썬은 변수에 값이 대입되는 시점에 변수의 자료형이 자동으로 정해짐"
   ]
  },
  {
   "cell_type": "code",
   "execution_count": 2,
   "id": "38dc556f",
   "metadata": {},
   "outputs": [
    {
     "name": "stdout",
     "output_type": "stream",
     "text": [
      "1\n",
      "<class 'int'>\n"
     ]
    }
   ],
   "source": [
    "a = 100\n",
    "print(1)\n",
    "print(type(a)) # 정수 자료형"
   ]
  },
  {
   "cell_type": "code",
   "execution_count": 6,
   "id": "79dcc27e",
   "metadata": {},
   "outputs": [
    {
     "data": {
      "text/plain": [
       "float"
      ]
     },
     "execution_count": 6,
     "metadata": {},
     "output_type": "execute_result"
    }
   ],
   "source": [
    "f = 0.8\n",
    "type(f) # 실수 자료형"
   ]
  },
  {
   "cell_type": "code",
   "execution_count": 3,
   "id": "07deffc4",
   "metadata": {},
   "outputs": [
    {
     "data": {
      "text/plain": [
       "bool"
      ]
     },
     "execution_count": 3,
     "metadata": {},
     "output_type": "execute_result"
    }
   ],
   "source": [
    "b = True\n",
    "type(b) # BOOL 자료형 (TRUE OR FALSE)"
   ]
  },
  {
   "cell_type": "code",
   "execution_count": 5,
   "id": "ee5a1cc1",
   "metadata": {},
   "outputs": [
    {
     "data": {
      "text/plain": [
       "str"
      ]
     },
     "execution_count": 5,
     "metadata": {},
     "output_type": "execute_result"
    }
   ],
   "source": [
    "s = \"Python\"\n",
    "type(s) # 문자형 자료형 "
   ]
  },
  {
   "cell_type": "code",
   "execution_count": 7,
   "id": "eeae2e2d",
   "metadata": {},
   "outputs": [
    {
     "name": "stdout",
     "output_type": "stream",
     "text": [
      "a의 자료형: <class 'str'>, b의 자료형: <class 'int'>, c의 자료형: <class 'float'>\n"
     ]
    }
   ],
   "source": [
    "a = '100'\n",
    "b = 100\n",
    "c = 100.\n",
    "\n",
    "print(f\"a의 자료형: {type(a)}, b의 자료형: {type(b)}, c의 자료형: {type(c)}\")\n",
    "# 동일한 100에 대한 데이터라도 자료형이 다름"
   ]
  },
  {
   "cell_type": "code",
   "execution_count": 8,
   "id": "bdd3eb74",
   "metadata": {},
   "outputs": [
    {
     "name": "stdout",
     "output_type": "stream",
     "text": [
      "<class 'str'>\n",
      "<class 'float'>\n"
     ]
    }
   ],
   "source": [
    "# 자료형을 바꾸고 싶은 경우 \n",
    "a = '100'\n",
    "print(type(a))\n",
    "a = float(a)\n",
    "print(type(a))\n",
    "# 문자형 자료형을 실수형으로 변경해줌"
   ]
  },
  {
   "cell_type": "markdown",
   "id": "b1e210b9",
   "metadata": {},
   "source": [
    "# 대입 연산자\n",
    "=, +=, -=, *=, /="
   ]
  },
  {
   "cell_type": "code",
   "execution_count": 9,
   "id": "33644d0f",
   "metadata": {},
   "outputs": [
    {
     "name": "stdout",
     "output_type": "stream",
     "text": [
      "2\n",
      "4\n"
     ]
    }
   ],
   "source": [
    "a = 1\n",
    "a = a + 1\n",
    "print(a)\n",
    "\n",
    "a += 2\n",
    "print(a)"
   ]
  },
  {
   "cell_type": "code",
   "execution_count": 12,
   "id": "6eeeb103",
   "metadata": {},
   "outputs": [
    {
     "data": {
      "text/plain": [
       "4"
      ]
     },
     "execution_count": 12,
     "metadata": {},
     "output_type": "execute_result"
    }
   ],
   "source": [
    "a %= 5\n",
    "a"
   ]
  },
  {
   "cell_type": "markdown",
   "id": "9e296345",
   "metadata": {},
   "source": [
    "# Input()\n",
    "- input을 사용하면 무조건 입력값은 **문자형**으로 받는다. 따라서 int, float형 등을 원할경우 형변환이 필요하다. "
   ]
  },
  {
   "cell_type": "code",
   "execution_count": 10,
   "id": "55d59c83",
   "metadata": {},
   "outputs": [
    {
     "name": "stdout",
     "output_type": "stream",
     "text": [
      "첫 번째 숫자를 입력하세요: 100\n"
     ]
    }
   ],
   "source": [
    "number = int(input(\"첫 번째 숫자를 입력하세요: \"))\n",
    "# 안내 메시지를 출력하고 사용자가 입력한 값을 문자열 형태로 받는다.\n",
    "# 사용자가 입력한 문자열을 정수로 변경하고 이를 변수 number에 저장한다. "
   ]
  },
  {
   "cell_type": "code",
   "execution_count": 13,
   "id": "1fc735cc",
   "metadata": {},
   "outputs": [
    {
     "name": "stdout",
     "output_type": "stream",
     "text": [
      "숫자를 입력하세요: 12345\n",
      "22345 <class 'int'>\n"
     ]
    }
   ],
   "source": [
    "num1 = int(input(\"숫자를 입력하세요: \"))\n",
    "num1 += 10000\n",
    "print(num1, type(num1))"
   ]
  },
  {
   "cell_type": "markdown",
   "id": "7ba6cc20",
   "metadata": {},
   "source": [
    "# Print"
   ]
  },
  {
   "cell_type": "code",
   "execution_count": 15,
   "id": "18afa49c",
   "metadata": {},
   "outputs": [
    {
     "name": "stdout",
     "output_type": "stream",
     "text": [
      "life is too short!\n",
      "life is too short!\n",
      "lifeistoo short!\n"
     ]
    }
   ],
   "source": [
    "# 문자열 합치기 -> + 이용\n",
    "# 큰 따옴표(\")로 둘러싸인 문자열은 + 연산과 동일하다\n",
    "\n",
    "print(\"life\", \"is\", \"too short!\") # ,를 해야지 띄어쓰기를 하고 print\n",
    "print(\"life is too short!\")\n",
    "print(\"life\" + \"is\" + \"too short!\")"
   ]
  },
  {
   "cell_type": "code",
   "execution_count": 16,
   "id": "d987a8c9",
   "metadata": {},
   "outputs": [
    {
     "name": "stdout",
     "output_type": "stream",
     "text": [
      "400\n"
     ]
    }
   ],
   "source": [
    "print(5 * 80)"
   ]
  },
  {
   "cell_type": "code",
   "execution_count": 17,
   "id": "0c6c754f",
   "metadata": {},
   "outputs": [
    {
     "name": "stdout",
     "output_type": "stream",
     "text": [
      "100 + 200 = 300\n"
     ]
    }
   ],
   "source": [
    "# 변수와 같이 출력\n",
    "a = 100\n",
    "b = 200\n",
    "result = a + b\n",
    "print(a, \"+\", b, \"=\", result)"
   ]
  },
  {
   "cell_type": "markdown",
   "id": "2bef688f",
   "metadata": {},
   "source": [
    "- print문 문자열 내에 변수의 값을 출력하고 싶을 경우 %를 사용한다.\n",
    "    - %s 는 어떤 형태든 대입이 가능\n",
    "    - %d 는 int형\n",
    "    - %f 는 float형"
   ]
  },
  {
   "cell_type": "code",
   "execution_count": 18,
   "id": "845c7c34",
   "metadata": {},
   "outputs": [
    {
     "name": "stdout",
     "output_type": "stream",
     "text": [
      "I eat 7 apples.\n"
     ]
    }
   ],
   "source": [
    "print(\"I eat %d apples.\" %7) # 뒤에 오는 값이 int형일 때 d를 사용한다."
   ]
  },
  {
   "cell_type": "code",
   "execution_count": 19,
   "id": "40cef918",
   "metadata": {},
   "outputs": [
    {
     "name": "stdout",
     "output_type": "stream",
     "text": [
      "I ate 7 apples and 11 bananas.\n"
     ]
    }
   ],
   "source": [
    "print(\"I ate %d apples and %d bananas.\" % (7, 11)) \n",
    "# 받는 값이 두개 이상일 때는 괄호를 통해 구분하면 순서대로 들어간다. "
   ]
  },
  {
   "cell_type": "code",
   "execution_count": 22,
   "id": "9a1eb614",
   "metadata": {},
   "outputs": [
    {
     "name": "stdout",
     "output_type": "stream",
     "text": [
      "That Probability of TestA is 0.960000\n"
     ]
    }
   ],
   "source": [
    "print(\"That Probability of %s is %f\" %(\"TestA\", 0.96)) \n",
    "#"
   ]
  },
  {
   "cell_type": "code",
   "execution_count": 23,
   "id": "6e5e858d",
   "metadata": {},
   "outputs": [
    {
     "name": "stdout",
     "output_type": "stream",
     "text": [
      "7.50\n",
      "7.55\n",
      "7.68\n"
     ]
    }
   ],
   "source": [
    "# 소수점 자리 동일하게 맞추기, 원하는 파트까지 소수점 나타내기 가능\n",
    "print('%.2f' % 7.5)\n",
    "print('%.2f' % 7.55)\n",
    "print('%.2f' % 7.685)"
   ]
  },
  {
   "cell_type": "code",
   "execution_count": 6,
   "id": "20bb2e81",
   "metadata": {},
   "outputs": [
    {
     "name": "stdout",
     "output_type": "stream",
     "text": [
      "숫자 두개를 입력하세요: 5 4\n",
      "5 4\n"
     ]
    }
   ],
   "source": [
    "# 숫자 나눠서 저장하기\n",
    "num = input(\"숫자 두개를 입력하세요: \")\n",
    "a,b = num.split( )\n",
    "print(a,b)"
   ]
  },
  {
   "cell_type": "markdown",
   "id": "2ddc90d4",
   "metadata": {},
   "source": [
    "# 실습문제 1\n",
    "- 화씨온도를 입력받아서 섭씨온도로 바꾸는 프로그램을 작성하시오"
   ]
  },
  {
   "cell_type": "code",
   "execution_count": 24,
   "id": "5340b993",
   "metadata": {},
   "outputs": [
    {
     "name": "stdout",
     "output_type": "stream",
     "text": [
      "섭씨온도로 변경할 화씨온도를 입력하십시오: 100\n",
      "화씨온도 100에 대한 섭씨온도는 37.77777777777778입니다.\n"
     ]
    }
   ],
   "source": [
    "degreeF = int(input(\"섭씨온도로 변경할 화씨온도를 입력하십시오: \"))\n",
    "degreeC = (degreeF - 32) * (5/9)\n",
    "print(f\"화씨온도 {degreeF}에 대한 섭씨온도는 {degreeC}입니다.\")"
   ]
  },
  {
   "cell_type": "markdown",
   "id": "d61fc71b",
   "metadata": {},
   "source": [
    "# 실습문제 2\n",
    "- 사용자로부터 투입한 돈과 물건 값을 입력받아 잔돈을 계산하여 출력한다. 단, 동전의 개수는 최소화할 것"
   ]
  },
  {
   "cell_type": "code",
   "execution_count": 25,
   "id": "1867c7a4",
   "metadata": {},
   "outputs": [
    {
     "name": "stdout",
     "output_type": "stream",
     "text": [
      "투입된 돈의 금액을 입력하십시오: 5000\n",
      "물건 값을 입력하십시오: 2700\n",
      "거스름돈은 총 2300원이며, 500원짜리 4개, 100원짜리 3개로 계산됩니다.\n"
     ]
    }
   ],
   "source": [
    "insertM = int(input(\"투입된 돈의 금액을 입력하십시오: \"))\n",
    "thingM = int(input(\"물건 값을 입력하십시오: \"))\n",
    "\n",
    "change = insertM - thingM\n",
    "\n",
    "coin500 = change // 500\n",
    "change2 = change % 500\n",
    "coin100 = change2 // 100\n",
    "print(f\"거스름돈은 총 {change}원이며, 500원짜리 {coin500}개, 100원짜리 {coin100}개로 계산됩니다.\")"
   ]
  },
  {
   "cell_type": "code",
   "execution_count": null,
   "id": "3529a274",
   "metadata": {},
   "outputs": [],
   "source": []
  },
  {
   "cell_type": "code",
   "execution_count": null,
   "id": "a0da6e00",
   "metadata": {},
   "outputs": [],
   "source": []
  },
  {
   "cell_type": "code",
   "execution_count": null,
   "id": "706f3468",
   "metadata": {},
   "outputs": [],
   "source": []
  }
 ],
 "metadata": {
  "kernelspec": {
   "display_name": "Python 3 (ipykernel)",
   "language": "python",
   "name": "python3"
  },
  "language_info": {
   "codemirror_mode": {
    "name": "ipython",
    "version": 3
   },
   "file_extension": ".py",
   "mimetype": "text/x-python",
   "name": "python",
   "nbconvert_exporter": "python",
   "pygments_lexer": "ipython3",
   "version": "3.8.13"
  },
  "toc": {
   "base_numbering": 1,
   "nav_menu": {},
   "number_sections": true,
   "sideBar": true,
   "skip_h1_title": false,
   "title_cell": "Table of Contents",
   "title_sidebar": "Contents",
   "toc_cell": false,
   "toc_position": {},
   "toc_section_display": true,
   "toc_window_display": true
  },
  "varInspector": {
   "cols": {
    "lenName": 16,
    "lenType": 16,
    "lenVar": 40
   },
   "kernels_config": {
    "python": {
     "delete_cmd_postfix": "",
     "delete_cmd_prefix": "del ",
     "library": "var_list.py",
     "varRefreshCmd": "print(var_dic_list())"
    },
    "r": {
     "delete_cmd_postfix": ") ",
     "delete_cmd_prefix": "rm(",
     "library": "var_list.r",
     "varRefreshCmd": "cat(var_dic_list()) "
    }
   },
   "types_to_exclude": [
    "module",
    "function",
    "builtin_function_or_method",
    "instance",
    "_Feature"
   ],
   "window_display": false
  }
 },
 "nbformat": 4,
 "nbformat_minor": 5
}
