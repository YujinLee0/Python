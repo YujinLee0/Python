{
 "cells": [
  {
   "cell_type": "markdown",
   "id": "036b65fd",
   "metadata": {},
   "source": [
    "# If문"
   ]
  },
  {
   "cell_type": "markdown",
   "id": "38f2da38",
   "metadata": {},
   "source": [
    "## 문제 1 \n",
    "- 입력받은 정수가 짝수인지 홀수인지 판별"
   ]
  },
  {
   "cell_type": "code",
   "execution_count": 2,
   "id": "77482f6f",
   "metadata": {},
   "outputs": [
    {
     "name": "stdout",
     "output_type": "stream",
     "text": [
      "Enter a number: 14\n",
      "14 is Even Number\n"
     ]
    }
   ],
   "source": [
    "number = int(input(\"Enter a number: \"))\n",
    "\n",
    "if number % 2 == 0:\n",
    "    print(f\"{number} is Even Number\")\n",
    "else:\n",
    "    print(f\"{number} is Odd Number\")"
   ]
  },
  {
   "cell_type": "markdown",
   "id": "39ba34d0",
   "metadata": {},
   "source": [
    "## 문제 2 \n",
    "- 프로그래밍 과목의 중간고사와 기말고사 점수를 입력받아 평균과 학점을 구하는 프로그램을 작성하시오\n",
    "- 조건\n",
    "    - 평균이 90 이상: A\n",
    "    - 80 ~ 90 미만: B\n",
    "    - 70 ~ 80 미만: C\n",
    "    - 60 ~ 70 미만: D\n",
    "    - 60 미만 : F"
   ]
  },
  {
   "cell_type": "code",
   "execution_count": 4,
   "id": "fbe29786",
   "metadata": {},
   "outputs": [
    {
     "name": "stdout",
     "output_type": "stream",
     "text": [
      "Enter your midterm score: 77\n",
      "Enter your final score: 56\n",
      "average: 66.5\n",
      "D\n"
     ]
    }
   ],
   "source": [
    "mid = int(input(\"Enter your midterm score: \"))\n",
    "fin = int(input(\"Enter your final score: \"))\n",
    "\n",
    "avg = round(((mid + fin) / 2), 1)\n",
    "\n",
    "print(f\"average: {avg}\")\n",
    "\n",
    "if avg >= 90:\n",
    "    print(\"A\")\n",
    "elif avg >= 80:\n",
    "    print(\"B\")\n",
    "elif avg >= 70:\n",
    "    print(\"C\")\n",
    "elif avg >= 60:\n",
    "    print(\"D\")\n",
    "else:\n",
    "    print(\"F\")"
   ]
  },
  {
   "cell_type": "markdown",
   "id": "92d60880",
   "metadata": {},
   "source": [
    "## 문제 3\n",
    "- 학생수준평가 시험에서 영어 점수와 수학 점수가 합해서 110점 이상이면 합격이다. \n",
    "- 단, 각 점수가 40점 미만이면 불합격이다. 영어 (eng), 수학(math)점수를 입력 받아 합격여부를 출력하는 프로그램 을 작성하시오"
   ]
  },
  {
   "cell_type": "code",
   "execution_count": 5,
   "id": "90e3ec94",
   "metadata": {},
   "outputs": [
    {
     "name": "stdout",
     "output_type": "stream",
     "text": [
      "영어 점수를 입력하시오: 35\n",
      "수학 점수를 입력하시오: 95\n",
      "불합격: 영어 점수 부족\n"
     ]
    }
   ],
   "source": [
    "eng = int(input(\"영어 점수를 입력하시오: \"))\n",
    "math = int(input(\"수학 점수를 입력하시오: \"))\n",
    "\n",
    "if (eng + math) >= 110:\n",
    "    if eng >= 40 and math >= 40:\n",
    "         print(\"합격입니다.\")\n",
    "    elif eng >= 40 and math < 40:\n",
    "        print(\"불합격: 수학 점수 부족\")\n",
    "    else:\n",
    "        print(\"불합격: 영어 점수 부족\")\n",
    "else:\n",
    "    print(\"불합격: 총합 점수 부족\")"
   ]
  },
  {
   "cell_type": "markdown",
   "id": "19c3f778",
   "metadata": {},
   "source": [
    "## 문제 4\n",
    "- 세 개의 정수를 입력 받아, 가장 큰 수만 출력하는 프로그램을 작성하시오. (반복문, max 함수, 정렬 함수 등을 사용할 수 없음)"
   ]
  },
  {
   "cell_type": "code",
   "execution_count": 6,
   "id": "a99f8a60",
   "metadata": {},
   "outputs": [
    {
     "name": "stdout",
     "output_type": "stream",
     "text": [
      "세 개의 수를 입력하시오: 30 22 50\n",
      "가장 큰 수는 50입니다.\n"
     ]
    }
   ],
   "source": [
    "numList = input(\"세 개의 수를 입력하시오: \").split(\" \")\n",
    "num1, num2, num3 = map(int, numList)\n",
    "\n",
    "if num1 >= num2:\n",
    "    if num1 >= num3:\n",
    "        print(f\"가장 큰 수는 {num1}입니다.\")\n",
    "    elif num1 < num3:\n",
    "        print(f\"가장 큰 수는 {num3}입니다.\")\n",
    "elif num2 <= num3:\n",
    "    print(f\"가장 큰 수는 {num3}입니다.\")\n",
    "else:\n",
    "    print(f\"가장 큰 수는 {num2}입니다.\")"
   ]
  },
  {
   "cell_type": "markdown",
   "id": "705a19e9",
   "metadata": {},
   "source": [
    "# 반복문"
   ]
  },
  {
   "cell_type": "markdown",
   "id": "4d96193c",
   "metadata": {},
   "source": [
    "## 문제 1\n",
    "- 단어가 주어질 때, 아래와 같이 출력되도록 작성하시오."
   ]
  },
  {
   "cell_type": "markdown",
   "id": "e57244eb",
   "metadata": {},
   "source": [
    "### while문 작성"
   ]
  },
  {
   "cell_type": "code",
   "execution_count": 8,
   "id": "0b11e19c",
   "metadata": {},
   "outputs": [
    {
     "name": "stdout",
     "output_type": "stream",
     "text": [
      "P\n",
      "y\n",
      "t\n",
      "h\n",
      "o\n",
      "n\n"
     ]
    }
   ],
   "source": [
    "word = 'Python'\n",
    "i = 0\n",
    "\n",
    "while i < len(word):\n",
    "    print(word[i])\n",
    "    i += 1"
   ]
  },
  {
   "cell_type": "markdown",
   "id": "0ed2ab15",
   "metadata": {},
   "source": [
    "### for문 작성"
   ]
  },
  {
   "cell_type": "code",
   "execution_count": 9,
   "id": "49993f13",
   "metadata": {},
   "outputs": [
    {
     "name": "stdout",
     "output_type": "stream",
     "text": [
      "P\n",
      "y\n",
      "t\n",
      "h\n",
      "o\n",
      "n\n"
     ]
    }
   ],
   "source": [
    "word = 'Python'\n",
    "\n",
    "for w in word:\n",
    "    print(w)"
   ]
  },
  {
   "cell_type": "markdown",
   "id": "09e29dac",
   "metadata": {},
   "source": [
    "## 문제 2\n",
    "- 10, 9, 8, 7, 6, 5, 4, 3, 2, 1, Happy new year!! 와 같이 출력되는 프로그램을 작성하시오"
   ]
  },
  {
   "cell_type": "code",
   "execution_count": 13,
   "id": "0cb5b2fe",
   "metadata": {},
   "outputs": [
    {
     "name": "stdout",
     "output_type": "stream",
     "text": [
      "10, 9, 8, 7, 6, 5, 4, 3, 2, 1, Happy new year!!\n"
     ]
    }
   ],
   "source": [
    "for num in range(10,0,-1):\n",
    "    print(num, end=\", \")\n",
    "print(\"Happy new year!!\")"
   ]
  },
  {
   "cell_type": "markdown",
   "id": "1ced4398",
   "metadata": {},
   "source": [
    "## 문제 3\n",
    "- 양의 두 정수 a,b를 입력 받아,a부터 b까지의 정수의 합을 구하여 출력하는 프로그램을 작성하시오. (for 또는 while을 이용할 것)\n",
    "- 단, 조건 a<=b 을 만족하는 값만 고려한다."
   ]
  },
  {
   "cell_type": "code",
   "execution_count": 17,
   "id": "40f9964c",
   "metadata": {},
   "outputs": [
    {
     "name": "stdout",
     "output_type": "stream",
     "text": [
      "양의 정수 두개를 입력하세요: 5 10\n",
      "The sum from 5 to 10 is 45\n"
     ]
    }
   ],
   "source": [
    "a,b = map(int, input(\"양의 정수 두개를 입력하세요: \").split())\n",
    "summ = 0\n",
    "\n",
    "for n in range(a,b+1):\n",
    "    summ += n\n",
    "print(f\"The sum from {a} to {b} is {summ}\")"
   ]
  },
  {
   "cell_type": "markdown",
   "id": "e92fcea7",
   "metadata": {},
   "source": [
    "## 문제 4\n",
    "- 주어진 문자열에 문자 a가 몇 개 있는지 구하는 프로그램을 작성하시오.(for문 사용할 것)"
   ]
  },
  {
   "cell_type": "code",
   "execution_count": 18,
   "id": "16fd0229",
   "metadata": {},
   "outputs": [
    {
     "name": "stdout",
     "output_type": "stream",
     "text": [
      "3\n"
     ]
    }
   ],
   "source": [
    "word  = 'banana'\n",
    "cnt = 0\n",
    "for w in word:\n",
    "    if w == 'a':\n",
    "        cnt += 1\n",
    "print(cnt)"
   ]
  },
  {
   "cell_type": "markdown",
   "id": "4d2124b7",
   "metadata": {},
   "source": [
    "## 문제 5\n",
    "- for 문과 range()함수를 이용하여 다음과 같이 출력되도록 작성하시오. (각 줄마다 range()함수 사용)\n",
    "- 0123456789\n",
    "- 0 5 10 15 20 25 30 35 40 45 50 \n",
    "- 10987654321"
   ]
  },
  {
   "cell_type": "code",
   "execution_count": 23,
   "id": "e95b256b",
   "metadata": {},
   "outputs": [
    {
     "name": "stdout",
     "output_type": "stream",
     "text": [
      "0123456789\n",
      "0 5 10 15 20 25 30 35 40 45 50 \n",
      "10987654321"
     ]
    }
   ],
   "source": [
    "for _ in range(0,10):\n",
    "    print(_,end=\"\")\n",
    "print()\n",
    "    \n",
    "for _ in range(0,51,5):\n",
    "    print(_,end=\" \")\n",
    "print()\n",
    "\n",
    "for _ in range(10,0,-1):\n",
    "    print(_,end=\"\")"
   ]
  },
  {
   "cell_type": "markdown",
   "id": "b296f686",
   "metadata": {},
   "source": [
    "## 문제 6\n",
    "- for 문을 사용하여 리스트(colors)의 모든 내용을 출력하시오."
   ]
  },
  {
   "cell_type": "code",
   "execution_count": 24,
   "id": "1fa3abca",
   "metadata": {},
   "outputs": [
    {
     "name": "stdout",
     "output_type": "stream",
     "text": [
      "Red\n",
      "Green\n",
      "Blue\n"
     ]
    }
   ],
   "source": [
    "colors = [\"Red\", \"Green\", \"Blue\"]\n",
    "\n",
    "for c in colors:\n",
    "    print(c)"
   ]
  },
  {
   "cell_type": "markdown",
   "id": "fb02899a",
   "metadata": {},
   "source": [
    "## 문제 7\n",
    "- 리스트 a 전체를 반복해서 방문하되, 짝수만 출력 하시오.(for 문 사용할 것, range() 이용하지 말 것)"
   ]
  },
  {
   "cell_type": "code",
   "execution_count": 27,
   "id": "d252ef74",
   "metadata": {},
   "outputs": [
    {
     "name": "stdout",
     "output_type": "stream",
     "text": [
      "4 6 8 10 12 "
     ]
    }
   ],
   "source": [
    "a = [1,3,4,5,6,7,8,9,10,11,12,13]\n",
    "\n",
    "for e in a:\n",
    "    if e % 2 == 0:\n",
    "        print(e, end=\" \")\n"
   ]
  },
  {
   "cell_type": "markdown",
   "id": "dba96385",
   "metadata": {},
   "source": [
    "## 문제 8\n",
    "- 구구단 출력"
   ]
  },
  {
   "cell_type": "code",
   "execution_count": 28,
   "id": "45d467dc",
   "metadata": {},
   "outputs": [
    {
     "name": "stdout",
     "output_type": "stream",
     "text": [
      "출력하고 싶은 단을 입력하세요: 7\n",
      "7 * 1 = 7\n",
      "7 * 2 = 14\n",
      "7 * 3 = 21\n",
      "7 * 4 = 28\n",
      "7 * 5 = 35\n",
      "7 * 6 = 42\n",
      "7 * 7 = 49\n",
      "7 * 8 = 56\n",
      "7 * 9 = 63\n"
     ]
    }
   ],
   "source": [
    "num = int(input(\"출력하고 싶은 단을 입력하세요: \"))\n",
    "\n",
    "for i in range(1,10,1):\n",
    "    print(f\"{num} * {i} = {num * i}\")"
   ]
  },
  {
   "cell_type": "markdown",
   "id": "ba57d3dc",
   "metadata": {},
   "source": [
    "## 문제 9\n",
    "- 구구단 출력 2 (중첩 반목문)"
   ]
  },
  {
   "cell_type": "code",
   "execution_count": 29,
   "id": "81da2e85",
   "metadata": {},
   "outputs": [
    {
     "name": "stdout",
     "output_type": "stream",
     "text": [
      "=====2단=====\n",
      "2 * 1 = 2\n",
      "2 * 2 = 4\n",
      "2 * 3 = 6\n",
      "2 * 4 = 8\n",
      "2 * 5 = 10\n",
      "2 * 6 = 12\n",
      "2 * 7 = 14\n",
      "2 * 8 = 16\n",
      "2 * 9 = 18\n",
      "=====3단=====\n",
      "3 * 1 = 3\n",
      "3 * 2 = 6\n",
      "3 * 3 = 9\n",
      "3 * 4 = 12\n",
      "3 * 5 = 15\n",
      "3 * 6 = 18\n",
      "3 * 7 = 21\n",
      "3 * 8 = 24\n",
      "3 * 9 = 27\n",
      "=====4단=====\n",
      "4 * 1 = 4\n",
      "4 * 2 = 8\n",
      "4 * 3 = 12\n",
      "4 * 4 = 16\n",
      "4 * 5 = 20\n",
      "4 * 6 = 24\n",
      "4 * 7 = 28\n",
      "4 * 8 = 32\n",
      "4 * 9 = 36\n",
      "=====5단=====\n",
      "5 * 1 = 5\n",
      "5 * 2 = 10\n",
      "5 * 3 = 15\n",
      "5 * 4 = 20\n",
      "5 * 5 = 25\n",
      "5 * 6 = 30\n",
      "5 * 7 = 35\n",
      "5 * 8 = 40\n",
      "5 * 9 = 45\n",
      "=====6단=====\n",
      "6 * 1 = 6\n",
      "6 * 2 = 12\n",
      "6 * 3 = 18\n",
      "6 * 4 = 24\n",
      "6 * 5 = 30\n",
      "6 * 6 = 36\n",
      "6 * 7 = 42\n",
      "6 * 8 = 48\n",
      "6 * 9 = 54\n",
      "=====7단=====\n",
      "7 * 1 = 7\n",
      "7 * 2 = 14\n",
      "7 * 3 = 21\n",
      "7 * 4 = 28\n",
      "7 * 5 = 35\n",
      "7 * 6 = 42\n",
      "7 * 7 = 49\n",
      "7 * 8 = 56\n",
      "7 * 9 = 63\n",
      "=====8단=====\n",
      "8 * 1 = 8\n",
      "8 * 2 = 16\n",
      "8 * 3 = 24\n",
      "8 * 4 = 32\n",
      "8 * 5 = 40\n",
      "8 * 6 = 48\n",
      "8 * 7 = 56\n",
      "8 * 8 = 64\n",
      "8 * 9 = 72\n",
      "=====9단=====\n",
      "9 * 1 = 9\n",
      "9 * 2 = 18\n",
      "9 * 3 = 27\n",
      "9 * 4 = 36\n",
      "9 * 5 = 45\n",
      "9 * 6 = 54\n",
      "9 * 7 = 63\n",
      "9 * 8 = 72\n",
      "9 * 9 = 81\n"
     ]
    }
   ],
   "source": [
    "for n in range(2,10):\n",
    "    print(f\"====={n}단=====\")\n",
    "    for i in range(1,10):\n",
    "        print(f\"{n} * {i} = {n * i}\")"
   ]
  },
  {
   "cell_type": "markdown",
   "id": "191ea86e",
   "metadata": {},
   "source": [
    "## 문제 10\n",
    "- 구구단 출력3"
   ]
  },
  {
   "cell_type": "code",
   "execution_count": 32,
   "id": "d0d679e9",
   "metadata": {},
   "outputs": [
    {
     "name": "stdout",
     "output_type": "stream",
     "text": [
      "2 * 1 = 2 3 * 1 = 3 4 * 1 = 4 5 * 1 = 5 6 * 1 = 6 7 * 1 = 7 8 * 1 = 8 9 * 1 = 9 \n",
      "2 * 2 = 4 3 * 2 = 6 4 * 2 = 8 5 * 2 = 10 6 * 2 = 12 7 * 2 = 14 8 * 2 = 16 9 * 2 = 18 \n",
      "2 * 3 = 6 3 * 3 = 9 4 * 3 = 12 5 * 3 = 15 6 * 3 = 18 7 * 3 = 21 8 * 3 = 24 9 * 3 = 27 \n",
      "2 * 4 = 8 3 * 4 = 12 4 * 4 = 16 5 * 4 = 20 6 * 4 = 24 7 * 4 = 28 8 * 4 = 32 9 * 4 = 36 \n",
      "2 * 5 = 10 3 * 5 = 15 4 * 5 = 20 5 * 5 = 25 6 * 5 = 30 7 * 5 = 35 8 * 5 = 40 9 * 5 = 45 \n",
      "2 * 6 = 12 3 * 6 = 18 4 * 6 = 24 5 * 6 = 30 6 * 6 = 36 7 * 6 = 42 8 * 6 = 48 9 * 6 = 54 \n",
      "2 * 7 = 14 3 * 7 = 21 4 * 7 = 28 5 * 7 = 35 6 * 7 = 42 7 * 7 = 49 8 * 7 = 56 9 * 7 = 63 \n",
      "2 * 8 = 16 3 * 8 = 24 4 * 8 = 32 5 * 8 = 40 6 * 8 = 48 7 * 8 = 56 8 * 8 = 64 9 * 8 = 72 \n",
      "2 * 9 = 18 3 * 9 = 27 4 * 9 = 36 5 * 9 = 45 6 * 9 = 54 7 * 9 = 63 8 * 9 = 72 9 * 9 = 81 \n"
     ]
    }
   ],
   "source": [
    "for i in range(1,10):\n",
    "    for n in range(2,10):\n",
    "        print(f\"{n} * {i} = {n*i}\", end=\" \")\n",
    "    print()"
   ]
  },
  {
   "cell_type": "markdown",
   "id": "fe93ea45",
   "metadata": {},
   "source": [
    "## 문제 11 \n",
    "- 별 출력 프로그램"
   ]
  },
  {
   "cell_type": "code",
   "execution_count": 33,
   "id": "54076c59",
   "metadata": {},
   "outputs": [
    {
     "name": "stdout",
     "output_type": "stream",
     "text": [
      "Input an integer: 3159\n",
      "𖤐𖤐𖤐\n",
      "𖤐\n",
      "𖤐𖤐𖤐𖤐𖤐\n",
      "𖤐𖤐𖤐𖤐𖤐𖤐𖤐𖤐𖤐\n"
     ]
    }
   ],
   "source": [
    "# 방법 1\n",
    "num = input(\"Input an integer: \")\n",
    "for i in range(len(num)):\n",
    "    print(\"𖤐\" * int(num[i]))"
   ]
  },
  {
   "cell_type": "code",
   "execution_count": 34,
   "id": "675555d7",
   "metadata": {},
   "outputs": [
    {
     "name": "stdout",
     "output_type": "stream",
     "text": [
      "input a integer: 3159\n",
      "𖤐𖤐𖤐\n",
      "𖤐\n",
      "𖤐𖤐𖤐𖤐𖤐\n",
      "𖤐𖤐𖤐𖤐𖤐𖤐𖤐𖤐𖤐\n"
     ]
    }
   ],
   "source": [
    "# 방법2\n",
    "number = input(\"input a integer: \")\n",
    "\n",
    "for x in number:\n",
    "    x = int(x)\n",
    "    for _ in range(x):\n",
    "        print(\"𖤐\", end=\"\")\n",
    "    print(\"\")"
   ]
  },
  {
   "cell_type": "code",
   "execution_count": 35,
   "id": "f94ea4ea",
   "metadata": {},
   "outputs": [
    {
     "name": "stdout",
     "output_type": "stream",
     "text": [
      "Input a integer: 3159\n",
      "𖤐𖤐𖤐\n",
      "𖤐\n",
      "𖤐𖤐𖤐𖤐𖤐\n",
      "𖤐𖤐𖤐𖤐𖤐𖤐𖤐𖤐𖤐\n"
     ]
    }
   ],
   "source": [
    "# 방법 3\n",
    "number = input(\"Input a integer: \")\n",
    "i = 0\n",
    "\n",
    "while i < len(number):\n",
    "    x = int(number[i])\n",
    "    print(\"𖤐\"* x)\n",
    "    i += 1"
   ]
  },
  {
   "cell_type": "markdown",
   "id": "13703b57",
   "metadata": {},
   "source": [
    "## 문제 12\n",
    "- “done”을 입력할 때까지 사용자로부터 숫자를 입력 받아 리스트에 저장하고,\n",
    "- “done”을 입력하면, 리스트의 평균, 최대값과 최소값을 출력하는 프로그램을 작성하시오. (힌트. sum(), max(), min() 함수를 사용)"
   ]
  },
  {
   "cell_type": "code",
   "execution_count": 36,
   "id": "ad860949",
   "metadata": {},
   "outputs": [
    {
     "name": "stdout",
     "output_type": "stream",
     "text": [
      "Enter a number: 7\n",
      "Enter a number: 2\n",
      "Enter a number: 9\n",
      "Enter a number: 3\n",
      "Enter a number: 5\n",
      "Enter a number: done\n",
      "Average: 5.2\n",
      "Maimum: 9\n",
      "Minimum: 2\n"
     ]
    }
   ],
   "source": [
    "list_a = []\n",
    "ipt = 0\n",
    "while True:\n",
    "    ipt = input(\"Enter a number: \")\n",
    "    if ipt == 'done':\n",
    "        break\n",
    "    list_a.append(int(ipt))\n",
    "print(f\"Average: {(sum(list_a)/len(list_a))}\")\n",
    "print(f\"Maimum: {max(list_a)}\")\n",
    "print(f\"Minimum: {min(list_a)}\")"
   ]
  }
 ],
 "metadata": {
  "kernelspec": {
   "display_name": "Python 3 (ipykernel)",
   "language": "python",
   "name": "python3"
  },
  "language_info": {
   "codemirror_mode": {
    "name": "ipython",
    "version": 3
   },
   "file_extension": ".py",
   "mimetype": "text/x-python",
   "name": "python",
   "nbconvert_exporter": "python",
   "pygments_lexer": "ipython3",
   "version": "3.8.13"
  },
  "toc": {
   "base_numbering": 1,
   "nav_menu": {},
   "number_sections": true,
   "sideBar": true,
   "skip_h1_title": false,
   "title_cell": "Table of Contents",
   "title_sidebar": "Contents",
   "toc_cell": false,
   "toc_position": {},
   "toc_section_display": true,
   "toc_window_display": true
  },
  "varInspector": {
   "cols": {
    "lenName": 16,
    "lenType": 16,
    "lenVar": 40
   },
   "kernels_config": {
    "python": {
     "delete_cmd_postfix": "",
     "delete_cmd_prefix": "del ",
     "library": "var_list.py",
     "varRefreshCmd": "print(var_dic_list())"
    },
    "r": {
     "delete_cmd_postfix": ") ",
     "delete_cmd_prefix": "rm(",
     "library": "var_list.r",
     "varRefreshCmd": "cat(var_dic_list()) "
    }
   },
   "types_to_exclude": [
    "module",
    "function",
    "builtin_function_or_method",
    "instance",
    "_Feature"
   ],
   "window_display": false
  }
 },
 "nbformat": 4,
 "nbformat_minor": 5
}
