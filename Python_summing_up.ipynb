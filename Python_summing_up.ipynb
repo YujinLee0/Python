{
 "cells": [
  {
   "cell_type": "markdown",
   "id": "93864744",
   "metadata": {},
   "source": [
    "# 함수\n",
    "- 0개 혹은 그 이상의 인자를 입력받아 결과를 반환하는 규칙\n",
    "- 파이썬에서는 def를 이용하여 함수를 정의한다."
   ]
  },
  {
   "cell_type": "code",
   "execution_count": 2,
   "id": "4866f496",
   "metadata": {},
   "outputs": [],
   "source": [
    "def double(x):\n",
    "    \"\"\"\n",
    "    이곳은 함수에 대한 설명을 적어 놓는 공간이다.\n",
    "    예를 들어 '이 함수는 입력된 변수에 2를 곱한 값을 출력해준다'라는 설명을 추가할 수 있다.\n",
    "    \"\"\"\n",
    "    return x * 2"
   ]
  },
  {
   "cell_type": "code",
   "execution_count": 6,
   "id": "da259a98",
   "metadata": {},
   "outputs": [],
   "source": [
    "def apply_to_one(f):\n",
    "    \"\"\" 인자가 1인 함수 f를 호출 \"\"\"\n",
    "    return f(1)\n",
    "\n",
    "my_double = double # 방금 정의한 함수를 나타낸다.\n",
    "x = apply_to_one(my_double) # 2\n",
    "\n",
    "\n",
    "# 짧은 익명의 람다 함수(lambda function)도 간편하게 만들 수 있다.\n",
    "y = apply_to_one(lambda x: x + 4) # 5\n",
    "\n",
    "# 변수에 람다 함수를 할당할 수도 있다.\n",
    "another_double = lambda x: 2*x  # 이 방법은 최대한 피하도록 하자\n",
    "\n",
    "def another_double(x):\n",
    "    \"\"\" 대신 이렇게 작성하자 \"\"\"\n",
    "    return 2 * x"
   ]
  },
  {
   "cell_type": "code",
   "execution_count": 9,
   "id": "6adfc0cc",
   "metadata": {},
   "outputs": [
    {
     "name": "stdout",
     "output_type": "stream",
     "text": [
      "hello\n",
      "my default message\n"
     ]
    }
   ],
   "source": [
    "# 함수의 인자에는 기본값을 할당할 수 있느데 기본값 외의 값을 전달하고 싶을 때는 값을 직접 명시해주면 된다.\n",
    "\n",
    "def my_print(message = \"my default message\"):\n",
    "    print(message)\n",
    "    \n",
    "my_print(\"hello\") # hello 출력\n",
    "my_print() # 'my default message' 출력"
   ]
  },
  {
   "cell_type": "code",
   "execution_count": 13,
   "id": "cc74534e",
   "metadata": {},
   "outputs": [
    {
     "data": {
      "text/plain": [
       "'Yujin Something'"
      ]
     },
     "execution_count": 13,
     "metadata": {},
     "output_type": "execute_result"
    }
   ],
   "source": [
    "# 가끔 인자의 이름을 명시해주면 편리하다\n",
    " \n",
    "def full_name(first = \"What's_his_name\", last = 'Something'):\n",
    "    return first + \" \" + last\n",
    "\n",
    "full_name(\"Yujin\", \"Lee\") # Yujin Lee 반환\n",
    "full_name(\"Yujin\") # Yujin Something 반환"
   ]
  },
  {
   "cell_type": "markdown",
   "id": "e3479d50",
   "metadata": {},
   "source": [
    "# 문자열\n",
    "- 문자열(string)은 작은 따옴표 또는 큰 따옴표로 묶어 나타낸다.\n",
    "- 다만 앞뒤로 동일한 기호를 사용해야 한다."
   ]
  },
  {
   "cell_type": "code",
   "execution_count": 15,
   "id": "49a5f487",
   "metadata": {},
   "outputs": [
    {
     "data": {
      "text/plain": [
       "1"
      ]
     },
     "execution_count": 15,
     "metadata": {},
     "output_type": "execute_result"
    }
   ],
   "source": [
    "# 파이썬은 몇몇 특수 문자를 인코딩할 때 역슬래시를 사용한다.\n",
    "\n",
    "tab_string = \"\\t\" # tab을 의미하는 문자열\n",
    "len(tab_string)"
   ]
  },
  {
   "cell_type": "code",
   "execution_count": 16,
   "id": "0e2cf1e5",
   "metadata": {},
   "outputs": [
    {
     "data": {
      "text/plain": [
       "2"
      ]
     },
     "execution_count": 16,
     "metadata": {},
     "output_type": "execute_result"
    }
   ],
   "source": [
    "# 만약 역슬래시를 역슬래시로 보이는 문자로 사용하고 싶다면 문자열 앞에 \"r\"을 붙여 raw string이라고 명시하면 된다.\n",
    "\n",
    "not_tab_string = r\"\\t\" # 문자 '\\'와 't'를 나타내는 문자열 \n",
    "len(not_tab_string) "
   ]
  },
  {
   "cell_type": "code",
   "execution_count": 20,
   "id": "a1b8a07d",
   "metadata": {},
   "outputs": [],
   "source": [
    "# 문자열 안의 값을 손쉽게 추가할 수 있는 f-string 기능\n",
    "\n",
    "first_name = \"Joel\"\n",
    "last_name = \"Grus\"\n",
    "\n",
    "full_name = first_name + \" \" + last_name # 문자열 합치기\n",
    "full_name2 = \"{0} {1}\".format(first_name, last_name) #  .format을 통한 문자열 합치기\n",
    "\n",
    "# f string을 사용하면 훨씬 간편하게 합칠 수 있다.\n",
    "full_name3 = f\"{first_name} {last_name}\""
   ]
  },
  {
   "cell_type": "markdown",
   "id": "2bb2208d",
   "metadata": {},
   "source": [
    "# 예외 처리"
   ]
  },
  {
   "cell_type": "code",
   "execution_count": 21,
   "id": "5ec78ac9",
   "metadata": {},
   "outputs": [
    {
     "name": "stdout",
     "output_type": "stream",
     "text": [
      "cannot divide by zero\n"
     ]
    }
   ],
   "source": [
    "# 코드가 뭔가 잘못됐을 때 파이썬은 예외(exception)가 발생했음을 알려준다.\n",
    "# 예외를 제대로 처리해 주지 않으면 프로그램이 죽는데, 이를 방지하기 위해 사용할 수 있는 것이 try와 except이다.\n",
    "\n",
    "try:\n",
    "    print(0 / 0)\n",
    "except ZeroDivisionError:\n",
    "    print(\"cannot divide by zero\")"
   ]
  },
  {
   "cell_type": "markdown",
   "id": "e3576ee4",
   "metadata": {},
   "source": [
    "# List\n",
    "- 순서가 있는 자료의 집합(collection)\n"
   ]
  },
  {
   "cell_type": "code",
   "execution_count": 1,
   "id": "bea6cacc",
   "metadata": {},
   "outputs": [],
   "source": [
    "integer_list = [1,2,3]\n",
    "heterogeneous_list = [\"string\", 0,1, True]\n",
    "list_of_lists = [integer_list, heterogeneous_list, []]\n",
    "\n",
    "list_length = len(integer_list) # 3\n",
    "list_sum = sum(integer_list) # 6"
   ]
  },
  {
   "cell_type": "code",
   "execution_count": 2,
   "id": "5e5ab3ab",
   "metadata": {},
   "outputs": [],
   "source": [
    "# 대괄호를 사용해 리스트의 n번째 값을 불러오거나 설정할 수 있다.\n",
    "x = [0,1,2,3,4,5,6,7,8,9]\n",
    "\n",
    "zero = x[0] #결과는 0 (리스트의 순서는 0부터 시작)\n",
    "one = x[1] # 1\n",
    "nine = x[-1] # 9, 리스트의 마지막 항목을 가장 파이썬스럽게 불러오는 방법\n",
    "eight = x[-2] # 8\n",
    "x[0] = -1 # x는 이제 [-1,1,2,3..,9]임"
   ]
  },
  {
   "cell_type": "markdown",
   "id": "1d11801c",
   "metadata": {},
   "source": [
    "- slicing\n",
    "    - i:j 는 리스트를 i번째 값부터 j번째 직전의 값까지 분리하라는 의미\n",
    "    - 만약 i를 따로 명시해주지 않는다면 리스트의 첫번째 값부터 나눈다는 것을 의미한다.\n",
    "    - 반면j를 명시해주지 않는다면 리스트의 마지막 값까지 나눈다는 것을 의미한다."
   ]
  },
  {
   "cell_type": "code",
   "execution_count": 3,
   "id": "135dc526",
   "metadata": {},
   "outputs": [],
   "source": [
    "# 대괄호를 사용해 리스트를 슬라이싱(slicing)할 수 있다.\n",
    "\n",
    "first_three = x[:3] # [-1,1,2]\n",
    "three_to_end = x[3:] # [3,4,...,9]\n",
    "one_to_four = x[1:5] # [1,2,3,4]\n",
    "last_three = x[-3:] # [7,8,9]\n",
    "without_first_and_last = x[1:-1] # [1,2,,,8]\n",
    "copy_of_x = x[:] # [-1,1,2,,9]\n",
    "\n",
    "# 이는 문자열 같은 순차형(sequntial) 변수도 나눌 수 있다.\n"
   ]
  },
  {
   "cell_type": "markdown",
   "id": "aa9a1832",
   "metadata": {},
   "source": [
    "- stride"
   ]
  },
  {
   "cell_type": "code",
   "execution_count": 4,
   "id": "308b52ba",
   "metadata": {},
   "outputs": [],
   "source": [
    "# 간격(stride)을 설정하여 리스트를 분리할 수 있다.\n",
    "# 간격은 음수도 설정 가능\n",
    "\n",
    "every_third = x[::3] #[-1,3,6,9]\n",
    "five_to_three = x[5:2:-1] # [5,4,3]\n",
    "# 인덱스 5에서 인덱스 2전까지 -1 간격으로\n"
   ]
  },
  {
   "cell_type": "markdown",
   "id": "0c89a6b5",
   "metadata": {},
   "source": [
    "- in 연산자"
   ]
  },
  {
   "cell_type": "code",
   "execution_count": 5,
   "id": "c455691d",
   "metadata": {},
   "outputs": [
    {
     "data": {
      "text/plain": [
       "False"
      ]
     },
     "execution_count": 5,
     "metadata": {},
     "output_type": "execute_result"
    }
   ],
   "source": [
    "# in 연산자로 리스트 안에서 항목의 존재 여부 확인\n",
    "1 in [1,2,3] # True\n",
    "0 in [1,2,3] # False\n",
    "\n",
    "# 이 방법은 리스트의 항목을 하나씩 모두 확인해보기 때문에 리스트의 크기가 작을때만 사용하는 것이 좋다"
   ]
  },
  {
   "cell_type": "markdown",
   "id": "eaa7dbc1",
   "metadata": {},
   "source": [
    "- extend - 리스트 추가하기"
   ]
  },
  {
   "cell_type": "code",
   "execution_count": 7,
   "id": "aea2f164",
   "metadata": {},
   "outputs": [],
   "source": [
    "x = [1,2,3]\n",
    "x.extend([4,5,6]) # x는 이제 [1,2,3,4,5,6]\n",
    "\n",
    "# x를 수정하고싶지 않다면 리스트를 더해 줄 수도 있다. \n",
    "x = [1,2,3]\n",
    "y = x + [4,5,6] # y는 이제 [1,2,3,4,5,6]이며 x는 변하지 않았다."
   ]
  },
  {
   "cell_type": "code",
   "execution_count": null,
   "id": "bc6f0dbc",
   "metadata": {},
   "outputs": [],
   "source": [
    "# 리스트에 항목 하나씩 추가하는 경우\n",
    "x = [1,2,3]\n",
    "x.append(0) # 결과는 [1,2,3,0]\n",
    "\n",
    "y = x[-1] # 0\n",
    "z = len(x) # 4"
   ]
  },
  {
   "cell_type": "code",
   "execution_count": null,
   "id": "85621f8c",
   "metadata": {},
   "outputs": [],
   "source": [
    "# 리스트 안에 몇개의 항목이 존재하는지 알고 있다면 손쉽게 리스트를 풀 수도 있다.\n",
    "\n",
    "x,y = [1,2] # 이제 x는 1, y는 2\n",
    "\n",
    "\n",
    "# 하지만 양쪽 항목의 개수가 다르다면 value errorr가 발생한다. 따라서 아래와 같이 버릴 항목을 밑줄로 표시한다.\n",
    "_, y = [1,2] # y == 2이고 첫번째 항목은 신경쓰지 않는다."
   ]
  },
  {
   "cell_type": "markdown",
   "id": "892bfd00",
   "metadata": {},
   "source": [
    "# Tuple\n",
    "- 변경할 수 없는 리스트\n",
    "- 리스트에서 수정을 제외한 모든 기능을 튜플에 적용할 수 있다.\n",
    "- 튜플은 대괄호 대신 괄호를 사용해 (혹은 아무런 기호 없이) 정의한다."
   ]
  },
  {
   "cell_type": "code",
   "execution_count": 8,
   "id": "3208940c",
   "metadata": {},
   "outputs": [
    {
     "name": "stdout",
     "output_type": "stream",
     "text": [
      "cannot modify a tuple\n"
     ]
    }
   ],
   "source": [
    "my_list = [1,2]\n",
    "my_tuple = (1,2)\n",
    "other_tuple = 3,4\n",
    "\n",
    "my_list[1] = 3 # my_list는 이제 [1,3]\n",
    "\n",
    "try:\n",
    "    my_tuple[1] = 3\n",
    "except TypeError:\n",
    "    print(\"cannot modify a tuple\")"
   ]
  },
  {
   "cell_type": "code",
   "execution_count": null,
   "id": "c16053d0",
   "metadata": {},
   "outputs": [],
   "source": [
    "# 함수에서 여러 값을 반환할 때 튜플을 사용하면 편하다.\n",
    "def sum_and_product(x,y):\n",
    "    return (x + y), (x * y)\n",
    "\n",
    "sp = sum_and_product(2,3) # 결과는 (5, 6)\n",
    "s, p = sum_and_product(5,10) # s = 15, p = 50\n"
   ]
  },
  {
   "cell_type": "code",
   "execution_count": null,
   "id": "f947fd04",
   "metadata": {},
   "outputs": [],
   "source": [
    "# 튜플과 리스트는 다중 할당(multiple assignment)을 지원한다.\n",
    "\n",
    "x,y = 1,2 # x는 1, y는 2\n",
    "x,y = y,x # 파이썬스럽게 변수 교환. 이제 x는 2, y는 1\n"
   ]
  },
  {
   "cell_type": "markdown",
   "id": "ba8fe34e",
   "metadata": {},
   "source": [
    "# Dictionary\n",
    "- 특정 값(value)과 연관된 키(key)를 연결해주고 이를 사용해 값을 빠르게 검색할 수 있다.\n",
    "- 딕셔너리의 키는 수정할 수 없으며 리스트를 키로 사용할 수 없다. 만약 다양한 값으로 구성된 키가 필요하다면 튜플이나 문자열을 키로 사용하도록 해야한다."
   ]
  },
  {
   "cell_type": "code",
   "execution_count": 10,
   "id": "90d91a34",
   "metadata": {},
   "outputs": [],
   "source": [
    "empty_dict = {} # 가장 파이썬스럽게 딕셔너리를 만드는 방법\n",
    "empty_dict2 = dict()\n",
    "grades = {\"Joel\": 80, \"Tim\": 95} # 딕셔너리 예시"
   ]
  },
  {
   "cell_type": "code",
   "execution_count": 11,
   "id": "98365944",
   "metadata": {},
   "outputs": [],
   "source": [
    "# 대괄호를 사용해서 키의 값을 불러올 수 있다.\n",
    "\n",
    "joels_grade = grades[\"Joel\"]"
   ]
  },
  {
   "cell_type": "code",
   "execution_count": 12,
   "id": "ab256656",
   "metadata": {},
   "outputs": [
    {
     "name": "stdout",
     "output_type": "stream",
     "text": [
      "no grade for Kate!\n"
     ]
    }
   ],
   "source": [
    "# 딕셔너리에 존재하지 않는 키를 입력하면 keyError 발생\n",
    "\n",
    "try:\n",
    "    kates_grade = grades[\"kate\"]\n",
    "except KeyError:\n",
    "    print(\"no grade for Kate!\")"
   ]
  },
  {
   "cell_type": "code",
   "execution_count": null,
   "id": "43efcb84",
   "metadata": {},
   "outputs": [],
   "source": [
    "# 연산자 in을 사용한 키의 존재 여부 확인\n",
    "    \n",
    "joel_has_grade = \"Joel\" in grades # True\n",
    "kate_has_grade = \"Kate\" in grades # False"
   ]
  },
  {
   "cell_type": "markdown",
   "id": "7b55e136",
   "metadata": {},
   "source": [
    "- get method\n",
    "     - 입력한 키가 딕셔너리에 없어도 에러를 반환하지 않고 기본값을 반환해준다.\n",
    "     "
   ]
  },
  {
   "cell_type": "code",
   "execution_count": 13,
   "id": "7c9e2779",
   "metadata": {},
   "outputs": [],
   "source": [
    "joels_grade = grades.get(\"Joel\",0) # 결과는 80\n",
    "kates_grade = grades.get(\"Kate\", 0) # 결과는 0\n",
    "no_ones_grade = grades.get(\"No One\") # 기본값으로 None을 반환"
   ]
  },
  {
   "cell_type": "code",
   "execution_count": null,
   "id": "1bce170d",
   "metadata": {},
   "outputs": [],
   "source": [
    "# 대괄호를 이용해 키와 값을 새로 지정할 수 있다.\n",
    "\n",
    "grades[\"Tim\"] = 99 # 기존의 값을 대체\n",
    "grades[\"Kate\"] = 100 # 세번째 항목을 추가\n",
    "num_students = len(grades) # 결과는 3"
   ]
  },
  {
   "cell_type": "code",
   "execution_count": 16,
   "id": "e7d8912f",
   "metadata": {},
   "outputs": [],
   "source": [
    "# 정형화된 데이터를 간단하게 나타낼 때는 주로 딕셔너리가 사용된다.\n",
    "\n",
    "tweet = {\n",
    "    \"user\" : 'JoelGrus',\n",
    "    \"text\" : \"Data Science is Awesome\",\n",
    "    \"retweet_count\" : 100,\n",
    "    \"hashtags\" : ['#data', '#science', \"#dataScience\", '#yolo']\n",
    "    \n",
    "}"
   ]
  },
  {
   "cell_type": "code",
   "execution_count": 17,
   "id": "82f0bb40",
   "metadata": {},
   "outputs": [
    {
     "data": {
      "text/plain": [
       "True"
      ]
     },
     "execution_count": 17,
     "metadata": {},
     "output_type": "execute_result"
    }
   ],
   "source": [
    "# 특정 키 대신 딕셔너리의 모든 키를 한번에 살펴볼 수 있다. \n",
    "\n",
    "tweet_keys = tweet.keys() # 키에 대한 리스트\n",
    "tweet_values = tweet.values() # 값에 대한 리스트\n",
    "tweet_items = tweet.items() # (key, value) 튜플에 대한 리스트 \n",
    "\n",
    "'user' in tweet_keys # True, 하지만 리스트에서 in을 사용하기 때문에 느리다\n",
    "'user' in tweet # 훨씬 파이썬스럽고 딕셔너리에서 in을 사용하기에 빠르다\n",
    "'JoelGrus' in tweet_values # True"
   ]
  },
  {
   "cell_type": "markdown",
   "id": "7333e293",
   "metadata": {},
   "source": [
    "- defaultdict\n",
    "    - 평범한 딕셔너리와 유일한 차이점은 만약 존재하지 않는 키가 주어진다면 defaultdict는 이 키와 인자에서 주어진 값으로 dict에 새로운 항목을 추가해준다.\n",
    "    - from collections import defaultdict"
   ]
  },
  {
   "cell_type": "code",
   "execution_count": 2,
   "id": "a0e8d3e8",
   "metadata": {},
   "outputs": [],
   "source": [
    "# 문서에서 단어의 빈도수를 세어보는 중이라고 상상하자. 아래는 가능한 방법들이다.\n",
    "\n",
    "document = \"I love the way you like me. Like wondering around the space.\"\n",
    "\n",
    "# 방법1 \n",
    "word_counts = {}\n",
    "for word in document:\n",
    "    if word in word_counts:\n",
    "        word_counts[word] += 1\n",
    "    else:\n",
    "        word_counts[word] = 1\n",
    "\n",
    "# 방법2\n",
    "word_counts = {}\n",
    "for word in document:\n",
    "    try:\n",
    "        word_counts[word] += 1\n",
    "    except KeyError:\n",
    "        word_counts[word] = 1\n",
    "\n",
    "# 방법3 \n",
    "# 존재하지 않는 키를 적절하게 처리해주는 get을 사용해서 딕셔너리를 생성하는 방법 (word의 이전 count개수를 가져와서 활용)\n",
    "\n",
    "word_counts = {}\n",
    "for word in document:\n",
    "    previous_count = word_counts.get(word,0)\n",
    "    word_counts[word] = previous_count + 1"
   ]
  },
  {
   "cell_type": "code",
   "execution_count": 21,
   "id": "6fcf00c4",
   "metadata": {},
   "outputs": [],
   "source": [
    "# 방법4 - defaultdict 사용\n",
    "from collections import defaultdict\n",
    "\n",
    "word_counts = defaultdict(int) # int()는 0을 생성\n",
    "for word in document:\n",
    "        word_counts[word] += 1\n",
    "\n"
   ]
  },
  {
   "cell_type": "markdown",
   "id": "4f382989",
   "metadata": {},
   "source": [
    "- 리스트, 딕셔너리 혹은 직접 만든 함수를 인자에 넣어줄 수 있다."
   ]
  },
  {
   "cell_type": "code",
   "execution_count": 23,
   "id": "64f94b4e",
   "metadata": {},
   "outputs": [],
   "source": [
    "dd_list = defaultdict(list) # list()는 빈 리스트는 생성\n",
    "dd_list[2].append(1) # dd_list는 {2: [1]}"
   ]
  },
  {
   "cell_type": "code",
   "execution_count": 25,
   "id": "e885d8fc",
   "metadata": {},
   "outputs": [],
   "source": [
    "dd_dict = defaultdict(dict) # dict()는 빈 딕셔너리를 생성\n",
    "dd_dict[\"Joel\"]['City'] = \"Seattle\" # {'Joel': {\"City\": \"Seattle\"}}"
   ]
  },
  {
   "cell_type": "code",
   "execution_count": 27,
   "id": "a4056afe",
   "metadata": {},
   "outputs": [],
   "source": [
    "dd_pair = defaultdict(lambda: [0,0])\n",
    "dd_pair[2][1] = 1 # 이제 dd_pair는 {2: [0,1]}을 포함"
   ]
  },
  {
   "cell_type": "markdown",
   "id": "a1709baa",
   "metadata": {},
   "source": [
    "# Counter\n",
    "- 연속된 값을 defaultdict(int)와 유사한 객체로 변환해 주며, 키와 값의 빈도를 연결시켜 준다."
   ]
  },
  {
   "cell_type": "code",
   "execution_count": 1,
   "id": "28ba164a",
   "metadata": {},
   "outputs": [],
   "source": [
    "from collections import Counter\n",
    "\n",
    "c = Counter([0,1,2,0]) # C는 결국 {0: 2, 1:1, 2:1} -> 0 2개 1 한개 2 한개의 리스트 이므로"
   ]
  },
  {
   "cell_type": "code",
   "execution_count": 3,
   "id": "b4395585",
   "metadata": {},
   "outputs": [
    {
     "data": {
      "text/plain": [
       "Counter({'I': 1,\n",
       "         ' ': 11,\n",
       "         'l': 2,\n",
       "         'o': 4,\n",
       "         'v': 1,\n",
       "         'e': 8,\n",
       "         't': 2,\n",
       "         'h': 2,\n",
       "         'w': 2,\n",
       "         'a': 3,\n",
       "         'y': 2,\n",
       "         'u': 2,\n",
       "         'i': 3,\n",
       "         'k': 2,\n",
       "         'm': 1,\n",
       "         '.': 2,\n",
       "         'L': 1,\n",
       "         'n': 3,\n",
       "         'd': 2,\n",
       "         'r': 2,\n",
       "         'g': 1,\n",
       "         's': 1,\n",
       "         'p': 1,\n",
       "         'c': 1})"
      ]
     },
     "execution_count": 3,
     "metadata": {},
     "output_type": "execute_result"
    }
   ],
   "source": [
    "# 특정 문서에서 단어의 개수를 셀 때도 유용하다. \n",
    "# document는 단어의 리스트\n",
    "\n",
    "word_counts = Counter(document)\n",
    "word_counts"
   ]
  },
  {
   "cell_type": "code",
   "execution_count": 4,
   "id": "6dc85211",
   "metadata": {},
   "outputs": [
    {
     "name": "stdout",
     "output_type": "stream",
     "text": [
      "  11\n",
      "e 8\n",
      "o 4\n",
      "a 3\n",
      "i 3\n",
      "n 3\n",
      "l 2\n",
      "t 2\n",
      "h 2\n",
      "w 2\n"
     ]
    }
   ],
   "source": [
    "# Counter 객체에는 굉장히 유용하게 쓰이는 most_common 함수가 있다.\n",
    "# 가장 자주 나오는 단어 10개와 이 단어드르이 빈도수를 출력\n",
    "\n",
    "for word, count in word_counts.most_common(10): # word - key, count - item\n",
    "    print(word, count) "
   ]
  },
  {
   "cell_type": "markdown",
   "id": "023e42b0",
   "metadata": {},
   "source": [
    "# Set\n",
    "- 집합(set)은 파이썬의 데이터구조 중 유일한 항목의 집합을 나타내는 구조다\n",
    "- 집합은 중괄호를 사용해서 정의한다.\n",
    "\n",
    "- 집합의 장점\n",
    "    - in은 집합에서 굉장히 빠르게 작동한다. \n",
    "        - 수많은 항목 중에서 특정 항목의 존재 여부를 확인해보기 위해서는 리스트를 사용하는 것 보다 집합을 사용하는 것이 훨씬 효율적이다. \n",
    "    - 중복된 원소를 제거해준다. \n",
    " "
   ]
  },
  {
   "cell_type": "code",
   "execution_count": 1,
   "id": "b332b07b",
   "metadata": {},
   "outputs": [],
   "source": [
    "primes_below_10 = {2,3,5,7}"
   ]
  },
  {
   "cell_type": "code",
   "execution_count": 2,
   "id": "562419e9",
   "metadata": {},
   "outputs": [
    {
     "name": "stdout",
     "output_type": "stream",
     "text": [
      "True False\n"
     ]
    }
   ],
   "source": [
    "# { }는 비어있는 딕셔너리를 의미하기 때문에 set()을 사용해서 비어있는 set을 생성할 수 있다.\n",
    "\n",
    "s = set()\n",
    "\n",
    "# 추가하는 것이 append가 아닌 add임에 주의 \n",
    "s.add(1) # s = {1}\n",
    "s.add(2) # s = {1,2}\n",
    "s.add(2) # s = {1,2} - 중복 허용이 안되기 때문\n",
    "\n",
    "x = len(s) # 2\n",
    "y = 2 in s # True\n",
    "z = 3 in s # False\n",
    "print(y,z)"
   ]
  },
  {
   "cell_type": "code",
   "execution_count": 7,
   "id": "219615a6",
   "metadata": {},
   "outputs": [
    {
     "data": {
      "text/plain": [
       "False"
      ]
     },
     "execution_count": 7,
     "metadata": {},
     "output_type": "execute_result"
    }
   ],
   "source": [
    "# list의 in 사용\n",
    "stopword_list = [\"a\", \"an\", \"at\"] +  [\"yet\", \"you\"]\n",
    "\n",
    "\"zip\" in stopword_list # 모든 항목을 확인해야 한다."
   ]
  },
  {
   "cell_type": "code",
   "execution_count": 8,
   "id": "a5f9ded7",
   "metadata": {},
   "outputs": [
    {
     "data": {
      "text/plain": [
       "False"
      ]
     },
     "execution_count": 8,
     "metadata": {},
     "output_type": "execute_result"
    }
   ],
   "source": [
    "# set의 in 사용\n",
    "stopword_set = set(stopword_list)\n",
    "\"zip\" in stopword_set # 굉장히 빠르게 확인 가능"
   ]
  },
  {
   "cell_type": "code",
   "execution_count": 3,
   "id": "8fd700a2",
   "metadata": {},
   "outputs": [],
   "source": [
    "# 중복된 원소 제거 \n",
    "\n",
    "item_list = [1,2,3,1,2,3]\n",
    "num_items = len(item_list) # 6\n",
    "item_set = set(item_list) # {1,2,3}\n",
    "\n",
    "num_distinct_items = len(item_set) # 3\n",
    "distinct_item_list = list(item_set) # {1,2,3}\n"
   ]
  },
  {
   "cell_type": "code",
   "execution_count": 4,
   "id": "ebd9417d",
   "metadata": {},
   "outputs": [
    {
     "data": {
      "text/plain": [
       "{1, 3}"
      ]
     },
     "execution_count": 4,
     "metadata": {},
     "output_type": "execute_result"
    }
   ],
   "source": [
    "# set 원소 제거\n",
    "item_set.remove(2)\n",
    "item_set"
   ]
  },
  {
   "cell_type": "code",
   "execution_count": 6,
   "id": "132d809f",
   "metadata": {},
   "outputs": [
    {
     "data": {
      "text/plain": [
       "{1, 3, 4, 6, 8}"
      ]
     },
     "execution_count": 6,
     "metadata": {},
     "output_type": "execute_result"
    }
   ],
   "source": [
    "item_set.discard(7)\n",
    "item_set"
   ]
  },
  {
   "cell_type": "code",
   "execution_count": 5,
   "id": "ad0ff67b",
   "metadata": {},
   "outputs": [
    {
     "data": {
      "text/plain": [
       "{1, 3, 4, 6, 8}"
      ]
     },
     "execution_count": 5,
     "metadata": {},
     "output_type": "execute_result"
    }
   ],
   "source": [
    "# set 원소 여러개 추가\n",
    "item_set.update([1,4,6,8,3])\n",
    "item_set"
   ]
  },
  {
   "cell_type": "code",
   "execution_count": 7,
   "id": "47e96052",
   "metadata": {},
   "outputs": [],
   "source": [
    "# set 전체 비우기\n",
    "item_set.clear()"
   ]
  },
  {
   "cell_type": "code",
   "execution_count": 8,
   "id": "8c4da999",
   "metadata": {},
   "outputs": [
    {
     "data": {
      "text/plain": [
       "{3}"
      ]
     },
     "execution_count": 8,
     "metadata": {},
     "output_type": "execute_result"
    }
   ],
   "source": [
    "# 합집합, 교집합, 차집합\n",
    "\n",
    "s1 = {1,2,3}\n",
    "s2 = {3,4,5}\n",
    "\n",
    "# 합집합\n",
    "s1.union(s2)\n",
    "\n",
    "# 교집합\n",
    "s1.intersection(s2)\n",
    "\n",
    "# 차집합\n",
    "s1 - s2 # or s1.difference(s2)\n",
    "\n",
    "# 합집합\n",
    "s1 | s2\n",
    "\n",
    "# 교집합\n",
    "s1 & s2"
   ]
  },
  {
   "cell_type": "markdown",
   "id": "f3798280",
   "metadata": {},
   "source": [
    "# 흐름제어 IF"
   ]
  },
  {
   "cell_type": "code",
   "execution_count": 11,
   "id": "b85c36d9",
   "metadata": {},
   "outputs": [],
   "source": [
    "if 1 > 2:\n",
    "    message = 'if only i were greater than two...'\n",
    "elif 1 > 3:\n",
    "    message = \"elif stands for 'else if'\"\n",
    "else:\n",
    "    mesage = 'When all else fails use else (if you want to)'"
   ]
  },
  {
   "cell_type": "code",
   "execution_count": 17,
   "id": "28d3121d",
   "metadata": {},
   "outputs": [
    {
     "name": "stdout",
     "output_type": "stream",
     "text": [
      "0\n",
      "1\n",
      "2\n",
      "4\n"
     ]
    }
   ],
   "source": [
    "for x in range(10):\n",
    "    if x == 3:\n",
    "        continue # 다음 경우로 넘어간다. \n",
    "    if x == 5:\n",
    "        break # for문 전체를 끝낸다. \n",
    "    print(x)"
   ]
  },
  {
   "cell_type": "markdown",
   "id": "7b35231f",
   "metadata": {},
   "source": [
    "- 삼항 연산자 한 줄로 표현하기\n",
    "- **A if 조건문 else B**\n",
    "    ->  조건문이 True이면 A, 아니면 B"
   ]
  },
  {
   "cell_type": "code",
   "execution_count": 16,
   "id": "af8f62e9",
   "metadata": {},
   "outputs": [
    {
     "data": {
      "text/plain": [
       "'odd'"
      ]
     },
     "execution_count": 16,
     "metadata": {},
     "output_type": "execute_result"
    }
   ],
   "source": [
    "# 삼항 연산자(temary operator)인 if-then-else문을 한 줄로 표현할 수도 있다.\n",
    "\n",
    "parity = \"even\" if x % 2 == 0 else \"odd\" \n",
    "\n",
    "parity"
   ]
  },
  {
   "cell_type": "markdown",
   "id": "2f3b2c59",
   "metadata": {},
   "source": [
    "# True와 False"
   ]
  },
  {
   "cell_type": "code",
   "execution_count": 18,
   "id": "5ec27747",
   "metadata": {},
   "outputs": [],
   "source": [
    "one_is_less_than_two = 1 < 2 # True\n",
    "true_equals_false = True == False # False"
   ]
  },
  {
   "cell_type": "markdown",
   "id": "a5c345c5",
   "metadata": {},
   "source": [
    "## None\n",
    "- 파이썬은 다른 값으로도 bool 타입을 표현할 수 있게 해주는데, 다음은 모두 False를 의미한다.\n",
    "    - False\n",
    "    - None\n",
    "    - [ ]\n",
    "    - { }\n",
    "    - \"\"\n",
    "    - set( )\n",
    "    - 0\n",
    "    - 0.0"
   ]
  },
  {
   "cell_type": "code",
   "execution_count": 23,
   "id": "689dea17",
   "metadata": {},
   "outputs": [],
   "source": [
    "# 파이썬은 존재하지 않는 값을 None으로 표기한다.\n",
    "x = None\n",
    "assert x == None, \"this is not the Pythonic way to check for None\"\n",
    "assert x is None, \"this is the Pythonic way to check for None\"\n",
    "\n",
    "# 가정 설정문 - assert\n",
    "# assert는 뒤의 조건이 True가 아니면 AssertError를 발생한다. -> 에러일경우 뒤에 있는 해당 문장을 반환"
   ]
  },
  {
   "cell_type": "markdown",
   "id": "29201722",
   "metadata": {},
   "source": [
    "# Sort (정렬)\n",
    "- list를 자동으로 정렬\n",
    "- 내림차순 -> reverse = True\n",
    "- 절댓값 -> key = abs\n"
   ]
  },
  {
   "cell_type": "code",
   "execution_count": null,
   "id": "12d74a99",
   "metadata": {},
   "outputs": [],
   "source": [
    "x = [4,1,2,3]\n",
    "y = sorted(x) # y는 [1,2,3,4] 하지만 x는 변하지 않는다.\n",
    "x.sort() # 이제 x는 [1,2,3,4]"
   ]
  },
  {
   "cell_type": "code",
   "execution_count": null,
   "id": "feeb4009",
   "metadata": {},
   "outputs": [],
   "source": [
    "# 절댓값의 내림차순으로 정렬할 경우\n",
    "x = sorted([-4,1,-2,3], key=abs, reverse=True) # [-4,3,-2,1]"
   ]
  },
  {
   "cell_type": "code",
   "execution_count": 30,
   "id": "1a70ea78",
   "metadata": {},
   "outputs": [
    {
     "data": {
      "text/plain": [
       "[(' ', 11),\n",
       " ('e', 8),\n",
       " ('o', 4),\n",
       " ('a', 3),\n",
       " ('i', 3),\n",
       " ('n', 3),\n",
       " ('l', 2),\n",
       " ('t', 2),\n",
       " ('h', 2),\n",
       " ('w', 2),\n",
       " ('y', 2),\n",
       " ('u', 2),\n",
       " ('k', 2),\n",
       " ('.', 2),\n",
       " ('d', 2),\n",
       " ('r', 2),\n",
       " ('I', 1),\n",
       " ('v', 1),\n",
       " ('m', 1),\n",
       " ('L', 1),\n",
       " ('g', 1),\n",
       " ('s', 1),\n",
       " ('p', 1),\n",
       " ('c', 1)]"
      ]
     },
     "execution_count": 30,
     "metadata": {},
     "output_type": "execute_result"
    }
   ],
   "source": [
    "# 빈도의 내림차순으로 단어와 빈도를 정렬\n",
    "wc = sorted(word_counts.items(), key=lambda word_and_count: word_and_count[1], reverse = True)\n",
    "wc"
   ]
  },
  {
   "cell_type": "markdown",
   "id": "44a30203",
   "metadata": {},
   "source": [
    "# List Comprehension (리스트 컴프리헨션)\n",
    "\n",
    "- 기존의 리스트에서 특정 항목을 선택하거나 변환시킨 결과를 새로운 리스트에 저장하는 경우 사용한다"
   ]
  },
  {
   "cell_type": "code",
   "execution_count": 28,
   "id": "b7ce5d94",
   "metadata": {},
   "outputs": [],
   "source": [
    "even_numbers = [x for x in range(5) if x % 2 ==0] # [0,2,4]\n",
    "squares = [x * x for x in range(5)]\n",
    "even_squares = [x * x for x in even_numbers] # [0,4,16]"
   ]
  },
  {
   "cell_type": "code",
   "execution_count": null,
   "id": "5b386ddc",
   "metadata": {},
   "outputs": [],
   "source": [
    "# 딕셔너리나 집합으로 변환시킬 수 있다.\n",
    "\n",
    "square_dict = {x: x * x for x in range(5)} # {0: 0, 1:1, 2:4, 3:9, 4:16}}\n",
    "square_set = {x * x for x in [1,-1]}  # {1}\n",
    "\n",
    "# 동일하게 중괄호이지만 안에 어떻게 표현하느냐에 따라 딕셔너리, 집합임이 달라지는 것 주의 "
   ]
  },
  {
   "cell_type": "code",
   "execution_count": 30,
   "id": "bb57a459",
   "metadata": {},
   "outputs": [
    {
     "name": "stdout",
     "output_type": "stream",
     "text": [
      "1\n",
      "-1\n"
     ]
    }
   ],
   "source": [
    "# 보통 리스트에서 불필요한 값은 밑줄로 표기\n",
    "\n",
    "zero = [0 for _ in even_numbers] # even_numbers와 동일한 길이"
   ]
  },
  {
   "cell_type": "code",
   "execution_count": null,
   "id": "07911fed",
   "metadata": {},
   "outputs": [],
   "source": [
    "# 여러 for를 포함할 수 있다\n",
    "# 뒤에 나오는 (두번째) for는 앞에 나온 결과에 대해 반복한다.\n",
    "\n",
    "pairs = [(x,y)\n",
    "        for x in range(10)\n",
    "        for y in range(10)\n",
    "        ]\n",
    "# (0,0), (0,1), ,, (9,8), (9,9) 총 100개"
   ]
  },
  {
   "cell_type": "code",
   "execution_count": null,
   "id": "a9c70e09",
   "metadata": {},
   "outputs": [],
   "source": [
    "increasing_pairs = [(x,y)\n",
    "                   for x in range(10)\n",
    "                   for y in range(x + 1, 10)]"
   ]
  },
  {
   "cell_type": "markdown",
   "id": "7e9f57a5",
   "metadata": {},
   "source": [
    "# 자동 테스트와 assert"
   ]
  },
  {
   "cell_type": "markdown",
   "id": "3a8a187d",
   "metadata": {},
   "source": [
    "# 객체 지향 프로그래밍"
   ]
  },
  {
   "cell_type": "markdown",
   "id": "e04d1566",
   "metadata": {},
   "source": [
    "# 이터레이터와 제너레이터"
   ]
  },
  {
   "cell_type": "markdown",
   "id": "b35f30c7",
   "metadata": {},
   "source": [
    "# 정규표현식"
   ]
  },
  {
   "cell_type": "markdown",
   "id": "c2751e54",
   "metadata": {},
   "source": [
    "# zip과 인자 언패킹"
   ]
  },
  {
   "cell_type": "markdown",
   "id": "86212f7a",
   "metadata": {},
   "source": [
    "# 타입 어노테이션"
   ]
  },
  {
   "cell_type": "code",
   "execution_count": null,
   "id": "3d257da3",
   "metadata": {},
   "outputs": [],
   "source": []
  },
  {
   "cell_type": "code",
   "execution_count": null,
   "id": "f8ef9970",
   "metadata": {},
   "outputs": [],
   "source": []
  },
  {
   "cell_type": "code",
   "execution_count": null,
   "id": "f692ed66",
   "metadata": {},
   "outputs": [],
   "source": []
  },
  {
   "cell_type": "code",
   "execution_count": null,
   "id": "0758d730",
   "metadata": {},
   "outputs": [],
   "source": []
  },
  {
   "cell_type": "code",
   "execution_count": null,
   "id": "ab4e4e66",
   "metadata": {},
   "outputs": [],
   "source": []
  },
  {
   "cell_type": "code",
   "execution_count": null,
   "id": "835c5dd8",
   "metadata": {},
   "outputs": [],
   "source": []
  },
  {
   "cell_type": "code",
   "execution_count": null,
   "id": "16ab9009",
   "metadata": {},
   "outputs": [],
   "source": []
  }
 ],
 "metadata": {
  "kernelspec": {
   "display_name": "Python 3 (ipykernel)",
   "language": "python",
   "name": "python3"
  },
  "language_info": {
   "codemirror_mode": {
    "name": "ipython",
    "version": 3
   },
   "file_extension": ".py",
   "mimetype": "text/x-python",
   "name": "python",
   "nbconvert_exporter": "python",
   "pygments_lexer": "ipython3",
   "version": "3.8.13"
  },
  "toc": {
   "base_numbering": 1,
   "nav_menu": {},
   "number_sections": true,
   "sideBar": true,
   "skip_h1_title": false,
   "title_cell": "Table of Contents",
   "title_sidebar": "Contents",
   "toc_cell": false,
   "toc_position": {
    "height": "calc(100% - 180px)",
    "left": "10px",
    "top": "150px",
    "width": "288px"
   },
   "toc_section_display": true,
   "toc_window_display": true
  },
  "varInspector": {
   "cols": {
    "lenName": 16,
    "lenType": 16,
    "lenVar": 40
   },
   "kernels_config": {
    "python": {
     "delete_cmd_postfix": "",
     "delete_cmd_prefix": "del ",
     "library": "var_list.py",
     "varRefreshCmd": "print(var_dic_list())"
    },
    "r": {
     "delete_cmd_postfix": ") ",
     "delete_cmd_prefix": "rm(",
     "library": "var_list.r",
     "varRefreshCmd": "cat(var_dic_list()) "
    }
   },
   "types_to_exclude": [
    "module",
    "function",
    "builtin_function_or_method",
    "instance",
    "_Feature"
   ],
   "window_display": false
  }
 },
 "nbformat": 4,
 "nbformat_minor": 5
}
