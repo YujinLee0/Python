{
 "cells": [
  {
   "cell_type": "markdown",
   "id": "1e49c0eb",
   "metadata": {},
   "source": [
    "# 시퀀스(Sequence) 자료형\n",
    "- 내부 원소들이 순서를 가지고 구성된 자료형\n",
    "- 문자열, 리스트, 튜플\n",
    "- 공통 특성\n",
    "    - 연결 (+)\n",
    "    - 반복 (*)\n",
    "    - 인덱싱 (Indexing)\n",
    "    - 슬라이싱 (Slicing)\n",
    "    - 멤버확인 (in)\n",
    "    - 크기정보 (Len())"
   ]
  },
  {
   "cell_type": "markdown",
   "id": "0a8b988d",
   "metadata": {},
   "source": [
    "## 문자열 (String)\n",
    "- 문자들의 집합으로 작은 따옴표(' ') 또는 큰 따옴표 (\" \")로 묶임"
   ]
  },
  {
   "cell_type": "code",
   "execution_count": 1,
   "id": "854c2f78",
   "metadata": {},
   "outputs": [
    {
     "data": {
      "text/plain": [
       "'Hello world!'"
      ]
     },
     "execution_count": 1,
     "metadata": {},
     "output_type": "execute_result"
    }
   ],
   "source": [
    "\"Hello world!\""
   ]
  },
  {
   "cell_type": "code",
   "execution_count": 2,
   "id": "97117def",
   "metadata": {},
   "outputs": [
    {
     "data": {
      "text/plain": [
       "'Python is fun!'"
      ]
     },
     "execution_count": 2,
     "metadata": {},
     "output_type": "execute_result"
    }
   ],
   "source": [
    "a = 'Python is fun!'\n",
    "a"
   ]
  },
  {
   "cell_type": "code",
   "execution_count": 3,
   "id": "66e533dc",
   "metadata": {},
   "outputs": [
    {
     "data": {
      "text/plain": [
       "str"
      ]
     },
     "execution_count": 3,
     "metadata": {},
     "output_type": "execute_result"
    }
   ],
   "source": [
    "type(a)"
   ]
  },
  {
   "cell_type": "code",
   "execution_count": 5,
   "id": "7efda20f",
   "metadata": {},
   "outputs": [
    {
     "data": {
      "text/plain": [
       "'0904'"
      ]
     },
     "execution_count": 5,
     "metadata": {},
     "output_type": "execute_result"
    }
   ],
   "source": [
    "\"0904\" # 안에는 숫자로만 이루어져있지만 따옴표로 묶어져있기 때문에 이는 문자열이다."
   ]
  },
  {
   "cell_type": "markdown",
   "id": "f0d8bf14",
   "metadata": {},
   "source": [
    "### 문자열 연결 및 반복"
   ]
  },
  {
   "cell_type": "markdown",
   "id": "50eefc19",
   "metadata": {},
   "source": [
    "- '+' 연산자\n",
    "    - **자료형이 동일한** 두 시퀀스 자료를 연결하여 샐운 시퀀스 자료로 생성\n",
    "    - 문자열 사이에 사용하여 합치는 기능을 함"
   ]
  },
  {
   "cell_type": "code",
   "execution_count": 6,
   "id": "58f9069f",
   "metadata": {},
   "outputs": [
    {
     "data": {
      "text/plain": [
       "'PythonisFun!'"
      ]
     },
     "execution_count": 6,
     "metadata": {},
     "output_type": "execute_result"
    }
   ],
   "source": [
    "'Python' + 'is' + 'Fun!'"
   ]
  },
  {
   "cell_type": "markdown",
   "id": "990fe7f0",
   "metadata": {},
   "source": [
    "- '*' 연산자\n",
    "    - 시퀀스 자료를 여러 번 반복하여 새로운 시퀀스 자료로 생성"
   ]
  },
  {
   "cell_type": "code",
   "execution_count": 7,
   "id": "5d7a15f2",
   "metadata": {},
   "outputs": [
    {
     "data": {
      "text/plain": [
       "'PythonPythonPython'"
      ]
     },
     "execution_count": 7,
     "metadata": {},
     "output_type": "execute_result"
    }
   ],
   "source": [
    "'Python' * 3"
   ]
  },
  {
   "cell_type": "markdown",
   "id": "43a4237e",
   "metadata": {},
   "source": [
    "## 문자열 인덱싱\n",
    "- 인덱스를 통해 해당 값에 접근\n",
    "    - 인덱스는 0부터 시작\n",
    "    - 끝에서부터 시작할 경우 -1, -2,,,"
   ]
  },
  {
   "cell_type": "code",
   "execution_count": 8,
   "id": "f4656c1e",
   "metadata": {},
   "outputs": [
    {
     "data": {
      "text/plain": [
       "'P'"
      ]
     },
     "execution_count": 8,
     "metadata": {},
     "output_type": "execute_result"
    }
   ],
   "source": [
    "word = \"Python\"\n",
    "word[0]"
   ]
  },
  {
   "cell_type": "code",
   "execution_count": 9,
   "id": "dd73f34c",
   "metadata": {},
   "outputs": [
    {
     "data": {
      "text/plain": [
       "'n'"
      ]
     },
     "execution_count": 9,
     "metadata": {},
     "output_type": "execute_result"
    }
   ],
   "source": [
    "word[-1]"
   ]
  },
  {
   "cell_type": "markdown",
   "id": "ab2c7122",
   "metadata": {},
   "source": [
    "## 문자열 슬라이싱\n",
    "- 특정 구간의 값을 취할 수 있음 (한 번에 여러개 추출)\n",
    "- **[시작 인덱스: 끝 인덱스 + 1: 스텝 ]**\n",
    "    - 시작 인덱스부터 끝 인덱스까지의 자료를 취하라는 의미\n",
    "    - 스텝은 자료를 취하는 간격으로 생략해도 되며 기본값은 1"
   ]
  },
  {
   "cell_type": "code",
   "execution_count": 10,
   "id": "28a6395b",
   "metadata": {},
   "outputs": [
    {
     "data": {
      "text/plain": [
       "'Py'"
      ]
     },
     "execution_count": 10,
     "metadata": {},
     "output_type": "execute_result"
    }
   ],
   "source": [
    "word = 'Python'\n",
    "word[0:2] "
   ]
  },
  {
   "cell_type": "code",
   "execution_count": 11,
   "id": "9e40e860",
   "metadata": {},
   "outputs": [
    {
     "data": {
      "text/plain": [
       "'Py'"
      ]
     },
     "execution_count": 11,
     "metadata": {},
     "output_type": "execute_result"
    }
   ],
   "source": [
    "word[:2] # 콜론 앞 생략할 경우 - 문자열 시작부터 ~"
   ]
  },
  {
   "cell_type": "code",
   "execution_count": 12,
   "id": "6b666dd6",
   "metadata": {},
   "outputs": [
    {
     "data": {
      "text/plain": [
       "'hon'"
      ]
     },
     "execution_count": 12,
     "metadata": {},
     "output_type": "execute_result"
    }
   ],
   "source": [
    "word[3:] # 콜론 뒤 생략할 경우 - ~ 문자열 끝까지"
   ]
  },
  {
   "cell_type": "code",
   "execution_count": 23,
   "id": "2786c954",
   "metadata": {},
   "outputs": [
    {
     "data": {
      "text/plain": [
       "'987654321'"
      ]
     },
     "execution_count": 23,
     "metadata": {},
     "output_type": "execute_result"
    }
   ],
   "source": [
    "word = \"123456789\"\n",
    "word[::-1] # 스텝이 -1이고 시작과 끝 인덱스가 지정되지 않았기에 전체를 반환"
   ]
  },
  {
   "cell_type": "code",
   "execution_count": 24,
   "id": "b2b709ac",
   "metadata": {},
   "outputs": [
    {
     "data": {
      "text/plain": [
       "'13579'"
      ]
     },
     "execution_count": 24,
     "metadata": {},
     "output_type": "execute_result"
    }
   ],
   "source": [
    "word[::2] # 스텝이 2이기 때문에 시작이 앞에서부터 시작되며 2 step 씩 끝까지 간다."
   ]
  },
  {
   "cell_type": "code",
   "execution_count": 25,
   "id": "4b17699a",
   "metadata": {},
   "outputs": [
    {
     "data": {
      "text/plain": [
       "'97531'"
      ]
     },
     "execution_count": 25,
     "metadata": {},
     "output_type": "execute_result"
    }
   ],
   "source": [
    "word[::-2]"
   ]
  },
  {
   "cell_type": "markdown",
   "id": "2ee9b359",
   "metadata": {},
   "source": [
    "## In 키워드\n",
    "- in 키워드를 사용하여 특정 값이 시퀀스 자료의 요소로 속해있는지 확인\n",
    "- <값> in <자료>"
   ]
  },
  {
   "cell_type": "code",
   "execution_count": 13,
   "id": "5ed7a48b",
   "metadata": {},
   "outputs": [
    {
     "data": {
      "text/plain": [
       "True"
      ]
     },
     "execution_count": 13,
     "metadata": {},
     "output_type": "execute_result"
    }
   ],
   "source": [
    "word = 'Python'\n",
    "'o' in word # 문자열에 특정 문자 있는지 확인"
   ]
  },
  {
   "cell_type": "code",
   "execution_count": 14,
   "id": "90891202",
   "metadata": {},
   "outputs": [
    {
     "data": {
      "text/plain": [
       "False"
      ]
     },
     "execution_count": 14,
     "metadata": {},
     "output_type": "execute_result"
    }
   ],
   "source": [
    "'x' in word"
   ]
  },
  {
   "cell_type": "code",
   "execution_count": 16,
   "id": "0ae4a1d8",
   "metadata": {},
   "outputs": [
    {
     "data": {
      "text/plain": [
       "True"
      ]
     },
     "execution_count": 16,
     "metadata": {},
     "output_type": "execute_result"
    }
   ],
   "source": [
    "'on' in word # 문자열에 특정 문자열 있는지 확인"
   ]
  },
  {
   "cell_type": "markdown",
   "id": "1cd4eafd",
   "metadata": {},
   "source": [
    "## 문자열 관련 함수\n",
    "- len()\n",
    "- count()\n",
    "- index()\n",
    "- join()\n",
    "- split()"
   ]
  },
  {
   "cell_type": "markdown",
   "id": "0bb38d85",
   "metadata": {},
   "source": [
    "- len( )\n",
    "    - 시퀀스 자료의 크기를 알 수 있음\n",
    "    - 문자열의 문자 개수 반환하는 내장 함수"
   ]
  },
  {
   "cell_type": "code",
   "execution_count": 17,
   "id": "ef04e7d1",
   "metadata": {},
   "outputs": [
    {
     "data": {
      "text/plain": [
       "6"
      ]
     },
     "execution_count": 17,
     "metadata": {},
     "output_type": "execute_result"
    }
   ],
   "source": [
    "word = 'Python'\n",
    "len(word)"
   ]
  },
  {
   "cell_type": "code",
   "execution_count": 18,
   "id": "b8e81a08",
   "metadata": {},
   "outputs": [
    {
     "data": {
      "text/plain": [
       "14"
      ]
     },
     "execution_count": 18,
     "metadata": {},
     "output_type": "execute_result"
    }
   ],
   "source": [
    "len('Python is Fun!') # 띄어쓰기도 len에 포함된다."
   ]
  },
  {
   "cell_type": "markdown",
   "id": "325daeba",
   "metadata": {},
   "source": [
    "- count()\n",
    "    - 문자열 중 문자의 개수를 반환"
   ]
  },
  {
   "cell_type": "code",
   "execution_count": 19,
   "id": "8143b89c",
   "metadata": {},
   "outputs": [
    {
     "data": {
      "text/plain": [
       "2"
      ]
     },
     "execution_count": 19,
     "metadata": {},
     "output_type": "execute_result"
    }
   ],
   "source": [
    "s = 'Python is Fun!'\n",
    "s.count('n') # 문자 'n'의 개수 반환"
   ]
  },
  {
   "cell_type": "markdown",
   "id": "7177ee87",
   "metadata": {},
   "source": [
    "- index(  )\n",
    "    - 문자열 중 특정문자가 **처음으로** 나온 위치 반환"
   ]
  },
  {
   "cell_type": "code",
   "execution_count": 20,
   "id": "3b4d0972",
   "metadata": {},
   "outputs": [
    {
     "data": {
      "text/plain": [
       "5"
      ]
     },
     "execution_count": 20,
     "metadata": {},
     "output_type": "execute_result"
    }
   ],
   "source": [
    "s = 'Python is Fun!'\n",
    "s.index('n') # Python의 n의 index를 반환"
   ]
  },
  {
   "cell_type": "markdown",
   "id": "2f70ca2c",
   "metadata": {},
   "source": [
    "- join( )\n",
    "    - 문자열을 합해줌"
   ]
  },
  {
   "cell_type": "code",
   "execution_count": 22,
   "id": "5116fe4e",
   "metadata": {},
   "outputs": [
    {
     "data": {
      "text/plain": [
       "'1,2,3,4'"
      ]
     },
     "execution_count": 22,
     "metadata": {},
     "output_type": "execute_result"
    }
   ],
   "source": [
    "a = ','\n",
    "a.join('1234')\n",
    "# ','.join('1234') 라고도 표현 가능 "
   ]
  },
  {
   "cell_type": "code",
   "execution_count": 30,
   "id": "f7b2a89a",
   "metadata": {},
   "outputs": [
    {
     "data": {
      "text/plain": [
       "'1-.-2-.-3-.-4'"
      ]
     },
     "execution_count": 30,
     "metadata": {},
     "output_type": "execute_result"
    }
   ],
   "source": [
    "'-.-'.join('1234')"
   ]
  },
  {
   "cell_type": "markdown",
   "id": "55b27763",
   "metadata": {},
   "source": [
    "- split( )\n",
    "    - 문자열은 공백이나 다른 문자로 분리해서 **리스트**로 반환"
   ]
  },
  {
   "cell_type": "code",
   "execution_count": 27,
   "id": "1afae922",
   "metadata": {},
   "outputs": [
    {
     "data": {
      "text/plain": [
       "['Python', 'is', 'fun']"
      ]
     },
     "execution_count": 27,
     "metadata": {},
     "output_type": "execute_result"
    }
   ],
   "source": [
    "s1 = 'Python is fun'\n",
    "s1.split(\" \") # 공백 기준으로 분리\n",
    "# list 형태로 반환한다."
   ]
  },
  {
   "cell_type": "code",
   "execution_count": 39,
   "id": "04d27ce5",
   "metadata": {},
   "outputs": [
    {
     "name": "stdout",
     "output_type": "stream",
     "text": [
      "Pytho\n",
      "n is Fun\n"
     ]
    }
   ],
   "source": [
    "a = 'Pytho\\nn is Fun'\n",
    "print(a) # \\n은 Enter 역할"
   ]
  },
  {
   "cell_type": "code",
   "execution_count": 41,
   "id": "7a18c760",
   "metadata": {},
   "outputs": [
    {
     "name": "stdout",
     "output_type": "stream",
     "text": [
      "Python is\t fun\n"
     ]
    }
   ],
   "source": [
    "a = 'Python is\\t fun'\n",
    "print(a) # \\t은 tab 역할"
   ]
  },
  {
   "cell_type": "code",
   "execution_count": 42,
   "id": "854e5c8b",
   "metadata": {},
   "outputs": [
    {
     "data": {
      "text/plain": [
       "['Python', 'is', 'fun']"
      ]
     },
     "execution_count": 42,
     "metadata": {},
     "output_type": "execute_result"
    }
   ],
   "source": [
    "# \\n, \\t와 같은 것을 화이트 스페이스라고 한다. 이런 것에 대해 한꺼번에 처리하고자 할 경우 split()으로 사용 가능하다.\n",
    "a.split()"
   ]
  },
  {
   "cell_type": "code",
   "execution_count": 28,
   "id": "c15b6a4a",
   "metadata": {},
   "outputs": [
    {
     "data": {
      "text/plain": [
       "['One', 'Two', 'Three']"
      ]
     },
     "execution_count": 28,
     "metadata": {},
     "output_type": "execute_result"
    }
   ],
   "source": [
    "s2 = 'One:Two:Three'\n",
    "s2.split(\":\") # 콜론으로 분리 "
   ]
  },
  {
   "cell_type": "code",
   "execution_count": 29,
   "id": "dabd80ea",
   "metadata": {},
   "outputs": [
    {
     "data": {
      "text/plain": [
       "'One:Two:Three'"
      ]
     },
     "execution_count": 29,
     "metadata": {},
     "output_type": "execute_result"
    }
   ],
   "source": [
    "s2 "
   ]
  },
  {
   "cell_type": "markdown",
   "id": "e3fa8e0d",
   "metadata": {},
   "source": [
    "## 실습문제3\n",
    "- 문자열의 마지막 문자를 구해서 출력해보자"
   ]
  },
  {
   "cell_type": "code",
   "execution_count": 26,
   "id": "076aa5be",
   "metadata": {},
   "outputs": [
    {
     "data": {
      "text/plain": [
       "'o'"
      ]
     },
     "execution_count": 26,
     "metadata": {},
     "output_type": "execute_result"
    }
   ],
   "source": [
    "word = \"Hello\"\n",
    "# 음의 인덱스를 사용하는 방법\n",
    "word[-1] "
   ]
  },
  {
   "cell_type": "code",
   "execution_count": 37,
   "id": "bdf0e5e0",
   "metadata": {},
   "outputs": [
    {
     "data": {
      "text/plain": [
       "'o'"
      ]
     },
     "execution_count": 37,
     "metadata": {},
     "output_type": "execute_result"
    }
   ],
   "source": [
    "# len( )힘수를 이용하는 방법\n",
    "word[len(word) -1]"
   ]
  },
  {
   "cell_type": "markdown",
   "id": "13bf0f5e",
   "metadata": {},
   "source": [
    "# List\n",
    "- 여러 정보를 하나로 묶어서 저장하고 관리할 수 있게 함\n",
    "- **리스트 이름 = [값1,값2,값3]\n",
    "- [ ] 안에 쉼표로 구분하여 정보를 적어 주면 됨"
   ]
  },
  {
   "cell_type": "code",
   "execution_count": 44,
   "id": "9d4f0ce7",
   "metadata": {},
   "outputs": [],
   "source": [
    "# 문자열을 원소로 가지는 예제\n",
    "fruit = ['banana', 'apple','cherry']\n",
    "\n",
    "# 숫자를 원소로 가지는 예제\n",
    "score = [70, 99, 25, 100]\n",
    "\n",
    "# Empty list\n",
    "e_list = []"
   ]
  },
  {
   "cell_type": "markdown",
   "id": "8d53e07a",
   "metadata": {},
   "source": [
    "## list indexing\n",
    "- index\n",
    "    - 원소가 배열된 순서를 나타냄(0번부터 시작)"
   ]
  },
  {
   "cell_type": "code",
   "execution_count": 45,
   "id": "9ccb72a9",
   "metadata": {},
   "outputs": [
    {
     "data": {
      "text/plain": [
       "'summer'"
      ]
     },
     "execution_count": 45,
     "metadata": {},
     "output_type": "execute_result"
    }
   ],
   "source": [
    "season = ['spring', 'summer','fall', 'winter']\n",
    "season[1]"
   ]
  },
  {
   "cell_type": "markdown",
   "id": "a7eb8953",
   "metadata": {},
   "source": [
    "## list slicing\n",
    "- 특정 구간의 값을 취할 수 있음 (한번에 여러개 추출)\n",
    "- **[시작 인덱스: 끝 인덱스 +1 : 스텝]**"
   ]
  },
  {
   "cell_type": "code",
   "execution_count": 46,
   "id": "c17b3518",
   "metadata": {},
   "outputs": [
    {
     "data": {
      "text/plain": [
       "[45, 87]"
      ]
     },
     "execution_count": 46,
     "metadata": {},
     "output_type": "execute_result"
    }
   ],
   "source": [
    "a = [45, 87, 99, 21, 55]\n",
    "a[0:2]"
   ]
  },
  {
   "cell_type": "code",
   "execution_count": 48,
   "id": "9deef948",
   "metadata": {},
   "outputs": [
    {
     "name": "stdout",
     "output_type": "stream",
     "text": [
      "[45, 87]\n",
      "[21, 55]\n"
     ]
    }
   ],
   "source": [
    "print(a[:2]) # 콜론 앞 생략: 리스트 시작부터 ~\n",
    "print(a[3:]) # 콜론 뒤 생략: ~ 리스트 끝까지"
   ]
  },
  {
   "cell_type": "markdown",
   "id": "b6f031fa",
   "metadata": {},
   "source": [
    "## list 더하기, 반복"
   ]
  },
  {
   "cell_type": "code",
   "execution_count": 49,
   "id": "f9350493",
   "metadata": {},
   "outputs": [
    {
     "data": {
      "text/plain": [
       "[1, 2, 3, 4, 5, 6]"
      ]
     },
     "execution_count": 49,
     "metadata": {},
     "output_type": "execute_result"
    }
   ],
   "source": [
    "a = [1,2,3]\n",
    "b = [4,5,6]\n",
    "\n",
    "a + b"
   ]
  },
  {
   "cell_type": "code",
   "execution_count": 51,
   "id": "84b31dfa",
   "metadata": {},
   "outputs": [
    {
     "data": {
      "text/plain": [
       "[1, 2, 3, 1, 2, 3, 1, 2, 3]"
      ]
     },
     "execution_count": 51,
     "metadata": {},
     "output_type": "execute_result"
    }
   ],
   "source": [
    "a * 3 # a 리스트 안의 모든 원소들에 대해 n번 반복"
   ]
  },
  {
   "cell_type": "markdown",
   "id": "d6bca9dd",
   "metadata": {},
   "source": [
    "## in & not in 키워드\n",
    "- in: list의 element인가를 결정하는 연산자\n",
    "- not in: list의 element가 아닌 element를 결정하는 연산자"
   ]
  },
  {
   "cell_type": "code",
   "execution_count": 52,
   "id": "1a5049c8",
   "metadata": {},
   "outputs": [
    {
     "data": {
      "text/plain": [
       "True"
      ]
     },
     "execution_count": 52,
     "metadata": {},
     "output_type": "execute_result"
    }
   ],
   "source": [
    "fruit = ['banana','apple','orange']\n",
    "'apple' in fruit"
   ]
  },
  {
   "cell_type": "code",
   "execution_count": 53,
   "id": "85cd3b1f",
   "metadata": {},
   "outputs": [
    {
     "data": {
      "text/plain": [
       "False"
      ]
     },
     "execution_count": 53,
     "metadata": {},
     "output_type": "execute_result"
    }
   ],
   "source": [
    "'cherry' in fruit"
   ]
  },
  {
   "cell_type": "markdown",
   "id": "1060b6f1",
   "metadata": {},
   "source": [
    "## list 수정 및 삭제"
   ]
  },
  {
   "cell_type": "code",
   "execution_count": 54,
   "id": "1a143da0",
   "metadata": {},
   "outputs": [
    {
     "data": {
      "text/plain": [
       "[1, 2, 8]"
      ]
     },
     "execution_count": 54,
     "metadata": {},
     "output_type": "execute_result"
    }
   ],
   "source": [
    "a = [1,2,3]\n",
    "a[2] = 8 # a[2]의 요소 값 수정\n",
    "a"
   ]
  },
  {
   "cell_type": "code",
   "execution_count": 55,
   "id": "a6bb3d6b",
   "metadata": {},
   "outputs": [
    {
     "data": {
      "text/plain": [
       "[2, 8]"
      ]
     },
     "execution_count": 55,
     "metadata": {},
     "output_type": "execute_result"
    }
   ],
   "source": [
    "del a[0] # del 키워드 사용해 리스트 삭제 (del a[x:y] 형태로 사용가능)\n",
    "a"
   ]
  },
  {
   "cell_type": "markdown",
   "id": "7cc53d69",
   "metadata": {},
   "source": [
    "## list 패킹, 언패킹\n",
    "- 패킹: 한 변수에 여러개의 데이터를 넣는 것\n",
    "- 언패킹: 한 변수의 데이터를 각각의 변수로 반환"
   ]
  },
  {
   "cell_type": "code",
   "execution_count": 56,
   "id": "aa4c288a",
   "metadata": {},
   "outputs": [
    {
     "name": "stdout",
     "output_type": "stream",
     "text": [
      "1 2 3\n"
     ]
    }
   ],
   "source": [
    "t = [1,2,3] # 1,2,3을 변수 t에 패킹\n",
    "a,b,c = t # t 값 1,2,3을 a,b,c에 언패킹\n",
    "print(a,b,c)"
   ]
  },
  {
   "cell_type": "code",
   "execution_count": 60,
   "id": "6df1fc1c",
   "metadata": {},
   "outputs": [
    {
     "name": "stdout",
     "output_type": "stream",
     "text": [
      "개수가 맞지 않으면 에러가 발생\n"
     ]
    }
   ],
   "source": [
    "try:\n",
    "    x,y = t\n",
    "except ValueError:\n",
    "    print(\"개수가 맞지 않으면 에러가 발생\")"
   ]
  },
  {
   "cell_type": "markdown",
   "id": "ab80ba17",
   "metadata": {},
   "source": [
    "## 실습문제 4\n",
    "- 실행예제를 참고하여 프로그램 작성하기\n",
    "- 실행예제\n",
    "    - 날짜(연/월/일) 입력: 2022/07/27\n",
    "    - 입력한 날짜의 10년 후는 2032년 7월 27일"
   ]
  },
  {
   "cell_type": "code",
   "execution_count": 65,
   "id": "9c2d4007",
   "metadata": {},
   "outputs": [
    {
     "name": "stdout",
     "output_type": "stream",
     "text": [
      "날짜를 입력하세요(/를 이용하여 년,월,일을 구분할 것)2022/07/27\n",
      "입력한 날짜의 10년 후는 2032년 07월 27일 입니다.\n"
     ]
    }
   ],
   "source": [
    "date = input(\"날짜를 입력하세요(/를 이용하여 년,월,일을 구분할 것)\").split(\"/\")\n",
    "y = int(date[0])\n",
    "m = date[1]\n",
    "d = date[2]\n",
    "\n",
    "print(f\"입력한 날짜의 10년 후는 {y+10}년 {m}월 {d}일 입니다.\")\n"
   ]
  },
  {
   "cell_type": "code",
   "execution_count": 69,
   "id": "8bea71fc",
   "metadata": {},
   "outputs": [
    {
     "name": "stdout",
     "output_type": "stream",
     "text": [
      "날짜를 입력하세요(/를 이용하여 년,월,일을 구분할 것)2022/07/27\n",
      "입력한 날짜의 10년 후는 2032년 07월 27일\n"
     ]
    }
   ],
   "source": [
    "# Answer\n",
    "date = input(\"날짜를 입력하세요(/를 이용하여 년,월,일을 구분할 것)\")\n",
    "datelist = date.split(\"/\")\n",
    "year, month, day = datelist\n",
    "print(\"입력한 날짜의 10년 후는 %s년 %s월 %s일\" %(int(year)+10,month,day))"
   ]
  },
  {
   "cell_type": "code",
   "execution_count": 70,
   "id": "e8acf237",
   "metadata": {},
   "outputs": [
    {
     "data": {
      "text/plain": [
       "[2022, 7, 27]"
      ]
     },
     "execution_count": 70,
     "metadata": {},
     "output_type": "execute_result"
    }
   ],
   "source": [
    "# list의 전체를 int로 바꾸는 방법 - map\n",
    "list(map(int, datelist))"
   ]
  },
  {
   "cell_type": "markdown",
   "id": "81b53b40",
   "metadata": {},
   "source": [
    "# 조건문"
   ]
  },
  {
   "cell_type": "markdown",
   "id": "52b34bab",
   "metadata": {},
   "source": [
    "## Bool 자료형\n",
    "- Bool은 True와 False의 두 가지 값을 나타내는 자료\n",
    "- 조건문이 다음과 같을 때 거짓으로 평가\n",
    "    - False, None, 숫자\n",
    "    - 비어있는 순서열\n",
    "    - 비어있는 딕셔너리\n",
    "    \n",
    "- 어떤 객체가 참인지 거짓인지 알고 싶을 때 Bool(   ) 함수 이용"
   ]
  },
  {
   "cell_type": "code",
   "execution_count": 72,
   "id": "48924c01",
   "metadata": {},
   "outputs": [
    {
     "name": "stdout",
     "output_type": "stream",
     "text": [
      "True\n"
     ]
    }
   ],
   "source": [
    "result = 3 > 2\n",
    "print(result)"
   ]
  },
  {
   "cell_type": "code",
   "execution_count": 73,
   "id": "646597c4",
   "metadata": {},
   "outputs": [
    {
     "data": {
      "text/plain": [
       "bool"
      ]
     },
     "execution_count": 73,
     "metadata": {},
     "output_type": "execute_result"
    }
   ],
   "source": [
    "type(result)"
   ]
  },
  {
   "cell_type": "code",
   "execution_count": 74,
   "id": "3086efde",
   "metadata": {},
   "outputs": [
    {
     "data": {
      "text/plain": [
       "False"
      ]
     },
     "execution_count": 74,
     "metadata": {},
     "output_type": "execute_result"
    }
   ],
   "source": [
    "bool(0.0)"
   ]
  },
  {
   "cell_type": "code",
   "execution_count": 75,
   "id": "654e32fa",
   "metadata": {},
   "outputs": [
    {
     "data": {
      "text/plain": [
       "True"
      ]
     },
     "execution_count": 75,
     "metadata": {},
     "output_type": "execute_result"
    }
   ],
   "source": [
    "bool([1,2,3])"
   ]
  },
  {
   "cell_type": "markdown",
   "id": "515d6303",
   "metadata": {},
   "source": [
    "## 관계 연산자와 논리 연산자\n",
    "- 연산의 결과는 항상 참(True) 또는 거짓(False)\n",
    "- 관계 연산자\n",
    "    - <, >, ==, <=, >=, !=\n",
    "        - ** == 와 =는 서로 다른 연산자이다\n",
    "- 논리 연산자\n",
    "    - not\n",
    "    - and\n",
    "    - or"
   ]
  },
  {
   "cell_type": "code",
   "execution_count": 71,
   "id": "f6576e5d",
   "metadata": {},
   "outputs": [
    {
     "data": {
      "text/plain": [
       "False"
      ]
     },
     "execution_count": 71,
     "metadata": {},
     "output_type": "execute_result"
    }
   ],
   "source": [
    "a = 99\n",
    "\n",
    "(a > 100) and (a < 200) # False & True 이기 때문에 False"
   ]
  },
  {
   "cell_type": "code",
   "execution_count": 76,
   "id": "126bd190",
   "metadata": {},
   "outputs": [
    {
     "data": {
      "text/plain": [
       "True"
      ]
     },
     "execution_count": 76,
     "metadata": {},
     "output_type": "execute_result"
    }
   ],
   "source": [
    "(a > 100) or (a < 200)"
   ]
  },
  {
   "cell_type": "code",
   "execution_count": 77,
   "id": "1a3bbd1a",
   "metadata": {},
   "outputs": [
    {
     "data": {
      "text/plain": [
       "True"
      ]
     },
     "execution_count": 77,
     "metadata": {},
     "output_type": "execute_result"
    }
   ],
   "source": [
    "not(a == 100)"
   ]
  },
  {
   "cell_type": "markdown",
   "id": "c5751f66",
   "metadata": {},
   "source": [
    "## if\n",
    "- 조건문의 결과가 참이면 A를 수행\n",
    "- 블록(Block)\n",
    "    - 여러 코드가 이루는 일정한 구역\n",
    "    - **파이썬의 경우 들여쓰기로 구역을 나눔**\n",
    "    - 들여쓰기는 스페이스나 탭 둘 다 사용 가능 (스페이스 4칸 사용 권장)"
   ]
  },
  {
   "cell_type": "markdown",
   "id": "1ef79cf9",
   "metadata": {},
   "source": [
    "### if - else\n",
    "- 조건의 결과가 참이면 if문 바로 다음의 문장(if블록)들을 수행하고 거짓이면 else문 다음의 문장(else 블록)들을 수행"
   ]
  },
  {
   "cell_type": "code",
   "execution_count": 79,
   "id": "5d5ca0d6",
   "metadata": {},
   "outputs": [
    {
     "name": "stdout",
     "output_type": "stream",
     "text": [
      "It is False\n",
      "It is same or bigger than 100\n",
      "\n",
      "Programe Over\n"
     ]
    }
   ],
   "source": [
    "a = 200\n",
    "\n",
    "if a < 100:\n",
    "    print(\"It is True\")\n",
    "    print(\"It is smaller than 100\")\n",
    "\n",
    "else:\n",
    "    print(\"It is False\")\n",
    "    print(\"It is same or bigger than 100\")\n",
    "    \n",
    "print(\"\\nPrograme Over\")"
   ]
  },
  {
   "cell_type": "markdown",
   "id": "2f752be7",
   "metadata": {},
   "source": [
    "### if - elif - else\n",
    "- 다중 조건 판단\n"
   ]
  },
  {
   "cell_type": "code",
   "execution_count": 80,
   "id": "2ad6d90d",
   "metadata": {},
   "outputs": [
    {
     "name": "stdout",
     "output_type": "stream",
     "text": [
      "정수를 입력하시오: 45\n",
      "양수입니다.\n"
     ]
    }
   ],
   "source": [
    "num = int(input(\"정수를 입력하시오: \"))\n",
    "\n",
    "if num > 0:\n",
    "    print(\"양수입니다.\")\n",
    "elif num == 0:\n",
    "    print(\"0 입니다.\")\n",
    "else:\n",
    "    print(\"음수입니다.\")"
   ]
  },
  {
   "cell_type": "markdown",
   "id": "2199c0fe",
   "metadata": {},
   "source": [
    "### if문 응용"
   ]
  },
  {
   "cell_type": "code",
   "execution_count": 81,
   "id": "4cae9e9d",
   "metadata": {},
   "outputs": [
    {
     "name": "stdout",
     "output_type": "stream",
     "text": [
      "It is True\n"
     ]
    }
   ],
   "source": [
    "if 'aa' in 'daaad':\n",
    "    print(\"It is True\")\n",
    "else:\n",
    "    print(\"It is False\")"
   ]
  },
  {
   "cell_type": "markdown",
   "id": "c4ef073b",
   "metadata": {},
   "source": [
    "## 실습1\n",
    "- 학생수준평가 시험에서 영어 점수와 수학 점수가 합해서 110점 이상이면 합격이다. \n",
    "- 단, 각 점수가 40점 미만이면 불합격이다. 영어 (eng), 수학(math)점수를 입력 받아 합격여부를 출력하는 프로그램 을 작성하시오"
   ]
  },
  {
   "cell_type": "code",
   "execution_count": 87,
   "id": "8b46f6e3",
   "metadata": {},
   "outputs": [
    {
     "name": "stdout",
     "output_type": "stream",
     "text": [
      "영어 점수를 입력하시오: 35\n",
      "수학 점수를 입력하시오: 95\n",
      "불합격: 영어 점수 부족\n"
     ]
    }
   ],
   "source": [
    "eng = int(input(\"영어 점수를 입력하시오: \"))\n",
    "math = int(input(\"수학 점수를 입력하시오: \"))\n",
    "\n",
    "if (eng + math) >= 110:\n",
    "    if eng >= 40 and math >= 40:\n",
    "         print(\"합격입니다.\")\n",
    "    elif eng >= 40 and math < 40:\n",
    "        print(\"불합격: 수학 점수 부족\")\n",
    "    else:\n",
    "        print(\"불합격: 영어 점수 부족\")\n",
    "else:\n",
    "    print(\"불합격: 총합 점수 부족\")"
   ]
  },
  {
   "cell_type": "code",
   "execution_count": null,
   "id": "a930b6ef",
   "metadata": {},
   "outputs": [],
   "source": [
    "# Answer\n",
    "\n",
    "if (eng + math) < 100:\n",
    "    print(\"불합격: 총합 점수 부족\")\n",
    "elif math < 40:\n",
    "    print(\"불합격: 수학 점수 부족\")\n",
    "elif eng < 40:\n",
    "    print(\"불합격: 영어 점수 부족\")\n",
    "else:\n",
    "    print(\"합격입니다.\")"
   ]
  },
  {
   "cell_type": "markdown",
   "id": "de478b28",
   "metadata": {},
   "source": [
    "## 실습2\n",
    "- 세 개의 정수를 입력 받아, 가장 큰 수만 출력하는 프로그램을 작성하시오. (반복문, max 함수, 정렬 함수 등을 사용할 수 없음)"
   ]
  },
  {
   "cell_type": "code",
   "execution_count": 92,
   "id": "560b60e3",
   "metadata": {},
   "outputs": [
    {
     "name": "stdout",
     "output_type": "stream",
     "text": [
      "세 개의 수를 입력하시오: 30 22 50\n",
      "가장 큰 수는 50입니다.\n"
     ]
    }
   ],
   "source": [
    "numList = input(\"세 개의 수를 입력하시오: \").split(\" \")\n",
    "num1, num2, num3 = map(int, numList)\n",
    "\n",
    "if num1 >= num2:\n",
    "    if num1 >= num3:\n",
    "        print(f\"가장 큰 수는 {num1}입니다.\")\n",
    "    elif num1 < num3:\n",
    "        print(f\"가장 큰 수는 {num3}입니다.\")\n",
    "elif num2 <= num3:\n",
    "    print(f\"가장 큰 수는 {num3}입니다.\")\n",
    "else:\n",
    "    print(f\"가장 큰 수는 {num2}입니다.\")"
   ]
  },
  {
   "cell_type": "code",
   "execution_count": 97,
   "id": "7c48bb77",
   "metadata": {},
   "outputs": [
    {
     "name": "stdout",
     "output_type": "stream",
     "text": [
      "세 개의 수를 입력하시오: 30 22 50\n",
      "50\n"
     ]
    }
   ],
   "source": [
    "a, b, c = input(\"세 개의 수를 입력하시오: \").split()\n",
    "a,b,c = int(a), int(b), int(c)\n",
    "\n",
    "max_value = a\n",
    "if a > b:\n",
    "    if a > c:\n",
    "        max_value = a\n",
    "    else:\n",
    "        max_value = c\n",
    "elif b < c:\n",
    "    max_value = c\n",
    "else:\n",
    "    max_value = b\n",
    "print(max_value)"
   ]
  },
  {
   "cell_type": "code",
   "execution_count": 96,
   "id": "6d41ec07",
   "metadata": {},
   "outputs": [
    {
     "name": "stdout",
     "output_type": "stream",
     "text": [
      "세 개의 수를 입력하시오: 30 22 50\n",
      "50\n"
     ]
    }
   ],
   "source": [
    "# 반복문 사용해보기 (by me)\n",
    "\n",
    "numList = input(\"세 개의 수를 입력하시오: \").split(\" \")\n",
    "numList = map(int, numList)\n",
    "maxx = 0\n",
    "\n",
    "for num in numList:\n",
    "    if num > maxx:\n",
    "        maxx = num\n",
    "    else:\n",
    "        continue\n",
    "print(maxx)"
   ]
  },
  {
   "cell_type": "markdown",
   "id": "e6e54fb7",
   "metadata": {},
   "source": [
    "# 반복문"
   ]
  },
  {
   "cell_type": "markdown",
   "id": "f4da119a",
   "metadata": {},
   "source": [
    "## While문\n",
    "- 조건이 참이 동안 A를 반복 수행"
   ]
  },
  {
   "cell_type": "code",
   "execution_count": 99,
   "id": "0744f2e8",
   "metadata": {},
   "outputs": [
    {
     "name": "stdout",
     "output_type": "stream",
     "text": [
      "1\n",
      "2\n",
      "3\n",
      "4\n",
      "5\n"
     ]
    }
   ],
   "source": [
    "number = 1\n",
    "while number <= 5:\n",
    "    print(number)\n",
    "    number = number + 1"
   ]
  },
  {
   "cell_type": "code",
   "execution_count": 101,
   "id": "e7261402",
   "metadata": {},
   "outputs": [
    {
     "name": "stdout",
     "output_type": "stream",
     "text": [
      "1 2 3 4 5 "
     ]
    }
   ],
   "source": [
    "# 실행 결과를 한 줄에 이어서 출력하고 싶은 경우\n",
    "number = 1\n",
    "while number <= 5:\n",
    "    print(number, end=\" \")\n",
    "    number = number + 1"
   ]
  },
  {
   "cell_type": "code",
   "execution_count": 103,
   "id": "3f0034f8",
   "metadata": {},
   "outputs": [
    {
     "name": "stdout",
     "output_type": "stream",
     "text": [
      "1부터 10까지의 합: 55\n"
     ]
    }
   ],
   "source": [
    "# 1부터 10까지의 합\n",
    "num = 1\n",
    "summ = 0\n",
    "while num <= 10:\n",
    "    summ += num\n",
    "    num += 1\n",
    "print(f\"1부터 10까지의 합: {summ}\")"
   ]
  },
  {
   "cell_type": "markdown",
   "id": "52665295",
   "metadata": {},
   "source": [
    "## Range(  ) 함수\n",
    "- range(start, stop, step)\n",
    "- start부터 step만큼씩 (증가/감소)하여 stop 전까지의 모든 정수의 값을 리스트 형태로 반환"
   ]
  },
  {
   "cell_type": "code",
   "execution_count": 105,
   "id": "fc6b10ed",
   "metadata": {},
   "outputs": [
    {
     "data": {
      "text/plain": [
       "[1, 3, 5]"
      ]
     },
     "execution_count": 105,
     "metadata": {},
     "output_type": "execute_result"
    }
   ],
   "source": [
    "list(range(1,7,2))"
   ]
  },
  {
   "cell_type": "code",
   "execution_count": 107,
   "id": "1b6b7b44",
   "metadata": {},
   "outputs": [
    {
     "data": {
      "text/plain": [
       "[0, 1, 2, 3, 4]"
      ]
     },
     "execution_count": 107,
     "metadata": {},
     "output_type": "execute_result"
    }
   ],
   "source": [
    "# start와 step은 생략될 수 있음\n",
    "# 생략된 경우 start의 값은 0, step은 1이라고 간주\n",
    "list(range(5))"
   ]
  },
  {
   "cell_type": "code",
   "execution_count": 108,
   "id": "c724ca7a",
   "metadata": {},
   "outputs": [
    {
     "data": {
      "text/plain": [
       "[5, 6, 7, 8, 9]"
      ]
     },
     "execution_count": 108,
     "metadata": {},
     "output_type": "execute_result"
    }
   ],
   "source": [
    "list(range(5,10))\n",
    "# list로 넣어주지 않으면 range 객체 자체로 반환된다. "
   ]
  },
  {
   "cell_type": "code",
   "execution_count": 112,
   "id": "7896d2bd",
   "metadata": {},
   "outputs": [
    {
     "data": {
      "text/plain": [
       "5"
      ]
     },
     "execution_count": 112,
     "metadata": {},
     "output_type": "execute_result"
    }
   ],
   "source": [
    "range(1,7,2)[2] # range 객체에 대해서 인덱스 사용도 가능함"
   ]
  },
  {
   "cell_type": "code",
   "execution_count": 113,
   "id": "7a59e8e4",
   "metadata": {},
   "outputs": [
    {
     "data": {
      "text/plain": [
       "[10, 11, 12, 13, 14]"
      ]
     },
     "execution_count": 113,
     "metadata": {},
     "output_type": "execute_result"
    }
   ],
   "source": [
    "[i for i in range(10,15,1)] # 리스트로 만들기 "
   ]
  },
  {
   "cell_type": "markdown",
   "id": "3da728c6",
   "metadata": {},
   "source": [
    "## For 문\n",
    "- 순서열을 순회하다가 순서열의 끝에 도달하면 반복을 종료함\n",
    "- for 반복변수 in 순서열: 반복할 문장"
   ]
  },
  {
   "cell_type": "code",
   "execution_count": 114,
   "id": "dc336a2a",
   "metadata": {},
   "outputs": [
    {
     "name": "stdout",
     "output_type": "stream",
     "text": [
      "Hello World!\n",
      "Hello World!\n",
      "Hello World!\n",
      "Hello World!\n",
      "Hello World!\n"
     ]
    }
   ],
   "source": [
    "for x in range(5):\n",
    "    print(\"Hello World!\")"
   ]
  },
  {
   "cell_type": "code",
   "execution_count": 115,
   "id": "728fcfcb",
   "metadata": {},
   "outputs": [
    {
     "name": "stdout",
     "output_type": "stream",
     "text": [
      "Hello World!\n",
      "Hello World!\n",
      "Hello World!\n",
      "Hello World!\n",
      "Hello World!\n"
     ]
    }
   ],
   "source": [
    "for x in 'sdfsa':\n",
    "    print(\"Hello World!\")\n",
    "\n",
    " # 문자형에 대해서도 문자의 len만큼 출력이 된다."
   ]
  },
  {
   "cell_type": "code",
   "execution_count": 116,
   "id": "a158524d",
   "metadata": {},
   "outputs": [
    {
     "name": "stdout",
     "output_type": "stream",
     "text": [
      "0 1 2 3 4 "
     ]
    }
   ],
   "source": [
    "for x in range(5):\n",
    "    print(x, end=\" \")"
   ]
  },
  {
   "cell_type": "code",
   "execution_count": 117,
   "id": "2e63a567",
   "metadata": {},
   "outputs": [
    {
     "name": "stdout",
     "output_type": "stream",
     "text": [
      "python"
     ]
    }
   ],
   "source": [
    "for x in 'python':\n",
    "    print(x, end='')"
   ]
  },
  {
   "cell_type": "code",
   "execution_count": 119,
   "id": "4e4f28e6",
   "metadata": {},
   "outputs": [
    {
     "data": {
      "text/plain": [
       "True"
      ]
     },
     "execution_count": 119,
     "metadata": {},
     "output_type": "execute_result"
    }
   ],
   "source": [
    "# 아래의 in 키워드와는 전혀 다른 기능임에 주의할 것\n",
    "'d' in 'dddd'\n",
    "# 이는 \"dddd\".__contains__(\"dd\")와 같은 의미"
   ]
  },
  {
   "cell_type": "markdown",
   "id": "ea8c5def",
   "metadata": {},
   "source": [
    "## 실습1\n",
    "- 구구단 출력"
   ]
  },
  {
   "cell_type": "code",
   "execution_count": 120,
   "id": "f4dfc2b0",
   "metadata": {},
   "outputs": [
    {
     "name": "stdout",
     "output_type": "stream",
     "text": [
      "출력하고 싶은 단을 입력하세요: 7\n",
      "7 * 1 = 7\n",
      "7 * 2 = 14\n",
      "7 * 3 = 21\n",
      "7 * 4 = 28\n",
      "7 * 5 = 35\n",
      "7 * 6 = 42\n",
      "7 * 7 = 49\n",
      "7 * 8 = 56\n",
      "7 * 9 = 63\n"
     ]
    }
   ],
   "source": [
    "num = int(input(\"출력하고 싶은 단을 입력하세요: \"))\n",
    "\n",
    "for i in range(1,10,1):\n",
    "    print(f\"{num} * {i} = {num * i}\")"
   ]
  },
  {
   "cell_type": "markdown",
   "id": "1092ed3a",
   "metadata": {},
   "source": [
    "## 중첩 반복문\n",
    "- 반복문 내부의 반복문"
   ]
  },
  {
   "cell_type": "markdown",
   "id": "3afc91a6",
   "metadata": {},
   "source": [
    "## 실습2\n",
    "- 별 출력 프로그램"
   ]
  },
  {
   "cell_type": "code",
   "execution_count": 135,
   "id": "7baa6ca6",
   "metadata": {},
   "outputs": [
    {
     "name": "stdout",
     "output_type": "stream",
     "text": [
      "Input an integer: 3159\n",
      "𖤐𖤐𖤐\n",
      "𖤐\n",
      "𖤐𖤐𖤐𖤐𖤐\n",
      "𖤐𖤐𖤐𖤐𖤐𖤐𖤐𖤐𖤐\n"
     ]
    }
   ],
   "source": [
    "num = input(\"Input an integer: \")\n",
    "for i in range(len(num)):\n",
    "    print(\"𖤐\" * int(num[i]))"
   ]
  },
  {
   "cell_type": "code",
   "execution_count": 137,
   "id": "a2fd1294",
   "metadata": {},
   "outputs": [
    {
     "name": "stdout",
     "output_type": "stream",
     "text": [
      "input a integer: 3194\n",
      "𖤐𖤐𖤐\n",
      "𖤐\n",
      "𖤐𖤐𖤐𖤐𖤐𖤐𖤐𖤐𖤐\n",
      "𖤐𖤐𖤐𖤐\n"
     ]
    }
   ],
   "source": [
    "# while문 사용 ANSWER1\n",
    "\n",
    "number = input(\"input a integer: \")\n",
    "\n",
    "for x in number:\n",
    "    x = int(x)\n",
    "    for _ in range(x):\n",
    "        print(\"𖤐\", end=\"\")\n",
    "    print(\"\")\n"
   ]
  },
  {
   "cell_type": "code",
   "execution_count": 138,
   "id": "2d0ad4f3",
   "metadata": {},
   "outputs": [
    {
     "name": "stdout",
     "output_type": "stream",
     "text": [
      "Input a integer: 3194\n",
      "𖤐𖤐𖤐\n",
      "𖤐\n",
      "𖤐𖤐𖤐𖤐𖤐𖤐𖤐𖤐𖤐\n",
      "𖤐𖤐𖤐𖤐\n"
     ]
    }
   ],
   "source": [
    "# while문 사용 ANSWER2\n",
    "\n",
    "number = input(\"Input a integer: \")\n",
    "i = 0\n",
    "\n",
    "while i < len(number):\n",
    "    x = int(number[i])\n",
    "    print(\"𖤐\"* x)\n",
    "    i += 1"
   ]
  },
  {
   "cell_type": "markdown",
   "id": "751412c0",
   "metadata": {},
   "source": [
    "## Break, Continue\n",
    "- break\n",
    "    - 반복문 순회 도중 break 문을 만나면 내부 블록 벗어남\n",
    "- continue\n",
    "    - 반복문 순회 도중 continue 문을 만나면 그 아래의 문장은 해당 반복에 한해서 건너뛴다."
   ]
  },
  {
   "cell_type": "code",
   "execution_count": 139,
   "id": "89fd01ff",
   "metadata": {},
   "outputs": [
    {
     "name": "stdout",
     "output_type": "stream",
     "text": [
      "1\n",
      "2\n",
      "3\n",
      "4\n",
      "5\n"
     ]
    }
   ],
   "source": [
    "for i in range(1, 11):\n",
    "    if i > 5:\n",
    "        break\n",
    "    print(i)"
   ]
  },
  {
   "cell_type": "code",
   "execution_count": 140,
   "id": "94376cd0",
   "metadata": {},
   "outputs": [
    {
     "name": "stdout",
     "output_type": "stream",
     "text": [
      "1\n",
      "3\n",
      "5\n",
      "7\n",
      "9\n"
     ]
    }
   ],
   "source": [
    "for i in range(1, 11):\n",
    "    if i % 2 == 0:\n",
    "        continue\n",
    "    print(i)"
   ]
  },
  {
   "cell_type": "markdown",
   "id": "b5ff94e9",
   "metadata": {},
   "source": [
    "# List 2"
   ]
  },
  {
   "cell_type": "markdown",
   "id": "22beaf92",
   "metadata": {},
   "source": [
    "## list 관련 함수"
   ]
  },
  {
   "cell_type": "code",
   "execution_count": 141,
   "id": "97b2b44b",
   "metadata": {},
   "outputs": [],
   "source": [
    "# 생성\n",
    "colors = list()"
   ]
  },
  {
   "cell_type": "code",
   "execution_count": 142,
   "id": "0d467c78",
   "metadata": {},
   "outputs": [
    {
     "data": {
      "text/plain": [
       "['red', 'green', 'blue']"
      ]
     },
     "execution_count": 142,
     "metadata": {},
     "output_type": "execute_result"
    }
   ],
   "source": [
    "# 리스트이름.append(x) - 기존 리스트 끝에 x 삽입\n",
    "colors.append(\"red\")\n",
    "colors.append(\"green\")\n",
    "colors.append('blue')\n",
    "colors"
   ]
  },
  {
   "cell_type": "code",
   "execution_count": 143,
   "id": "0da26f36",
   "metadata": {},
   "outputs": [
    {
     "name": "stdout",
     "output_type": "stream",
     "text": [
      "['red', 'green', 'blue', 'purple']\n"
     ]
    },
    {
     "data": {
      "text/plain": [
       "['red', 'green', 'blue']"
      ]
     },
     "execution_count": 143,
     "metadata": {},
     "output_type": "execute_result"
    }
   ],
   "source": [
    "# 리스트이름.remove(x) - 리스트에서 첫 번째로 나오는 x를 제거\n",
    "colors.append(\"purple\")\n",
    "print(colors)\n",
    "colors.remove(\"purple\")\n",
    "colors"
   ]
  },
  {
   "cell_type": "code",
   "execution_count": 144,
   "id": "58491a71",
   "metadata": {},
   "outputs": [
    {
     "data": {
      "text/plain": [
       "['red', 'green']"
      ]
     },
     "execution_count": 144,
     "metadata": {},
     "output_type": "execute_result"
    }
   ],
   "source": [
    "# pop - 제일 뒤에 있는 원소 제거\n",
    "colors.pop()\n",
    "colors"
   ]
  },
  {
   "cell_type": "code",
   "execution_count": 145,
   "id": "4e463be5",
   "metadata": {},
   "outputs": [
    {
     "data": {
      "text/plain": [
       "[1, 2, 5, 7, 9]"
      ]
     },
     "execution_count": 145,
     "metadata": {},
     "output_type": "execute_result"
    }
   ],
   "source": [
    "# 리스트 이름.sort() - 리스트의 항목을 오름차순으로 저력\n",
    "# sorted() 함수는 리턴값이 있고 sort()는 리턴 값이 없다.\n",
    "\n",
    "a = [1,7,9,2,5]\n",
    "a.sort()\n",
    "a"
   ]
  },
  {
   "cell_type": "code",
   "execution_count": 146,
   "id": "f065061c",
   "metadata": {},
   "outputs": [],
   "source": [
    "f = ['banana','apple','orange']\n",
    "f.sort()"
   ]
  },
  {
   "cell_type": "code",
   "execution_count": 148,
   "id": "ef3da6da",
   "metadata": {},
   "outputs": [],
   "source": [
    "a.sort(reverse=True)"
   ]
  },
  {
   "cell_type": "code",
   "execution_count": 151,
   "id": "6ad937f0",
   "metadata": {},
   "outputs": [
    {
     "data": {
      "text/plain": [
       "[9, 7, 5, 2, 1]"
      ]
     },
     "execution_count": 151,
     "metadata": {},
     "output_type": "execute_result"
    }
   ],
   "source": [
    "a = sorted(a,reverse = True) # 기존 값을 남겨두고 정렬하고 싶은경우 sorted 사용 \n",
    "a"
   ]
  },
  {
   "cell_type": "code",
   "execution_count": 152,
   "id": "0ac603b8",
   "metadata": {},
   "outputs": [
    {
     "data": {
      "text/plain": [
       "[True, 23, 45, 372]"
      ]
     },
     "execution_count": 152,
     "metadata": {},
     "output_type": "execute_result"
    }
   ],
   "source": [
    "a = [372, 23, 45, True]\n",
    "\n",
    "a.sort()\n",
    "# True라는 객체가 23보다 작다고 판단되기에 이와 같이 분류됨\n",
    "a"
   ]
  },
  {
   "cell_type": "code",
   "execution_count": 153,
   "id": "15253f92",
   "metadata": {},
   "outputs": [
    {
     "data": {
      "text/plain": [
       "[5, 2, 9, 7, 1]"
      ]
     },
     "execution_count": 153,
     "metadata": {},
     "output_type": "execute_result"
    }
   ],
   "source": [
    "# 리스트이름.reverse( ) - 리스트 항목의 순서를 역순으로 뒤집어 줌\n",
    "a = [1,7,9,2,5]\n",
    "a.reverse( )\n",
    "a"
   ]
  },
  {
   "cell_type": "code",
   "execution_count": 154,
   "id": "9004da96",
   "metadata": {},
   "outputs": [
    {
     "name": "stdout",
     "output_type": "stream",
     "text": [
      "99 21 307\n"
     ]
    }
   ],
   "source": [
    "# 리스트의 최대, 최소, 총합\n",
    "a = [45,87,99,21,55]\n",
    "print(max(a), min(a), sum(a))"
   ]
  },
  {
   "cell_type": "code",
   "execution_count": 158,
   "id": "5837ca1d",
   "metadata": {},
   "outputs": [
    {
     "data": {
      "text/plain": [
       "[2, 7, 9, 2, 5]"
      ]
     },
     "execution_count": 158,
     "metadata": {},
     "output_type": "execute_result"
    }
   ],
   "source": [
    "# 리스트 이름.copy() - 리스트 내용을 복사해줌, a list를 b가 copy하고 b의 정보를 바꾸어도 a는 변하지 않음\n",
    "a = [1,7,9,2,5]\n",
    "b = a\n",
    "b[0] = 2\n",
    "a # a도 바뀜 "
   ]
  },
  {
   "cell_type": "code",
   "execution_count": 159,
   "id": "1ffeb1d4",
   "metadata": {},
   "outputs": [
    {
     "data": {
      "text/plain": [
       "[1, 7, 9, 2, 5]"
      ]
     },
     "execution_count": 159,
     "metadata": {},
     "output_type": "execute_result"
    }
   ],
   "source": [
    "a = [1,7,9,2,5]\n",
    "b = a.copy()\n",
    "b[0] = 2\n",
    "a"
   ]
  },
  {
   "cell_type": "code",
   "execution_count": 161,
   "id": "fa464be8",
   "metadata": {},
   "outputs": [
    {
     "data": {
      "text/plain": [
       "[1, 2, [2, 4]]"
      ]
     },
     "execution_count": 161,
     "metadata": {},
     "output_type": "execute_result"
    }
   ],
   "source": [
    "# 리스트 안에 리스트가 있는 형태일 경우에는 copy를 사용해도 변형됨\n",
    "a = [1,2,[3,4]]\n",
    "b = a.copy()\n",
    "b[2][0] = 2\n",
    "a"
   ]
  },
  {
   "cell_type": "code",
   "execution_count": 163,
   "id": "40ff13c2",
   "metadata": {},
   "outputs": [
    {
     "name": "stdout",
     "output_type": "stream",
     "text": [
      "[1, 2, [2, 4]]\n",
      "[1, 2, [2, 4]]\n",
      "[1, 2, [7, 4]]\n"
     ]
    }
   ],
   "source": [
    "# 위와 같은 경우에는 deepcopy를 사용하면 됨\n",
    "import copy\n",
    "b = copy.deepcopy(a)\n",
    "print(a)\n",
    "b[2][0] = 7\n",
    "print(a)\n",
    "print(b)"
   ]
  },
  {
   "cell_type": "markdown",
   "id": "6c347cef",
   "metadata": {},
   "source": [
    "## 실습1\n",
    "- “done”을 입력할 때까지 사용자로부터 숫자를 입력 받아 리스트에 저장하고,\n",
    "- “done”을 입력하면, 리스트의 평균, 최대값과 최소값을 출력하는 프로그램을 작성하시오. (힌트. sum(), max(), min() 함수를 사용)\n"
   ]
  },
  {
   "cell_type": "code",
   "execution_count": 169,
   "id": "96e810eb",
   "metadata": {},
   "outputs": [
    {
     "name": "stdout",
     "output_type": "stream",
     "text": [
      "Enter a number: 7\n",
      "Enter a number: 2\n",
      "Enter a number: 9\n",
      "Enter a number: 3\n",
      "Enter a number: 5\n",
      "Enter a number: done\n",
      "Average: 5.2\n",
      "Maimum: 9\n",
      "Minimum: 2\n"
     ]
    }
   ],
   "source": [
    "list_a = []\n",
    "ipt = 0\n",
    "while True:\n",
    "    ipt = input(\"Enter a number: \")\n",
    "    if ipt == 'done':\n",
    "        break\n",
    "    list_a.append(int(ipt))\n",
    "print(f\"Average: {(sum(list_a)/len(list_a))}\")\n",
    "print(f\"Maimum: {max(list_a)}\")\n",
    "print(f\"Minimum: {min(list_a)}\")"
   ]
  },
  {
   "cell_type": "code",
   "execution_count": null,
   "id": "0cc82e48",
   "metadata": {},
   "outputs": [],
   "source": []
  }
 ],
 "metadata": {
  "kernelspec": {
   "display_name": "Python 3 (ipykernel)",
   "language": "python",
   "name": "python3"
  },
  "language_info": {
   "codemirror_mode": {
    "name": "ipython",
    "version": 3
   },
   "file_extension": ".py",
   "mimetype": "text/x-python",
   "name": "python",
   "nbconvert_exporter": "python",
   "pygments_lexer": "ipython3",
   "version": "3.8.13"
  },
  "toc": {
   "base_numbering": 1,
   "nav_menu": {},
   "number_sections": true,
   "sideBar": true,
   "skip_h1_title": false,
   "title_cell": "Table of Contents",
   "title_sidebar": "Contents",
   "toc_cell": false,
   "toc_position": {
    "height": "calc(100% - 180px)",
    "left": "10px",
    "top": "150px",
    "width": "288px"
   },
   "toc_section_display": true,
   "toc_window_display": true
  },
  "varInspector": {
   "cols": {
    "lenName": 16,
    "lenType": 16,
    "lenVar": 40
   },
   "kernels_config": {
    "python": {
     "delete_cmd_postfix": "",
     "delete_cmd_prefix": "del ",
     "library": "var_list.py",
     "varRefreshCmd": "print(var_dic_list())"
    },
    "r": {
     "delete_cmd_postfix": ") ",
     "delete_cmd_prefix": "rm(",
     "library": "var_list.r",
     "varRefreshCmd": "cat(var_dic_list()) "
    }
   },
   "types_to_exclude": [
    "module",
    "function",
    "builtin_function_or_method",
    "instance",
    "_Feature"
   ],
   "window_display": false
  }
 },
 "nbformat": 4,
 "nbformat_minor": 5
}
