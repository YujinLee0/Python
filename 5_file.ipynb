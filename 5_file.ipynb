{
 "cells": [
  {
   "cell_type": "markdown",
   "id": "8061286d",
   "metadata": {},
   "source": [
    "## 실습1\n",
    "- 파일에 있는 각각의 단어의 수 구하기"
   ]
  },
  {
   "cell_type": "code",
   "execution_count": 1,
   "id": "2cf7975d",
   "metadata": {},
   "outputs": [
    {
     "name": "stdout",
     "output_type": "stream",
     "text": [
      "{'first': 1, 'line': 3, 'second': 1, 'third': 1}\n"
     ]
    }
   ],
   "source": [
    "f = open('test.txt', 'r')\n",
    "\n",
    "lists = []\n",
    "dicts = {}\n",
    "word = []\n",
    "\n",
    "strs = f.read().split(\"\\n\")\n",
    "\n",
    "for line in strs:\n",
    "    lists.append(line)\n",
    "for l in lists:\n",
    "    _a = l.split(\" \")\n",
    "    for i in range(2):\n",
    "        if _a[i] not in dicts:\n",
    "            dicts[_a[i]] = 1\n",
    "        elif _a[i] in dicts:\n",
    "            dicts[_a[i]] += 1\n",
    "\n",
    "print(dicts)"
   ]
  },
  {
   "cell_type": "markdown",
   "id": "6fa1d205",
   "metadata": {},
   "source": [
    "## 실습2\n",
    "- 파일명을입력받아,해당파일을한줄씩읽어 파일의내용을모두대문 자로 출력하는 프로그램을 작성하시오."
   ]
  },
  {
   "cell_type": "code",
   "execution_count": 3,
   "id": "39009b16",
   "metadata": {},
   "outputs": [
    {
     "name": "stdout",
     "output_type": "stream",
     "text": [
      "Enter a file name: test.txt\n",
      "FIRST LINE\n",
      "\n",
      "SECOND LINE\n",
      "\n",
      "THIRD LINE\n"
     ]
    }
   ],
   "source": [
    "import os\n",
    "\n",
    "file = input(\"Enter a file name: \")\n",
    "if os.path.exists(file) == True:\n",
    "    f = open(file, 'r')\n",
    "    \n",
    "    for line in f:\n",
    "        print(line.upper())\n",
    "    f.close()\n",
    "else:\n",
    "    print(\"파일이 존재하지 않습니다. 이름을 다시한번 확인해주세요\")"
   ]
  },
  {
   "cell_type": "markdown",
   "id": "865710c3",
   "metadata": {},
   "source": [
    "## 실습 4\n",
    "- 아래의 score.txt를 읽어서 학생들의 성적을 처리하여 그 결과를 report.txt로 출력하는 프로그램을 작성하시오."
   ]
  },
  {
   "cell_type": "code",
   "execution_count": 86,
   "id": "28867fb0",
   "metadata": {},
   "outputs": [
    {
     "name": "stdout",
     "output_type": "stream",
     "text": [
      "[['201901', '89', '78', 82.4, 'B'], ['201902', '76', '84', 80.8, 'B'], ['201903', '67', '42', 52.0, 'F'], ['201904', '66', '88', 79.2, 'C'], ['201905', '98', '99', 98.6, 'A']]\n"
     ]
    }
   ],
   "source": [
    "f = open('score.txt', 'r')\n",
    "\n",
    "stdList = []\n",
    "_list = [ ]\n",
    "\n",
    "_a = f.read().split(\"\\n\")\n",
    "\n",
    "for line in _a:\n",
    "    _list.append(line)\n",
    "for l in _list:\n",
    "    _b = l.split(\" \")\n",
    "    stdList.append(_b)\n",
    "#print(stdList)\n",
    "   \n",
    "# for i in range(len(stdList)):\n",
    "for j in stdList:\n",
    "    score = (int(j[1])*0.4) + (int(j[2])*0.6)\n",
    "    if score >= 90:\n",
    "        grade = 'A'\n",
    "    elif score > 80:\n",
    "        grade = 'B'\n",
    "    elif score > 70:\n",
    "        grade = 'C'\n",
    "    elif score > 60:\n",
    "        grade = 'D'\n",
    "    else:\n",
    "        grade = 'F'\n",
    "    j.extend([score, grade])\n",
    "print(stdList)"
   ]
  },
  {
   "cell_type": "code",
   "execution_count": 94,
   "id": "3e699f9d",
   "metadata": {},
   "outputs": [
    {
     "data": {
      "text/plain": [
       "'201901 89 78 82.4(B) \\n201902 76 84 80.8(B) \\n201903 67 42 52.0(F) \\n201904 66 88 79.2(C) \\n201905 98 99 98.6(A) \\n'"
      ]
     },
     "execution_count": 94,
     "metadata": {},
     "output_type": "execute_result"
    }
   ],
   "source": [
    "strs = ''\n",
    "\n",
    "for l in stdList:\n",
    "    strs += str(l[0])+\" \"+ str(l[1])+\" \"+str(l[2])+\" \"+str(l[3])+'('+str(l[4])+\") \\n\"\n",
    "    \n",
    "strs\n",
    "    "
   ]
  },
  {
   "cell_type": "code",
   "execution_count": 95,
   "id": "8d59db05",
   "metadata": {},
   "outputs": [],
   "source": [
    "\n",
    "fw = open(\"report.txt\", 'w')\n",
    "\n",
    "fw.writelines(strs)\n",
    "\n",
    "\n",
    "fw.close()\n",
    "f.close()"
   ]
  },
  {
   "cell_type": "code",
   "execution_count": 96,
   "id": "ccd2a423",
   "metadata": {},
   "outputs": [
    {
     "name": "stdout",
     "output_type": "stream",
     "text": [
      "201901 89 78 82.4(B) \n",
      "201902 76 84 80.8(B) \n",
      "201903 67 42 52.0(F) \n",
      "201904 66 88 79.2(C) \n",
      "201905 98 99 98.6(A) \n"
     ]
    }
   ],
   "source": [
    "fr = open(\"report.txt\", \"r\")\n",
    "\n",
    "for line in fr:\n",
    "    print(line,end='')\n",
    "    \n"
   ]
  },
  {
   "cell_type": "code",
   "execution_count": null,
   "id": "d9a1a17d",
   "metadata": {},
   "outputs": [],
   "source": []
  }
 ],
 "metadata": {
  "kernelspec": {
   "display_name": "Python 3 (ipykernel)",
   "language": "python",
   "name": "python3"
  },
  "language_info": {
   "codemirror_mode": {
    "name": "ipython",
    "version": 3
   },
   "file_extension": ".py",
   "mimetype": "text/x-python",
   "name": "python",
   "nbconvert_exporter": "python",
   "pygments_lexer": "ipython3",
   "version": "3.8.13"
  },
  "toc": {
   "base_numbering": 1,
   "nav_menu": {},
   "number_sections": true,
   "sideBar": true,
   "skip_h1_title": false,
   "title_cell": "Table of Contents",
   "title_sidebar": "Contents",
   "toc_cell": false,
   "toc_position": {},
   "toc_section_display": true,
   "toc_window_display": false
  },
  "varInspector": {
   "cols": {
    "lenName": 16,
    "lenType": 16,
    "lenVar": 40
   },
   "kernels_config": {
    "python": {
     "delete_cmd_postfix": "",
     "delete_cmd_prefix": "del ",
     "library": "var_list.py",
     "varRefreshCmd": "print(var_dic_list())"
    },
    "r": {
     "delete_cmd_postfix": ") ",
     "delete_cmd_prefix": "rm(",
     "library": "var_list.r",
     "varRefreshCmd": "cat(var_dic_list()) "
    }
   },
   "types_to_exclude": [
    "module",
    "function",
    "builtin_function_or_method",
    "instance",
    "_Feature"
   ],
   "window_display": false
  }
 },
 "nbformat": 4,
 "nbformat_minor": 5
}
