{
 "cells": [
  {
   "cell_type": "markdown",
   "id": "8c1942dc",
   "metadata": {},
   "source": [
    "## 실습 7\n",
    "- 숫자로 구성된 리스트를 전달받아 최댓값, 최솟값을 반환하고, 두 수를 리스트에서 제거하는 함수를 작성하시오.\n",
    "- 단, 리스트에 원소는 2개 이상 존재한다고 가정"
   ]
  },
  {
   "cell_type": "code",
   "execution_count": 1,
   "id": "fa3a654a",
   "metadata": {},
   "outputs": [
    {
     "name": "stdout",
     "output_type": "stream",
     "text": [
      "1\n",
      "9\n",
      "[3, 5, 2]\n"
     ]
    }
   ],
   "source": [
    "def get_min_max(l):\n",
    "    maxx = max(l)\n",
    "    minn = min(l)\n",
    "    \n",
    "    l.remove(maxx)\n",
    "    l.remove(minn)\n",
    "    return minn, maxx\n",
    "    \n",
    "l = [3,5,9,1,2]\n",
    "min_val, max_val = get_min_max(l)\n",
    "\n",
    "print(min_val)\n",
    "print(max_val)\n",
    "print(l)"
   ]
  },
  {
   "cell_type": "markdown",
   "id": "86ba8900",
   "metadata": {},
   "source": [
    "## 실습 8\n",
    "\n",
    "- 두 딕셔너리를 전달받아 각 딕셔너리에 등장한 값을 모두 더한 새로운 딕셔너리를 반환하는 함수 comb_dict()를 작성하시오"
   ]
  },
  {
   "cell_type": "code",
   "execution_count": 6,
   "id": "5b97c7f3",
   "metadata": {},
   "outputs": [
    {
     "name": "stdout",
     "output_type": "stream",
     "text": [
      "{'a': 3, 'b': 3, 'd': 7, 'e': 9, 'c': 4}\n"
     ]
    }
   ],
   "source": [
    "def comb_dict(d1, d2):\n",
    "    d3 = d1.copy()\n",
    "    \n",
    "    for i in d2:\n",
    "            if i in d3:\n",
    "                d3[i] += d2[i]\n",
    "            else:\n",
    "                d3[i] = d2[i]\n",
    "    return d3\n",
    "\n",
    "d1 = {'a': 1, 'b': 3, 'd': 7, 'e': 8} \n",
    "d2 = {'a': 2, 'c': 4, 'e': 1}\n",
    "d3 = comb_dict(d1, d2)\n",
    "print(d3)"
   ]
  },
  {
   "cell_type": "markdown",
   "id": "38d6ff54",
   "metadata": {},
   "source": [
    "## 실습 9\n",
    "- 숫자를 2개 이상 입력 받아, 최댓값과 최솟값의 차를 반환하는 함수를 작성하시오."
   ]
  },
  {
   "cell_type": "code",
   "execution_count": 7,
   "id": "d61662cf",
   "metadata": {},
   "outputs": [
    {
     "name": "stdout",
     "output_type": "stream",
     "text": [
      "4\n",
      "300\n"
     ]
    }
   ],
   "source": [
    "def diff(a, b, *c): # 두개 이상의 값을 받아야하므로 매개변수 두개 + *c\n",
    "    list_ = [] \n",
    "    list_.append(a) \n",
    "    list_.append(b)\n",
    "    for i in c:\n",
    "        list_.append(i)\n",
    "    maxx = max(list_)\n",
    "    minn = min(list_)\n",
    "    return maxx - minn\n",
    "\n",
    "print(diff(1,2,3,4,5))\n",
    "print(diff(-100, 200))"
   ]
  },
  {
   "cell_type": "code",
   "execution_count": 8,
   "id": "a595ba89",
   "metadata": {},
   "outputs": [
    {
     "ename": "TypeError",
     "evalue": "diff() missing 1 required positional argument: 'b'",
     "output_type": "error",
     "traceback": [
      "\u001b[0;31m---------------------------------------------------------------------------\u001b[0m",
      "\u001b[0;31mTypeError\u001b[0m                                 Traceback (most recent call last)",
      "Input \u001b[0;32mIn [8]\u001b[0m, in \u001b[0;36m<cell line: 1>\u001b[0;34m()\u001b[0m\n\u001b[0;32m----> 1\u001b[0m \u001b[43mdiff\u001b[49m\u001b[43m(\u001b[49m\u001b[38;5;241;43m1\u001b[39;49m\u001b[43m)\u001b[49m\n",
      "\u001b[0;31mTypeError\u001b[0m: diff() missing 1 required positional argument: 'b'"
     ]
    }
   ],
   "source": [
    "diff(1) # 매개변수를 하나만 지정해주었기에 에러발생"
   ]
  }
 ],
 "metadata": {
  "kernelspec": {
   "display_name": "Python 3 (ipykernel)",
   "language": "python",
   "name": "python3"
  },
  "language_info": {
   "codemirror_mode": {
    "name": "ipython",
    "version": 3
   },
   "file_extension": ".py",
   "mimetype": "text/x-python",
   "name": "python",
   "nbconvert_exporter": "python",
   "pygments_lexer": "ipython3",
   "version": "3.8.13"
  },
  "toc": {
   "base_numbering": 1,
   "nav_menu": {},
   "number_sections": true,
   "sideBar": true,
   "skip_h1_title": false,
   "title_cell": "Table of Contents",
   "title_sidebar": "Contents",
   "toc_cell": false,
   "toc_position": {},
   "toc_section_display": true,
   "toc_window_display": false
  },
  "varInspector": {
   "cols": {
    "lenName": 16,
    "lenType": 16,
    "lenVar": 40
   },
   "kernels_config": {
    "python": {
     "delete_cmd_postfix": "",
     "delete_cmd_prefix": "del ",
     "library": "var_list.py",
     "varRefreshCmd": "print(var_dic_list())"
    },
    "r": {
     "delete_cmd_postfix": ") ",
     "delete_cmd_prefix": "rm(",
     "library": "var_list.r",
     "varRefreshCmd": "cat(var_dic_list()) "
    }
   },
   "types_to_exclude": [
    "module",
    "function",
    "builtin_function_or_method",
    "instance",
    "_Feature"
   ],
   "window_display": false
  }
 },
 "nbformat": 4,
 "nbformat_minor": 5
}
