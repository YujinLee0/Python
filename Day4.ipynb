{
 "cells": [
  {
   "cell_type": "markdown",
   "id": "b8a46d70",
   "metadata": {},
   "source": [
    "## 단일 은행 계좌 모델링"
   ]
  },
  {
   "cell_type": "code",
   "execution_count": 2,
   "id": "3edc992a",
   "metadata": {},
   "outputs": [
    {
     "name": "stdout",
     "output_type": "stream",
     "text": [
      "0\n",
      "500\n",
      "500\n",
      "200\n",
      "200\n"
     ]
    }
   ],
   "source": [
    "balance = 0\n",
    "\n",
    "\n",
    "def deposit(amount):\n",
    "    global balance\n",
    "    balance += amount\n",
    "    return balance\n",
    "\n",
    "def withdraw(amount):\n",
    "    global balance\n",
    "    balance -= amount\n",
    "    return balance\n",
    "\n",
    "\n",
    "print(balance)\n",
    "print(deposit(500))\n",
    "print(balance)\n",
    "print(withdraw(300))\n",
    "print(balance)"
   ]
  },
  {
   "cell_type": "markdown",
   "id": "da9e8d39",
   "metadata": {},
   "source": [
    "## 여러 은행 계좌 모델링"
   ]
  },
  {
   "cell_type": "code",
   "execution_count": 3,
   "id": "91e9031a",
   "metadata": {},
   "outputs": [
    {
     "name": "stdout",
     "output_type": "stream",
     "text": [
      "0\n",
      "0\n",
      "1000\n",
      "2000\n"
     ]
    }
   ],
   "source": [
    "def make_account():\n",
    "    return {'balance': 0}\n",
    "\n",
    "def deposit(account, amount):\n",
    "    account['balance'] += amount\n",
    "    return account['balance']\n",
    "\n",
    "def withdraw(account, amount):\n",
    "    account['balance'] -= amount\n",
    "    return account['balance']\n",
    "\n",
    "a = make_account()\n",
    "b = make_account()\n",
    "print(a['balance'])\n",
    "print(b['balance'])\n",
    "print(deposit(a, 1000))\n",
    "print(deposit(b, 2000))"
   ]
  },
  {
   "cell_type": "markdown",
   "id": "d3e2642f",
   "metadata": {},
   "source": [
    "# 객체 지향 프로그래밍\n",
    "- 프로그래밍 패러다임 중 하나\n",
    "- 객체란 모종의 변수와 메서드를 담는 추상적 개념\n",
    "- 프로그램을 **객체**간의 상호작용으로 서술"
   ]
  },
  {
   "cell_type": "markdown",
   "id": "0add2b98",
   "metadata": {},
   "source": [
    "## Class\n",
    "- 데이터와 함수를 묶어 객체로 만들어주는 개념\n",
    "- 객체의 기반이 되는 틀을 정의하는 개념\n",
    "- 클래스 정의 문법\n",
    "    - 클래스의 정의가 끝날 때 클래스 객체가 생성됨"
   ]
  },
  {
   "cell_type": "markdown",
   "id": "428ec69a",
   "metadata": {},
   "source": [
    "- 클래스는 객체의 기반이 되는 틀을 정의함\n",
    "- 클래스의 구성 요소 (어트리뷰트)\n",
    "    - 변수 (데이터 어트리뷰트)\n",
    "    - 메서드 (메서드 어트리뷰트)"
   ]
  },
  {
   "cell_type": "code",
   "execution_count": 4,
   "id": "d1e8460a",
   "metadata": {},
   "outputs": [],
   "source": [
    "class Dog:\n",
    "    \"\"\"A simlple example class\"\"\"\n",
    "    name = 'Mongja'\n",
    "    \n",
    "    def bark(self):\n",
    "        return 'Bow wow'\n",
    "\n",
    "dog1 = Dog() # 인스턴스 만들기 (클래스 객체를 이용하여 case 생성)"
   ]
  },
  {
   "cell_type": "code",
   "execution_count": 5,
   "id": "b7fb4325",
   "metadata": {},
   "outputs": [
    {
     "data": {
      "text/plain": [
       "<bound method Dog.bark of <__main__.Dog object at 0x7fa4721a1610>>"
      ]
     },
     "execution_count": 5,
     "metadata": {},
     "output_type": "execute_result"
    }
   ],
   "source": [
    "# 인스턴스 객체는 오직 한가지 연산만 가능\n",
    "dog1.bark"
   ]
  },
  {
   "cell_type": "code",
   "execution_count": 6,
   "id": "3caa17ba",
   "metadata": {},
   "outputs": [
    {
     "data": {
      "text/plain": [
       "'Bow wow'"
      ]
     },
     "execution_count": 6,
     "metadata": {},
     "output_type": "execute_result"
    }
   ],
   "source": [
    "dog1.bark()"
   ]
  },
  {
   "cell_type": "code",
   "execution_count": 8,
   "id": "1db617be",
   "metadata": {},
   "outputs": [],
   "source": [
    "dog1.age = 2"
   ]
  },
  {
   "cell_type": "markdown",
   "id": "cb108f43",
   "metadata": {},
   "source": [
    "## Method Object(메서드 객체)\n",
    "- 일반 함수 객체와 달리 클래스에 종속되어 있는 함수를 지칭\n",
    "- 대상이 되는 객체가 있어야 사용하며 모든 메서드는 첫번째 인자가 항상 존재하여야 함 => self"
   ]
  },
  {
   "cell_type": "markdown",
   "id": "d86b4054",
   "metadata": {},
   "source": [
    "## Special Method (특수 메서드)\n",
    "- 특징\n",
    "    - 항상 ____메서드 이름 ____과 같은 이름을 가짐\n",
    "    - 내장 함수와 동일하게 미리 동작이 정의되어 있음\n",
    "    - 일반적인 메서드의 사용 방법과는 다르게 자동으로 작동함"
   ]
  },
  {
   "cell_type": "code",
   "execution_count": 11,
   "id": "deb94695",
   "metadata": {},
   "outputs": [],
   "source": [
    "# 가장 대표적인 특수 메서드 __init__\n",
    "# 인스턴스 생성시 자동으로 호출되는 메서드. 인스턴스가 갖게 될 여러 어트리뷰트를 전해주는 역할\n",
    "\n",
    "class Sample:\n",
    "    def __init__(self):\n",
    "        # statement\n",
    "        print(\"init 함수가 호출되었네요!\")\n",
    "        return None # 무조건 return은 None이어야 함. 또는 생략 가능"
   ]
  },
  {
   "cell_type": "code",
   "execution_count": 12,
   "id": "71c27d17",
   "metadata": {},
   "outputs": [
    {
     "name": "stdout",
     "output_type": "stream",
     "text": [
      "init 함수가 호출되었네요!\n"
     ]
    }
   ],
   "source": [
    "a = Sample( )"
   ]
  },
  {
   "cell_type": "code",
   "execution_count": 13,
   "id": "60406352",
   "metadata": {},
   "outputs": [],
   "source": [
    "class Building:\n",
    "    name = '공학1동'\n",
    "    h = 3\n",
    "    elev = True\n",
    "    \n",
    "    def get_info(self):\n",
    "        print(\"Building Name: \", self.name)\n",
    "        print(\"Floor: \", self.h)\n",
    "        print(\"Elevator: \", self.elev)"
   ]
  },
  {
   "cell_type": "code",
   "execution_count": 17,
   "id": "2f326afc",
   "metadata": {},
   "outputs": [],
   "source": [
    "a = Building()\n",
    "b = Building()"
   ]
  },
  {
   "cell_type": "code",
   "execution_count": 15,
   "id": "ba876358",
   "metadata": {},
   "outputs": [
    {
     "name": "stdout",
     "output_type": "stream",
     "text": [
      "Building Name:  공학1동\n",
      "Floor:  3\n",
      "Elevator:  True\n",
      "\n",
      "Building Name:  공학1동\n",
      "Floor:  3\n",
      "Elevator:  True\n"
     ]
    }
   ],
   "source": [
    "a.get_info()\n",
    "print()\n",
    "b.get_info()"
   ]
  },
  {
   "cell_type": "code",
   "execution_count": 18,
   "id": "a502ed63",
   "metadata": {},
   "outputs": [],
   "source": [
    "class Building:\n",
    "    def __init__(self, name='공학1동',h = 3, elev=True):\n",
    "        self.name = name\n",
    "        self.h = h\n",
    "        self.elev = elev\n",
    "    \n",
    "    def get_info(self):\n",
    "        print(\"Building Name: \", self.name)\n",
    "        print(\"Floor: \", self.h)\n",
    "        print(\"Elevator: \", self.elev)"
   ]
  },
  {
   "cell_type": "code",
   "execution_count": 19,
   "id": "ccf7878d",
   "metadata": {},
   "outputs": [],
   "source": [
    "a = Building()\n",
    "b = Building('공학2동', 10, True)"
   ]
  },
  {
   "cell_type": "code",
   "execution_count": 20,
   "id": "7672991c",
   "metadata": {},
   "outputs": [
    {
     "name": "stdout",
     "output_type": "stream",
     "text": [
      "Building Name:  공학1동\n",
      "Floor:  3\n",
      "Elevator:  True\n",
      "\n",
      "Building Name:  공학2동\n",
      "Floor:  10\n",
      "Elevator:  True\n"
     ]
    }
   ],
   "source": [
    "a.get_info()\n",
    "print()\n",
    "b.get_info()"
   ]
  },
  {
   "cell_type": "markdown",
   "id": "f91ba5ae",
   "metadata": {},
   "source": [
    "## 실습"
   ]
  },
  {
   "cell_type": "code",
   "execution_count": 31,
   "id": "60b6a303",
   "metadata": {},
   "outputs": [
    {
     "name": "stdout",
     "output_type": "stream",
     "text": [
      "24\n",
      "215\n",
      "40\n",
      "Hong Kill-Dong님의 나이는 24세이며 현재 키는 215cm, 몸무게는 40kg 입니다.\n"
     ]
    }
   ],
   "source": [
    "class Student:\n",
    "    def __init__(self, name, age, h, w):\n",
    "        self.name = name\n",
    "        self.age = age\n",
    "        self.h = h\n",
    "        self.w = w\n",
    "    \n",
    "    def older(self):\n",
    "        self.age += 1\n",
    "        print(self.age)\n",
    "    \n",
    "    def growUp(self, a):\n",
    "        self.h += a\n",
    "        print(self.h)\n",
    "    \n",
    "    def loseW(self, b):\n",
    "        self.w += b\n",
    "        print(self.w)\n",
    "        \n",
    "    def getInfo(self):\n",
    "        print(f\"{self.name}님의 나이는 {self.age}세이며 현재 키는 {self.h}cm, 몸무게는 {self.w}kg 입니다.\")\n",
    "        \n",
    "gd = Student('Hong Kill-Dong', 23, 200, 50)\n",
    "\n",
    "gd.older()\n",
    "gd.growUp(15)\n",
    "gd.loseW(-10)\n",
    "gd.getInfo()"
   ]
  },
  {
   "cell_type": "markdown",
   "id": "8a850315",
   "metadata": {},
   "source": [
    "## Self\n",
    "- 인스턴스의 직관적인 사용 및 사용자의 편의 도모"
   ]
  },
  {
   "cell_type": "code",
   "execution_count": 24,
   "id": "e51846c3",
   "metadata": {},
   "outputs": [],
   "source": [
    "class Dog:\n",
    "    def __init__(self, name, age):\n",
    "        self.name = name\n",
    "        self.age = age\n",
    "        \n",
    "    def print_name_age(self):\n",
    "        print(self.name, self.age)"
   ]
  },
  {
   "cell_type": "code",
   "execution_count": 26,
   "id": "33091103",
   "metadata": {},
   "outputs": [],
   "source": [
    "d1 = Dog('Yomi', 5)\n",
    "d2 = Dog('DangDanges', 2말함)"
   ]
  },
  {
   "cell_type": "code",
   "execution_count": 27,
   "id": "8db420db",
   "metadata": {},
   "outputs": [
    {
     "name": "stdout",
     "output_type": "stream",
     "text": [
      "Yomi 5\n",
      "DangDanges 2\n",
      "Yomi 5\n",
      "DangDanges 2\n"
     ]
    }
   ],
   "source": [
    "Dog.print_name_age(d1)\n",
    "Dog.print_name_age(d2)\n",
    "\n",
    "# 위와 아래의 값은 동일한 결과를 가짐\n",
    "\n",
    "d1.print_name_age()\n",
    "d2.print_name_age()"
   ]
  },
  {
   "cell_type": "markdown",
   "id": "117f2a67",
   "metadata": {},
   "source": [
    "## 클래스와 인스턴스 데이터\n",
    "- 인스턴스 데이터 \n",
    "    - 인스턴스가 가지는 데이터\n",
    "- 클래스 데이터 \n",
    "    - 클래스의 모든 인스턴스가 공유하는 데이터, 메서드 어트리뷰트를 말함\n",
    "    - 변경시 새로운 변수 생성 및 해당 클래스 변수에 귀속"
   ]
  },
  {
   "cell_type": "code",
   "execution_count": 28,
   "id": "ccebe6a4",
   "metadata": {},
   "outputs": [
    {
     "data": {
      "text/plain": [
       "'Buddy'"
      ]
     },
     "execution_count": 28,
     "metadata": {},
     "output_type": "execute_result"
    }
   ],
   "source": [
    "class Dog:\n",
    "    \n",
    "    kind = 'canine'\n",
    "    \n",
    "    def __init__(self, name):\n",
    "        self.name = name\n",
    "    \n",
    "d = Dog('Fido')\n",
    "e = Dog('Buddy')\n",
    "\n",
    "# class data - kind와 같은 클래스 변수는 값 수정 불가능(immutable)\n",
    "d.kind\n",
    "# instance data\n",
    "e.name"
   ]
  },
  {
   "cell_type": "markdown",
   "id": "04e7471a",
   "metadata": {},
   "source": [
    "## 실습 문제 1\n",
    "- 은행 계좌 클래스 만들기 "
   ]
  },
  {
   "cell_type": "code",
   "execution_count": 35,
   "id": "6a6547a0",
   "metadata": {},
   "outputs": [
    {
     "name": "stdout",
     "output_type": "stream",
     "text": [
      "310000원이 입금되어 현재 잔액는 410000원 입니다.\n",
      "25000원이 출금되어 현재 잔액은 385000원 입니다.\n",
      "현재 lee yu jin님의 계좌 잔액은 385000입니다.\n",
      "계좌 잔액이 부족합니다.\n"
     ]
    }
   ],
   "source": [
    "class BankAccount:\n",
    "    def __init__(self, balance=0, name='None'):\n",
    "        self.balance = balance\n",
    "        self.name = name\n",
    "    \n",
    "    def deposit(self, amount):\n",
    "        self.balance += amount\n",
    "        print(f\"{amount}원이 입금되어 현재 잔액는 {self.balance}원 입니다.\")\n",
    "    \n",
    "    def withdraw(self, amount):\n",
    "        if self.balance >= amount:\n",
    "            self.balance -= amount\n",
    "            print(f\"{amount}원이 출금되어 현재 잔액은 {self.balance}원 입니다.\")\n",
    "        else:\n",
    "            print(\"계좌 잔액이 부족합니다.\")\n",
    "    \n",
    "    def get_info(self):\n",
    "        print(f\"현재 {self.name}님의 계좌 잔액은 {self.balance}입니다.\")\n",
    "\n",
    "\n",
    "no1 = BankAccount(100000, \"lee yu jin\")\n",
    "no1.deposit(310000)\n",
    "no1.withdraw(25000)\n",
    "no1.get_info()\n",
    "no1.withdraw(10000000)"
   ]
  },
  {
   "cell_type": "markdown",
   "id": "133f66a5",
   "metadata": {},
   "source": [
    "## Inheritance"
   ]
  },
  {
   "cell_type": "code",
   "execution_count": 36,
   "id": "d0ad4279",
   "metadata": {},
   "outputs": [],
   "source": [
    "class A:\n",
    "    a = 1\n",
    "    def print_a(self):\n",
    "        print(\"A Class\")"
   ]
  },
  {
   "cell_type": "code",
   "execution_count": 38,
   "id": "bd9ae37f",
   "metadata": {},
   "outputs": [],
   "source": [
    "class B:\n",
    "    b = 1\n",
    "    def print_b(self):\n",
    "        print(\"B Class\")"
   ]
  },
  {
   "cell_type": "code",
   "execution_count": 39,
   "id": "ae21716d",
   "metadata": {},
   "outputs": [],
   "source": [
    "class C:\n",
    "    c = 1\n",
    "    def print_c(self):\n",
    "        print(\"C Class\")"
   ]
  },
  {
   "cell_type": "code",
   "execution_count": 40,
   "id": "98a8d490",
   "metadata": {},
   "outputs": [],
   "source": [
    "class D(C, B):\n",
    "    d = 1\n",
    "    def print_d(self):\n",
    "        print(\"D Class\")"
   ]
  },
  {
   "cell_type": "code",
   "execution_count": 42,
   "id": "553d1927",
   "metadata": {},
   "outputs": [],
   "source": [
    "c = C()\n",
    "d = D()\n"
   ]
  },
  {
   "cell_type": "code",
   "execution_count": 43,
   "id": "666a70ab",
   "metadata": {},
   "outputs": [
    {
     "data": {
      "text/plain": [
       "[__main__.D, __main__.C, __main__.B, object]"
      ]
     },
     "execution_count": 43,
     "metadata": {},
     "output_type": "execute_result"
    }
   ],
   "source": [
    "D.mro() # Method Resolution Order : 메소드 결정 순서 "
   ]
  },
  {
   "cell_type": "markdown",
   "id": "31665ffc",
   "metadata": {},
   "source": [
    "## Method Overriding\n",
    "- 기존 클래스 메서드를 상속 클래스에서 재정의 하는 것"
   ]
  },
  {
   "cell_type": "code",
   "execution_count": 44,
   "id": "d72259a1",
   "metadata": {},
   "outputs": [],
   "source": [
    "class A():\n",
    "    def __init__(self):\n",
    "        print(\"This is [A] class and [__init__] function\")\n",
    "        self.var1 = 0\n",
    "        self.var2 = 0\n",
    "\n",
    "class B(A):\n",
    "    def __init__(self):\n",
    "        super().__init__()\n",
    "        print(\"this is [B] class and [__init__] function\")\n",
    "        self.var3 = 0\n",
    "        self.var4 = 0\n",
    "        "
   ]
  },
  {
   "cell_type": "code",
   "execution_count": 45,
   "id": "3e594687",
   "metadata": {},
   "outputs": [
    {
     "name": "stdout",
     "output_type": "stream",
     "text": [
      "This is [A] class and [__init__] function\n",
      "This is [A] class and [__init__] function\n",
      "this is [B] class and [__init__] function\n"
     ]
    }
   ],
   "source": [
    "a = A()\n",
    "b = B() # B는 A를 상속받기에 A의 init과도 같이 연결됨. "
   ]
  },
  {
   "cell_type": "markdown",
   "id": "8f3ca8c6",
   "metadata": {},
   "source": [
    "## 실습 문제 2"
   ]
  },
  {
   "cell_type": "code",
   "execution_count": 49,
   "id": "9878fc1b",
   "metadata": {},
   "outputs": [
    {
     "name": "stdout",
     "output_type": "stream",
     "text": [
      "1000원이 입금되어 현재 잔액는 1000원 입니다.\n",
      "최소 잔액을 유지해야 합니다.\n",
      "40000원이 입금되어 현재 잔액는 41000원 입니다.\n",
      "5000원이 출금되어 현재 잔액은 36000원 입니다.\n"
     ]
    }
   ],
   "source": [
    "class BankAccount:\n",
    "    def __init__(self, balance=0, name=\"None\"):\n",
    "        self.balance = balance\n",
    "        self.name = name\n",
    "    \n",
    "    def deposit(self, amount):\n",
    "        self.balance += amount\n",
    "        print(f\"{amount}원이 입금되어 현재 잔액는 {self.balance}원 입니다.\")\n",
    "    \n",
    "    def withdraw(self, amount):\n",
    "        if self.balance >= amount:\n",
    "            self.balance -= amount\n",
    "            print(f\"{amount}원이 출금되어 현재 잔액은 {self.balance}원 입니다.\")\n",
    "        else:\n",
    "            print(\"계좌 잔액이 부족합니다.\")\n",
    "    \n",
    "    def get_info(self):\n",
    "        print(f\"현재 {self.name}님의 계좌 잔액은 {self.balance}입니다.\")\n",
    "        \n",
    "class MinimumBalanceAccount(BankAccount):\n",
    "    def __init__(self, balance=0, name='none', minbal = 0):\n",
    "        super().__init__() # 부모 클래스의 init함수를 가져왔기에 따로 또 정의해주지 않아도 됨\n",
    "        self.minbal = minbal\n",
    "        \n",
    "    def withdraw(self, amount):\n",
    "        if self.balance >= amount:\n",
    "            if (self.balance - amount) >= self.minbal:\n",
    "                self.balance -= amount\n",
    "                print(f\"{amount}원이 출금되어 현재 잔액은 {self.balance}원 입니다.\")\n",
    "            else:\n",
    "                print(\"최소 잔액을 유지해야 합니다.\")\n",
    "                \n",
    "        else:\n",
    "            print(\"계좌 잔액이 부족합니다.\")\n",
    "    \n",
    "acc = MinimumBalanceAccount(500, \"Kim\", 1000)\n",
    "acc.deposit(1000)\n",
    "acc.withdraw(600)\n",
    "acc.deposit(40000)\n",
    "acc.withdraw(5000)"
   ]
  },
  {
   "cell_type": "code",
   "execution_count": 50,
   "id": "65e1198f",
   "metadata": {},
   "outputs": [
    {
     "ename": "IndentationError",
     "evalue": "unexpected indent (2366503211.py, line 2)",
     "output_type": "error",
     "traceback": [
      "\u001b[0;36m  Input \u001b[0;32mIn [50]\u001b[0;36m\u001b[0m\n\u001b[0;31m    def withdraw(self, amount):\u001b[0m\n\u001b[0m    ^\u001b[0m\n\u001b[0;31mIndentationError\u001b[0m\u001b[0;31m:\u001b[0m unexpected indent\n"
     ]
    }
   ],
   "source": [
    "# Answer\n",
    "    def withdraw(self, amount):\n",
    "        if self.balance - amount < self.minbal:\n",
    "            print(\"최소 잔액을 유지해야 합니다.\")\n",
    "        else:\n",
    "            self.balance -= amount"
   ]
  },
  {
   "cell_type": "markdown",
   "id": "aa17ad74",
   "metadata": {},
   "source": [
    "## Operator Overloading\n",
    "- Python의 연산자는 모두 내장된 특수 메소드를 호출함"
   ]
  },
  {
   "cell_type": "code",
   "execution_count": null,
   "id": "3b32e682",
   "metadata": {},
   "outputs": [],
   "source": []
  }
 ],
 "metadata": {
  "kernelspec": {
   "display_name": "Python 3 (ipykernel)",
   "language": "python",
   "name": "python3"
  },
  "language_info": {
   "codemirror_mode": {
    "name": "ipython",
    "version": 3
   },
   "file_extension": ".py",
   "mimetype": "text/x-python",
   "name": "python",
   "nbconvert_exporter": "python",
   "pygments_lexer": "ipython3",
   "version": "3.9.12"
  },
  "toc": {
   "base_numbering": 1,
   "nav_menu": {},
   "number_sections": true,
   "sideBar": true,
   "skip_h1_title": false,
   "title_cell": "Table of Contents",
   "title_sidebar": "Contents",
   "toc_cell": false,
   "toc_position": {},
   "toc_section_display": true,
   "toc_window_display": true
  },
  "varInspector": {
   "cols": {
    "lenName": 16,
    "lenType": 16,
    "lenVar": 40
   },
   "kernels_config": {
    "python": {
     "delete_cmd_postfix": "",
     "delete_cmd_prefix": "del ",
     "library": "var_list.py",
     "varRefreshCmd": "print(var_dic_list())"
    },
    "r": {
     "delete_cmd_postfix": ") ",
     "delete_cmd_prefix": "rm(",
     "library": "var_list.r",
     "varRefreshCmd": "cat(var_dic_list()) "
    }
   },
   "types_to_exclude": [
    "module",
    "function",
    "builtin_function_or_method",
    "instance",
    "_Feature"
   ],
   "window_display": false
  }
 },
 "nbformat": 4,
 "nbformat_minor": 5
}
